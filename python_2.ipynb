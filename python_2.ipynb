{
 "cells": [
  {
   "cell_type": "markdown",
   "metadata": {},
   "source": [
    "# Python (II)"
   ]
  },
  {
   "cell_type": "markdown",
   "metadata": {},
   "source": [
    "Advanced programming"
   ]
  },
  {
   "cell_type": "markdown",
   "metadata": {},
   "source": [
    "Functions"
   ]
  },
  {
   "cell_type": "code",
   "execution_count": 8,
   "metadata": {},
   "outputs": [],
   "source": [
    "import numpy as np\n",
    "import matplotlib.pyplot as plt\n",
    "import random\n",
    "from datetime import datetime"
   ]
  },
  {
   "cell_type": "markdown",
   "metadata": {},
   "source": [
    "Functions - abstract a bit of the code away\n",
    "\n",
    "You put some very often used bits of code in a function, so you don't have to write them out again and again, you just use the name of the function to call them. \n",
    "\n",
    "They are defined using the `def` keyword, short for define.\n"
   ]
  },
  {
   "cell_type": "code",
   "execution_count": 21,
   "metadata": {},
   "outputs": [
    {
     "name": "stdout",
     "output_type": "stream",
     "text": [
      "['Chloe', 'Leela', 'Penelope', 'Nicola', 'Nicky', 'Vimpto', 'Lasagne', 'Jaya', 'Sophia', 'Sofia']\n",
      "['Chloe', 'Leela', 'Penelope', 'Nicola', 'Nicky', 'Vimpto', 'Lasagne', 'Jaya', 'Sophia', 'Sofia']\n",
      "['Chloe', 'Leela', 'Penelope', 'Nicola', 'Nicky', 'Vimpto', 'Lasagne', 'Jaya', 'Sophia', 'Sofia']\n",
      "['Chloe', 'Leela', 'Penelope', 'Nicola', 'Nicky', 'Vimpto', 'Lasagne', 'Jaya', 'Sophia', 'Sofia']\n",
      "['Chloe', 'Leela', 'Penelope', 'Nicola', 'Nicky', 'Vimpto', 'Lasagne', 'Jaya', 'Sophia', 'Sofia']\n",
      "['Chloe', 'Leela', 'Penelope', 'Nicola', 'Nicky', 'Vimpto', 'Lasagne', 'Jaya', 'Sophia', 'Sofia']\n",
      "['Chloe', 'Leela', 'Penelope', 'Nicola', 'Nicky', 'Vimpto', 'Lasagne', 'Jaya', 'Sophia', 'Sofia']\n",
      "['Chloe', 'Leela', 'Penelope', 'Nicola', 'Nicky', 'Vimpto', 'Lasagne', 'Jaya', 'Sophia', 'Sofia']\n",
      "['Chloe', 'Leela', 'Penelope', 'Nicola', 'Nicky', 'Vimpto', 'Lasagne', 'Jaya', 'Sophia', 'Sofia']\n",
      "['Chloe', 'Leela', 'Penelope', 'Nicola', 'Nicky', 'Vimpto', 'Lasagne', 'Jaya', 'Sophia', 'Sofia']\n"
     ]
    },
    {
     "data": {
      "text/plain": [
       "False"
      ]
     },
     "execution_count": 21,
     "metadata": {},
     "output_type": "execute_result"
    }
   ],
   "source": [
    "def is_friend(name, lst, show=False):\n",
    "    \"\"\"\n",
    "    checks a list to see if you are my friend today\n",
    "    \"\"\"\n",
    "    for friend in lst:\n",
    "        if show:\n",
    "            print(lst)\n",
    "        if name == friend:\n",
    "            return True\n",
    "    return False\n",
    "\n",
    "friends = ['Chloe', 'Leela', 'Penelope', 'Nicola', 'Nicky', 'Vimpto', 'Lasagne', 'Jaya', 'Sophia', 'Sofia']\n",
    "\n",
    "is_friend('Fred', friends, show=True)"
   ]
  },
  {
   "cell_type": "markdown",
   "metadata": {},
   "source": [
    "This is an iterative algorithm, it goes through the list one by one."
   ]
  },
  {
   "cell_type": "code",
   "execution_count": 28,
   "metadata": {},
   "outputs": [
    {
     "name": "stdout",
     "output_type": "stream",
     "text": [
      "['Chloe', 'Jaya', 'Lasagne', 'Leela', 'Nicky', 'Nicola', 'Penelope', 'Sofia', 'Sophia', 'Vimpto']\n",
      "['Chloe', 'Jaya', 'Lasagne', 'Leela', 'Nicky', 'Nicola', 'Penelope', 'Sofia', 'Sophia', 'Vimpto']\n",
      "['Nicola', 'Penelope', 'Sofia', 'Sophia', 'Vimpto']\n",
      "['Sofia', 'Sophia', 'Vimpto']\n",
      "['Sophia', 'Vimpto']\n",
      "['Sophia']\n"
     ]
    },
    {
     "data": {
      "text/plain": [
       "False"
      ]
     },
     "execution_count": 28,
     "metadata": {},
     "output_type": "execute_result"
    }
   ],
   "source": [
    "def is_friend_sorted(name, lst, show=False):\n",
    "    \"\"\"\n",
    "    checks a list to see if you are my friend today - list is sorted\n",
    "    \"\"\"\n",
    "    found = False\n",
    "    while not found:\n",
    "        if show:\n",
    "            print(lst)\n",
    "        if len(lst)==1:\n",
    "            return name==lst[0]\n",
    "        else:       \n",
    "            ind = len(lst)//2\n",
    "            if lst[ind]>name:\n",
    "                lst = lst[:ind]\n",
    "            else:\n",
    "                lst = lst[ind:]\n",
    "    return False\n",
    "\n",
    "friends = ['Chloe', 'Leela', 'Penelope', 'Nicola', 'Nicky', 'Vimpto', 'Lasagne', 'Jaya', 'Sophia', 'Sofia']\n",
    "\n",
    "friends.sort()\n",
    "print(friends)\n",
    "is_friend_sorted('Steve', friends, show=True)\n",
    "\n"
   ]
  },
  {
   "cell_type": "code",
   "execution_count": 34,
   "metadata": {},
   "outputs": [
    {
     "name": "stdout",
     "output_type": "stream",
     "text": [
      "find unsorted - time taken = 0:00:00.238151\n",
      "sorting - time taken = 0:00:00.096969\n",
      "find sorted - time taken = 0:00:00.000083\n"
     ]
    }
   ],
   "source": [
    "lst = np.random.rand(int(1e6))\n",
    "num = np.random.rand()\n",
    "t1 = datetime.now()\n",
    "is_friend(num, lst)\n",
    "t2 = datetime.now()\n",
    "lst.sort()\n",
    "t3 = datetime.now()\n",
    "is_friend_sorted(num, lst)\n",
    "t4 = datetime.now()\n",
    "print(f\"find unsorted - time taken = {t2-t1}\")\n",
    "print(f\"sorting - time taken = {t3-t2}\")\n",
    "print(f\"find sorted - time taken = {t4-t3}\")"
   ]
  },
  {
   "cell_type": "code",
   "execution_count": null,
   "metadata": {},
   "outputs": [],
   "source": []
  },
  {
   "cell_type": "markdown",
   "metadata": {},
   "source": [
    "The next algorithm checks to see if something is a palindrome"
   ]
  },
  {
   "cell_type": "code",
   "execution_count": 17,
   "metadata": {},
   "outputs": [
    {
     "name": "stdout",
     "output_type": "stream",
     "text": [
      "a a\n",
      "b b\n",
      "l l\n",
      "e e\n",
      "   \n",
      "w w\n",
      "a a\n",
      "s s\n",
      "   \n",
      "i i\n",
      "   \n",
      "e e\n",
      "x r\n"
     ]
    },
    {
     "data": {
      "text/plain": [
       "False"
      ]
     },
     "execution_count": 17,
     "metadata": {},
     "output_type": "execute_result"
    }
   ],
   "source": [
    "def is_palindrome(long_string):\n",
    "    \"\"\"\n",
    "    checks a string to see if it is a palindrome\n",
    "    \"\"\"\n",
    "    for i in range(len(long_string)//2):\n",
    "        print(long_string[i], long_string[-(i+1)])\n",
    "        if long_string[i] != long_string[-(i+1)]:\n",
    "            return False\n",
    "    return True\n",
    "    \n",
    "is_palindrome('able was i ere i saw elba')"
   ]
  },
  {
   "cell_type": "markdown",
   "metadata": {},
   "source": [
    "Recursion"
   ]
  },
  {
   "cell_type": "markdown",
   "metadata": {},
   "source": [
    "A function can break the problem up in to smaller chunks and solve them all separately, one way to do this is recursion, where the function can call itself to help."
   ]
  },
  {
   "cell_type": "markdown",
   "metadata": {},
   "source": [
    "This function first checks the base case, is the list empty? if it is, then the friend is not on the list. Then it checks the next base case, does the list have one member? if so, return if that member is the name youre looking for. "
   ]
  },
  {
   "cell_type": "code",
   "execution_count": 27,
   "metadata": {},
   "outputs": [
    {
     "data": {
      "text/plain": [
       "12"
      ]
     },
     "execution_count": 27,
     "metadata": {},
     "output_type": "execute_result"
    }
   ],
   "source": [
    "def mult(a, b):\n",
    "    if b == 1:\n",
    "       return a\n",
    "    else:\n",
    "        return a + mult(a, b-1)\n",
    "    \n",
    "mult(3,4)"
   ]
  },
  {
   "cell_type": "markdown",
   "metadata": {},
   "source": [
    "You can check for palindromes too this way.."
   ]
  },
  {
   "cell_type": "markdown",
   "metadata": {},
   "source": [
    "For example, instead of iterating though the list one by one, like the `is_friend` function above, we can break it down in to a base case, and solve recursively"
   ]
  },
  {
   "cell_type": "code",
   "execution_count": 23,
   "metadata": {},
   "outputs": [
    {
     "data": {
      "text/plain": [
       "False"
      ]
     },
     "execution_count": 23,
     "metadata": {},
     "output_type": "execute_result"
    }
   ],
   "source": [
    "def is_palindrome_recursive(long_string):\n",
    "    \"\"\"\n",
    "    returns True if string is a palindrome, otherwise false\n",
    "    \"\"\"\n",
    "    if len(long_string) <= 1:\n",
    "        return True\n",
    "    return long_string[0] == long_string[-1] and is_palindrome_recursive(long_string[1:-1])\n",
    "\n",
    "is_palindrome_recursive('able was i ere i saw elba')"
   ]
  },
  {
   "cell_type": "markdown",
   "metadata": {},
   "source": [
    "To Do:\n",
    "The following is pseudocode for an algoirthm that finds elements in a sorted list\n",
    "\n",
    "- see if list is empty, return False\n",
    "- see if list has one member in it - returns if that member is the element youre looking for\n",
    "- otherwise see if the element is larger than that half way up the list \n",
    "- if it is, look for it in the top half of the list\n",
    "- otherwise look for it in the bottom half of the list. \n"
   ]
  },
  {
   "cell_type": "code",
   "execution_count": null,
   "metadata": {},
   "outputs": [],
   "source": [
    "def is_friend_recursive(name, lst):\n",
    "    \"\"\"\n",
    "    sees if name is on list\n",
    "    \"\"\"\n",
    "    if lst == []: # is list empty?\n",
    "        return False\n",
    "    if len(lst) == 1: # does the list have only one member?\n",
    "        return lst[0] == name\n",
    "    else:\n",
    "        return is_friend_recursive(name, lst[:-1])\n",
    "    \n",
    "\n",
    "is_friend_recursive('Fred', friends)"
   ]
  },
  {
   "cell_type": "markdown",
   "metadata": {},
   "source": [
    "Towers of Hanoi..\n",
    "\n",
    "Can be solved recursively "
   ]
  },
  {
   "cell_type": "markdown",
   "metadata": {},
   "source": []
  },
  {
   "cell_type": "markdown",
   "metadata": {},
   "source": [
    "# Lambda"
   ]
  },
  {
   "cell_type": "markdown",
   "metadata": {},
   "source": [
    "This is a way of making an anonymous function"
   ]
  },
  {
   "cell_type": "markdown",
   "metadata": {},
   "source": [
    "For example, you might want to calculate the coordinates along a straight line, `y = mx + c`\n",
    "\n",
    "You can use a lambda function inside another function. "
   ]
  },
  {
   "cell_type": "code",
   "execution_count": 28,
   "metadata": {},
   "outputs": [
    {
     "data": {
      "image/png": "[encoded data removed]",
      "text/plain": [
       "<Figure size 432x288 with 1 Axes>"
      ]
     },
     "metadata": {
      "needs_background": "light"
     },
     "output_type": "display_data"
    }
   ],
   "source": [
    "def affine(m, c):\n",
    "    return lambda x:m*x+c\n",
    "\n",
    "\n",
    "fn = affine(2, -3)\n",
    "x = np.arange(10)\n",
    "y = fn(x)\n",
    "plt.plot(x, y)\n",
    "plt.grid()"
   ]
  },
  {
   "cell_type": "markdown",
   "metadata": {},
   "source": [
    "To do: Do this for a quadratic equation, make a function called quad\n",
    "then plot the results\n",
    "mae sure it will work for any given value of `a`, `b`, and `c`\n"
   ]
  },
  {
   "cell_type": "code",
   "execution_count": 29,
   "metadata": {},
   "outputs": [
    {
     "data": {
      "image/png": "[encoded data removed]",
      "text/plain": [
       "<Figure size 432x288 with 1 Axes>"
      ]
     },
     "metadata": {
      "needs_background": "light"
     },
     "output_type": "display_data"
    }
   ],
   "source": [
    "def quad(a, b, c):\n",
    "    return lambda x:a*x*x + b*x + c\n",
    "\n",
    "\n",
    "fn = quad(1, -2, 3)\n",
    "x = np.arange(10)\n",
    "y = fn(x)\n",
    "plt.plot(x, y)\n",
    "plt.grid()"
   ]
  },
  {
   "cell_type": "markdown",
   "metadata": {},
   "source": [
    "To do - Make a lambda function to convert an array of temperatures from kelvin to celcius"
   ]
  },
  {
   "cell_type": "code",
   "execution_count": 32,
   "metadata": {},
   "outputs": [
    {
     "data": {
      "text/plain": [
       "[-164, -88, -42, 0, 36, 69, 98, 126]"
      ]
     },
     "execution_count": 32,
     "metadata": {},
     "output_type": "execute_result"
    }
   ],
   "source": [
    "temp_arr = np.array([109, 185, 231, 273, 309, 342, 371, 399])\n",
    "# the boiling points of the first 8 alkanes\n",
    "list(map(lambda k:k-273,temp_arr))\n",
    "\n"
   ]
  },
  {
   "cell_type": "markdown",
   "metadata": {},
   "source": [
    "To do - plot against number of carbon atoms"
   ]
  },
  {
   "cell_type": "markdown",
   "metadata": {},
   "source": [
    "# Objects"
   ]
  },
  {
   "cell_type": "markdown",
   "metadata": {},
   "source": [
    "Everything in Python is an object. A string is an object. You can index it, find its length, and it has functions too, such as split, or strip. So is a list, which again can be indexed, and has functions such as `append`\n",
    "\n",
    "e.g. \n",
    "- `s = \"Hello World!\"`\n",
    "- `s.split()`\n",
    "- `>>> [\"Hello\", \"World!\"]`\n",
    "- `t = \"  and as she emerged  \"`\n",
    "- `print(t.strip())`\n",
    "- `>>> \"and as she emerged\"`\n",
    "- `lst = [1,2,3]`\n",
    "- `lst.append(4)`\n",
    "- `>>> [1,2,3,4]`"
   ]
  },
  {
   "cell_type": "markdown",
   "metadata": {},
   "source": [
    "We can define our own objects, with their own properties and sets of functions. \n",
    "\n",
    "For example, you want to build a virtual learning environment like BlackBoard, or Moodle. You would need to have a way to save all the peoples details, with some details different for students than for teachers. \n",
    "\n",
    "To do this you define a person object. Objects are defined with a capital letter in Python, and the `class` keyword is used."
   ]
  },
  {
   "cell_type": "code",
   "execution_count": 49,
   "metadata": {},
   "outputs": [],
   "source": [
    "\n",
    "class Person:\n",
    "    def __init__(self, name, age):\n",
    "        self.name = name\n",
    "        self.age = age\n",
    "\n",
    "    def __str__(self):\n",
    "        return f\"{self.name}, {self.age} years old\"\n",
    "\n",
    "    def greet(self):\n",
    "        print(\"Hello, \" + self.name)\n",
    "\n",
    "    def set_name(self, new_name):\n",
    "        self.name = new_name\n",
    "    \n",
    "    def speak(self):\n",
    "        small_talk =[\"Isn't the weather lovely today?\", \n",
    "                     \"How are you doing?\", \n",
    "                     \"Fancy a coffee?\", \n",
    "                     \"I'm off to the pub\", \n",
    "                     \"I've got too much work to do\"\n",
    "                     ] \n",
    "        print(random.choice(small_talk))"
   ]
  },
  {
   "cell_type": "markdown",
   "metadata": {},
   "source": [
    "This defines a `Person` object, with a name and age as properties. They can have functions too.."
   ]
  },
  {
   "cell_type": "code",
   "execution_count": 52,
   "metadata": {},
   "outputs": [
    {
     "name": "stdout",
     "output_type": "stream",
     "text": [
      "Jo 48\n"
     ]
    }
   ],
   "source": [
    "p1 = Person(\"Jo\", 48)\n",
    "\n",
    "print(p1.name, p1.age)"
   ]
  },
  {
   "cell_type": "code",
   "execution_count": 53,
   "metadata": {},
   "outputs": [
    {
     "name": "stdout",
     "output_type": "stream",
     "text": [
      "Isn't the weather lovely today?\n"
     ]
    }
   ],
   "source": [
    "p1.speak()"
   ]
  },
  {
   "cell_type": "code",
   "execution_count": 54,
   "metadata": {},
   "outputs": [
    {
     "name": "stdout",
     "output_type": "stream",
     "text": [
      "Hello, Jo\n"
     ]
    }
   ],
   "source": [
    "p1.greet()"
   ]
  },
  {
   "cell_type": "markdown",
   "metadata": {},
   "source": [
    "Overriding the `__str__` method allows us to provide a better string representation of the object."
   ]
  },
  {
   "cell_type": "code",
   "execution_count": 56,
   "metadata": {},
   "outputs": [
    {
     "name": "stdout",
     "output_type": "stream",
     "text": [
      "Jo, 48 years old\n"
     ]
    }
   ],
   "source": [
    "print(p1)"
   ]
  },
  {
   "cell_type": "markdown",
   "metadata": {},
   "source": [
    "To do:\n",
    "- Create your own `Animal` object. \n",
    "- it should have the properties `name` and `age` \n",
    "- it should have a `greet` function, that prints `Hello name!`\n",
    "- provide a nice human readable `__str__` function"
   ]
  },
  {
   "cell_type": "markdown",
   "metadata": {},
   "source": [
    "# Inheritance"
   ]
  },
  {
   "cell_type": "markdown",
   "metadata": {},
   "source": [
    "Objects can inherit from other objects. For example in our VLE, if we want to allow students to have courses and "
   ]
  },
  {
   "cell_type": "code",
   "execution_count": 59,
   "metadata": {},
   "outputs": [],
   "source": [
    "class Student(Person):\n",
    "    def __init__(self, name, age, courses=[], grades=[]):\n",
    "        self.courses = courses\n",
    "        self.grades=grades\n",
    "        Person.__init__(self, name, age)\n"
   ]
  },
  {
   "cell_type": "code",
   "execution_count": 60,
   "metadata": {},
   "outputs": [],
   "source": [
    "s1 = Student('Sammy', '12')"
   ]
  },
  {
   "cell_type": "code",
   "execution_count": null,
   "metadata": {},
   "outputs": [
    {
     "data": {
      "text/plain": [
       "'Sammy'"
      ]
     },
     "metadata": {},
     "output_type": "display_data"
    }
   ],
   "source": [
    "s1.name"
   ]
  },
  {
   "cell_type": "code",
   "execution_count": 44,
   "metadata": {},
   "outputs": [
    {
     "name": "stdout",
     "output_type": "stream",
     "text": [
      "Fancy a coffee?\n"
     ]
    }
   ],
   "source": [
    "s1.speak()"
   ]
  },
  {
   "cell_type": "code",
   "execution_count": null,
   "metadata": {},
   "outputs": [
    {
     "name": "stdout",
     "output_type": "stream",
     "text": [
      "Hello, Sammy\n"
     ]
    }
   ],
   "source": [
    "s1.greet()"
   ]
  },
  {
   "cell_type": "markdown",
   "metadata": {},
   "source": []
  },
  {
   "cell_type": "code",
   "execution_count": 61,
   "metadata": {},
   "outputs": [
    {
     "name": "stdout",
     "output_type": "stream",
     "text": [
      "Sammy, 12 years old\n"
     ]
    }
   ],
   "source": [
    "print(s1)"
   ]
  },
  {
   "cell_type": "markdown",
   "metadata": {},
   "source": [
    "To do:\n",
    "- Provide a class called `Cat` that inherits from the `Animal` class.\n",
    "- Check that it has inherited all teh methods and properties\n",
    "- givve it a new function, `speak` that prints out an appropriate statement for a `Cat`."
   ]
  },
  {
   "cell_type": "code",
   "execution_count": null,
   "metadata": {},
   "outputs": [],
   "source": []
  },
  {
   "cell_type": "markdown",
   "metadata": {},
   "source": [
    "# Quiz"
   ]
  },
  {
   "cell_type": "code",
   "execution_count": 64,
   "metadata": {},
   "outputs": [
    {
     "name": "stdout",
     "output_type": "stream",
     "text": [
      "2\n",
      "3\n",
      "19\n",
      "3\n"
     ]
    },
    {
     "ename": "NameError",
     "evalue": "name 'fn2' is not defined",
     "output_type": "error",
     "traceback": [
      "\u001b[0;31m---------------------------------------------------------------------------\u001b[0m",
      "\u001b[0;31mNameError\u001b[0m                                 Traceback (most recent call last)",
      "\u001b[0;32m/var/folders/dl/pczkvbw15215r_302bklrz2m0000gq/T/ipykernel_49654/2740288324.py\u001b[0m in \u001b[0;36m<module>\u001b[0;34m\u001b[0m\n\u001b[1;32m     10\u001b[0m \u001b[0mprint\u001b[0m\u001b[0;34m(\u001b[0m\u001b[0mfn1\u001b[0m\u001b[0;34m(\u001b[0m\u001b[0mn\u001b[0m\u001b[0;34m)\u001b[0m\u001b[0;34m)\u001b[0m \u001b[0;31m# 3\u001b[0m\u001b[0;34m\u001b[0m\u001b[0;34m\u001b[0m\u001b[0m\n\u001b[1;32m     11\u001b[0m \u001b[0mprint\u001b[0m\u001b[0;34m(\u001b[0m\u001b[0mn\u001b[0m\u001b[0;34m)\u001b[0m \u001b[0;31m# 4\u001b[0m\u001b[0;34m\u001b[0m\u001b[0;34m\u001b[0m\u001b[0m\n\u001b[0;32m---> 12\u001b[0;31m \u001b[0mprint\u001b[0m\u001b[0;34m(\u001b[0m\u001b[0mfn2\u001b[0m\u001b[0;34m(\u001b[0m\u001b[0;36m3\u001b[0m\u001b[0;34m)\u001b[0m\u001b[0;34m)\u001b[0m\u001b[0;34m\u001b[0m\u001b[0;34m\u001b[0m\u001b[0m\n\u001b[0m",
      "\u001b[0;31mNameError\u001b[0m: name 'fn2' is not defined"
     ]
    }
   ],
   "source": [
    "def fn1(number):\n",
    "    x = 2\n",
    "    y = 4\n",
    "    print(x) # 1\n",
    "    def fn2(x):\n",
    "        print(x) # 2\n",
    "        return x*x\n",
    "    return fn2(number) + x*number + y\n",
    "n = 3\n",
    "print(fn1(n)) # 3\n",
    "print(n) # 4\n",
    "print(fn2(3)) # 5"
   ]
  },
  {
   "cell_type": "code",
   "execution_count": 72,
   "metadata": {},
   "outputs": [
    {
     "name": "stdout",
     "output_type": "stream",
     "text": [
      "1.41\n"
     ]
    }
   ],
   "source": [
    "def square_root(x):\n",
    "    root = x\n",
    "    while abs(root*root - x)>1e-3:\n",
    "        avg = 0.5*(root + x/root)\n",
    "        root = avg\n",
    "    return root\n",
    "print(round(square_root(2), 2))"
   ]
  },
  {
   "cell_type": "code",
   "execution_count": 86,
   "metadata": {},
   "outputs": [
    {
     "data": {
      "text/plain": [
       "[0,\n",
       " 1,\n",
       " 1,\n",
       " 2,\n",
       " 3,\n",
       " 5,\n",
       " 8,\n",
       " 13,\n",
       " 21,\n",
       " 34,\n",
       " 55,\n",
       " 89,\n",
       " 144,\n",
       " 233,\n",
       " 377,\n",
       " 610,\n",
       " 987,\n",
       " 1597,\n",
       " 2584,\n",
       " 4181,\n",
       " 6765,\n",
       " 10946,\n",
       " 17711,\n",
       " 28657,\n",
       " 46368,\n",
       " 75025,\n",
       " 121393,\n",
       " 196418,\n",
       " 317811,\n",
       " 514229]"
      ]
     },
     "execution_count": 86,
     "metadata": {},
     "output_type": "execute_result"
    }
   ],
   "source": [
    "def fib(n):\n",
    "    lst = [0,1]\n",
    "    for i in range(2,n):\n",
    "        lst.append(lst[i-1]+lst[i-2])\n",
    "    return lst\n",
    "\n",
    "\n",
    "fib(30)"
   ]
  },
  {
   "cell_type": "code",
   "execution_count": 26,
   "metadata": {},
   "outputs": [
    {
     "name": "stdout",
     "output_type": "stream",
     "text": [
      "move from P1 to P3\n",
      "move from P1 to P2\n",
      "move from P3 to P2\n",
      "move from P1 to P3\n",
      "move from P2 to P1\n",
      "move from P2 to P3\n",
      "move from P1 to P3\n",
      "move from P1 to P2\n",
      "move from P3 to P2\n",
      "move from P3 to P1\n",
      "move from P2 to P1\n",
      "move from P3 to P2\n",
      "move from P1 to P3\n",
      "move from P1 to P2\n",
      "move from P3 to P2\n",
      "None\n"
     ]
    }
   ],
   "source": [
    "def printMove(fr, to):\n",
    "    print('move from ' + str(fr) + ' to ' + str(to))\n",
    "\n",
    "def Towers(n, fr, to, spare):\n",
    "    if n == 1:\n",
    "        printMove(fr, to)\n",
    "    else:\n",
    "        Towers(n-1, fr, spare, to)\n",
    "        Towers(1, fr, to, spare)\n",
    "        Towers(n-1, spare, to, fr)\n",
    "\n",
    "print(Towers(4, 'P1', 'P2', 'P3'));"
   ]
  }
 ],
 "metadata": {
  "kernelspec": {
   "display_name": "pe38",
   "language": "python",
   "name": "python3"
  },
  "language_info": {
   "codemirror_mode": {
    "name": "ipython",
    "version": 3
   },
   "file_extension": ".py",
   "mimetype": "text/x-python",
   "name": "python",
   "nbconvert_exporter": "python",
   "pygments_lexer": "ipython3",
   "version": "3.8.12"
  }
 },
 "nbformat": 4,
 "nbformat_minor": 2
}
