{
 "cells": [
  {
   "cell_type": "code",
   "execution_count": 4,
   "id": "incoming-romance",
   "metadata": {},
   "outputs": [],
   "source": [
    "import numpy as np\n",
    "import pandas as pd\n",
    "import matplotlib.pyplot as plt"
   ]
  },
  {
   "cell_type": "markdown",
   "id": "noted-favor",
   "metadata": {},
   "source": [
    "To visualise the molecules, you need RDKit. Install via \n",
    ">conda install -c conda-forge rdkit"
   ]
  },
  {
   "cell_type": "code",
   "execution_count": 5,
   "id": "musical-browser",
   "metadata": {},
   "outputs": [],
   "source": [
    "from sklearn.model_selection import train_test_split\n",
    "from rdkit import Chem\n",
    "from rdkit.Chem import Draw\n"
   ]
  },
  {
   "cell_type": "markdown",
   "id": "e2f8788e",
   "metadata": {},
   "source": [
    "You may also need to install an engine to read the xlsx file, 'openpyxl'\n",
    ">conda install openpyxl"
   ]
  },
  {
   "cell_type": "code",
   "execution_count": 8,
   "id": "divine-relative",
   "metadata": {},
   "outputs": [
    {
     "name": "stdout",
     "output_type": "stream",
     "text": [
      "(932, 2261)\n",
      "Index([                             0,          'Compound_Identifier',\n",
      "                             'Source',                       'SMILES',\n",
      "                            'LogS.M.',                           'MW',\n",
      "                                'AMW',                           'Sv',\n",
      "                                 'Se',                           'Sp',\n",
      "       ...\n",
      "                       'Psychotic-80',                 'Psychotic-50',\n",
      "                       'Hypertens-80',                 'Hypertens-50',\n",
      "                        'Hypnotic-80',                  'Hypnotic-50',\n",
      "                      'Neoplastic-80',                'Neoplastic-50',\n",
      "                       'Infective-80', 'Infective-50_x000D__x000D_\\n'],\n",
      "      dtype='object', length=2261)\n"
     ]
    }
   ],
   "source": [
    "sol = pd.read_excel(\"Husskonen_Solubility_Features.xlsx\", engine='openpyxl', verbose=False)\n",
    "print(sol.shape)\n",
    "print(sol.columns)\n"
   ]
  },
  {
   "cell_type": "markdown",
   "id": "colonial-commodity",
   "metadata": {},
   "source": [
    "Look at an example, the first data sample"
   ]
  },
  {
   "cell_type": "code",
   "execution_count": 120,
   "id": "official-charity",
   "metadata": {},
   "outputs": [
    {
     "name": "stdout",
     "output_type": "stream",
     "text": [
      "0 1\n",
      "Compound_Identifier HU_100\n",
      "Source Huuskonen\n",
      "SMILES c1ccc2ccc3nccnc3c2c1\n",
      "LogS.M. -2.68\n",
      "MW 180.22\n",
      "AMW 8.192\n",
      "Sv 15.623\n",
      "Se 21.854\n",
      "Sp 16.296\n",
      "Si 24.242\n",
      "Mv 0.71\n",
      "Me 0.993\n",
      "Mp 0.741\n",
      "Mi 1.102\n",
      "nAT 22\n",
      "nSK 14\n",
      "nBT 24\n",
      "nBO 16\n",
      "nBM 16\n",
      "SCBO 24.0\n",
      "RBN 0\n",
      "RBF 0.0\n",
      "nDB 0\n",
      "nTB 0\n",
      "nAB 16\n",
      "nH 8\n",
      "nC 12\n",
      "nN 2\n",
      "nO 0\n",
      "nS 0\n",
      "nF 0\n",
      "nCL 0\n",
      "nBR 0\n",
      "nHM 0\n",
      "nHet 2\n",
      "nX 0\n",
      "H% 36.4\n",
      "C% 54.5\n",
      "N% 9.1\n",
      "O% 0.0\n",
      "X% 0.0\n",
      "nCsp3 0\n",
      "nCsp2 12\n",
      "nCsp 0\n",
      "nCIC 3\n",
      "nCIR 6\n",
      "TRS 18\n",
      "Rperim 14\n",
      "Rbrid 2\n",
      "MCD 1.0\n",
      "RFD 0.286\n",
      "RCI 1.286\n",
      "NRS 1\n",
      "NNRS 0.333\n",
      "nR03 0\n",
      "nR05 0\n",
      "nR06 3\n",
      "nR07 0\n",
      "nR08 0\n",
      "nR09 0\n",
      "nR10 2\n",
      "nR11 0\n",
      "nR12 0\n",
      "nBnz 2\n",
      "ARR 1.0\n",
      "D/Dtr03 0.0\n",
      "D/Dtr05 0.0\n",
      "D/Dtr06 62.233\n",
      "D/Dtr07 0.0\n",
      "D/Dtr08 0.0\n",
      "D/Dtr09 0.0\n",
      "D/Dtr10 69.159\n",
      "D/Dtr11 0.0\n",
      "D/Dtr12 0.0\n",
      "ZM1 76\n",
      "ZM1V 186\n",
      "ZM1Kup 193.29\n",
      "ZM1Mad 79.441\n",
      "ZM1Per 280.68\n",
      "ZM1MulPer 196.113\n",
      "ZM2 91\n",
      "ZM2V 211\n",
      "ZM2Kup 215.93\n",
      "ZM2Mad 94.886\n",
      "ZM2Per 326.1\n",
      "ZM2MulPer 222.319\n",
      "ON0 6.333\n",
      "ON0V 4.067\n",
      "ON1 3.083\n",
      "ON1V 1.31\n",
      "Qindex 13\n",
      "BBI 22\n",
      "DBI 1.414\n",
      "SNar 11.326\n",
      "HNar 2.211\n",
      "GNar 2.246\n",
      "Xt 0.297\n",
      "Dz 29.0\n",
      "Ram 4\n",
      "BLI 0.85\n",
      "Pol 22\n",
      "LPRS 50.995\n",
      "MSD 3.317\n",
      "SPI 0.0\n",
      "PJI2 0.75\n",
      "ECC 76\n",
      "AECC 5.429\n",
      "DECC 0.776\n",
      "MDDD 5.388\n",
      "UNIP 29\n",
      "CENT 136\n",
      "VAR 20\n",
      "ICR 1.842\n",
      "SMTI 1299\n",
      "SMTIV 2117\n",
      "GMTI 1342\n",
      "GMTIV 3337\n",
      "Xu 13.696\n",
      "CSI 170\n",
      "Wap 3511\n",
      "S1K 7.455\n",
      "S2K 2.777\n",
      "S3K 1.084\n",
      "PHI 1.479\n",
      "PW2 0.571\n",
      "PW3 0.349\n",
      "PW4 0.206\n",
      "PW5 0.116\n",
      "MAXDN 0.716\n",
      "MAXDP 1.347\n",
      "DELS 5.83\n",
      "TIE 10.791\n",
      "Psi_i_s 28.667\n",
      "Psi_i_A 2.048\n",
      "Psi_i_0 9.91\n",
      "Psi_i_1 8.202\n",
      "Psi_i_t 0.007\n",
      "Psi_i_0d 0.001\n",
      "Psi_i_1d 0.0\n",
      "Psi_e_A 7.548\n",
      "Psi_e_0 5.126\n",
      "Psi_e_1 2.179\n",
      "Psi_e_0d 0.002\n",
      "BAC 0\n",
      "LOC 0.0\n",
      "MWC01 2.833\n",
      "MWC02 4.344\n",
      "MWC03 5.209\n",
      "MWC04 6.089\n",
      "MWC05 6.973\n",
      "MWC06 7.86\n",
      "MWC07 8.748\n",
      "MWC08 9.637\n",
      "MWC09 10.526\n",
      "MWC10 11.416\n",
      "SRW02 3.497\n",
      "SRW03 0.0\n",
      "SRW04 4.796\n",
      "SRW05 0.0\n",
      "SRW06 6.34\n",
      "SRW07 0.0\n",
      "SRW08 7.996\n",
      "SRW09 0.0\n",
      "SRW10 9.705\n",
      "MPC01 2.833\n",
      "MPC02 3.135\n",
      "MPC03 3.466\n",
      "MPC04 3.761\n",
      "MPC05 4.025\n",
      "MPC06 3.97\n",
      "MPC07 4.043\n",
      "MPC08 4.078\n",
      "MPC09 4.078\n",
      "MPC10 3.611\n",
      "piPC01 3.219\n",
      "piPC02 3.922\n",
      "piPC03 4.66\n",
      "piPC04 5.364\n",
      "piPC05 6.037\n",
      "piPC06 6.386\n",
      "piPC07 6.865\n",
      "piPC08 7.305\n",
      "piPC09 7.71\n",
      "piPC10 7.639\n",
      "TWC 11.945\n",
      "TPC 6.242\n",
      "piID 9.774\n",
      "PCR 1.566\n",
      "PCD 3.532\n",
      "CID 3.418\n",
      "BID 2.738\n",
      "X0 9.38\n",
      "X1 6.949\n",
      "X2 5.994\n",
      "X3 5.394\n",
      "X4 4.745\n",
      "X5 4.108\n",
      "X0A 0.67\n",
      "X1A 0.434\n",
      "X2A 0.272\n",
      "X3A 0.174\n",
      "X4A 0.113\n",
      "X5A 0.075\n",
      "X0v 7.513\n",
      "X1v 4.535\n",
      "X2v 3.211\n",
      "X3v 2.363\n",
      "X4v 1.705\n",
      "X5v 1.199\n",
      "X0Av 0.537\n",
      "X1Av 0.283\n",
      "X2Av 0.146\n",
      "X3Av 0.076\n",
      "X4Av 0.041\n",
      "X5Av 0.022\n",
      "X0sol 9.38\n",
      "X1sol 6.949\n",
      "X2sol 5.994\n",
      "X3sol 5.394\n",
      "X4sol 4.745\n",
      "X5sol 4.108\n",
      "XMOD 42.605\n",
      "RDCHI 2.7\n",
      "RDSQ 95.881\n",
      "X1Kup 4.503\n",
      "X1Mad 6.813\n",
      "X1Per 3.659\n",
      "X1MulPer 4.407\n",
      "ISIZ 98.107\n",
      "IAC 29.088\n",
      "AAC 1.322\n",
      "IDE 2.492\n",
      "IDM 6.332\n",
      "IDDE 2.522\n",
      "IDDM 3.788\n",
      "IDET 226.775\n",
      "IDMT 1715.868\n",
      "IVDE 0.863\n",
      "IVDM 3.781\n",
      "S0K 51.303\n",
      "HVcpx 2.523\n",
      "HDcpx 1.514\n",
      "Uindex 18.038\n",
      "Vindex 0.343\n",
      "Xindex 0.49\n",
      "Yindex 1.09\n",
      "IC0 1.322\n",
      "IC1 2.3\n",
      "IC2 3.175\n",
      "IC3 3.789\n",
      "IC4 4.187\n",
      "IC5 4.459\n",
      "TIC0 29.088\n",
      "TIC1 50.598\n",
      "TIC2 69.843\n",
      "TIC3 83.353\n",
      "TIC4 92.107\n",
      "TIC5 98.107\n",
      "SIC0 0.296\n",
      "SIC1 0.516\n",
      "SIC2 0.712\n",
      "SIC3 0.85\n",
      "SIC4 0.939\n",
      "SIC5 1.0\n",
      "CIC0 3.137\n",
      "CIC1 2.16\n",
      "CIC2 1.285\n",
      "CIC3 0.671\n",
      "CIC4 0.273\n",
      "CIC5 0.0\n",
      "BIC0 0.264\n",
      "BIC1 0.46\n",
      "BIC2 0.635\n",
      "BIC3 0.758\n",
      "BIC4 0.837\n",
      "BIC5 0.892\n",
      "J_A 27.798\n",
      "SpPos_A 9.724\n",
      "SpPosA_A 0.695\n",
      "SpPosLog_A 1.383\n",
      "SpMax_A 2.435\n",
      "SpMaxA_A 0.174\n",
      "SpDiam_A 4.87\n",
      "SpAD_A 19.448\n",
      "SpMAD_A 1.389\n",
      "Ho_A 7.307\n",
      "EE_A 3.607\n",
      "VE1_A 3.52\n",
      "VE2_A 0.251\n",
      "VE3_A 0.765\n",
      "VR1_A 15.434\n",
      "VR2_A 1.102\n",
      "VR3_A 1.664\n",
      "Wi_D 271\n",
      "WiA_D 2.978\n",
      "AVS_D 38.714\n",
      "H_D 41.143\n",
      "Chi_D 0.435\n",
      "ChiA_D 0.027\n",
      "J_D 1.7402\n",
      "HyWi_D 6.457\n",
      "SpPos_D 39.639\n",
      "SpPosA_D 2.831\n",
      "SpPosLog_D 2.237\n",
      "SpMax_D 39.639\n",
      "SpMaxA_D 2.831\n",
      "SpDiam_D 57.385\n",
      "SpAD_D 79.279\n",
      "SpMAD_D 5.663\n",
      "Ho_D 14.996\n",
      "EE_D 39.639\n",
      "SM2_D 7.602\n",
      "SM3_D 10.932\n",
      "SM4_D 14.761\n",
      "SM5_D 18.381\n",
      "SM6_D 22.087\n",
      "VE1_D 3.359\n",
      "VE2_D 0.24\n",
      "VE3_D 0.737\n",
      "VR1_D 15.553\n",
      "VR2_D 1.111\n",
      "VR3_D 1.669\n",
      "QW_L 160.784\n",
      "TI1_L 18.648\n",
      "TI2_L 1.322\n",
      "STN_L 5.318\n",
      "SpPos_L 32\n",
      "SpPosA_L 2.286\n",
      "SpPosLog_L 2.107\n",
      "SpMax_L 5.142\n",
      "SpMaxA_L 0.367\n",
      "SpDiam_L 4.926\n",
      "SpAD_L 19.896\n",
      "SpMAD_L 1.421\n",
      "Ho_L 14.733\n",
      "EE_L 6.033\n",
      "SM2_L 4.691\n",
      "SM3_L 6.033\n",
      "SM4_L 7.451\n",
      "SM5_L 8.916\n",
      "SM6_L 10.417\n",
      "VE1_L 3.742\n",
      "VE2_L 0.267\n",
      "VE3_L 0.802\n",
      "VR1_L 15.457\n",
      "VR2_L 1.104\n",
      "VR3_L 1.665\n",
      "AVS_X 0.993\n",
      "H_X 37.697\n",
      "Chi_X 15.966\n",
      "ChiA_X 0.998\n",
      "J_X 63.8632\n",
      "HyWi_X 1.794\n",
      "SpPos_X 4.3\n",
      "SpPosA_X 0.307\n",
      "SpPosLog_X 0.887\n",
      "SpMaxA_X 0.071\n",
      "SpDiam_X 2.0\n",
      "SpAD_X 8.6\n",
      "SpMAD_X 0.614\n",
      "Ho_X 2.472\n",
      "EE_X 2.905\n",
      "SM2_X 1.969\n",
      "SM3_X 0.0\n",
      "SM4_X 1.648\n",
      "SM5_X 0.0\n",
      "SM6_X 1.486\n",
      "VE1_X 3.725\n",
      "VE2_X 0.266\n",
      "VE3_X 0.8\n",
      "VR1_X 15.442\n",
      "VR2_X 1.103\n",
      "VR3_X 1.664\n",
      "Wi_H2 25.476\n",
      "WiA_H2 0.28\n",
      "AVS_H2 3.639\n",
      "Chi_H2 4.37\n",
      "ChiA_H2 0.273\n",
      "J_H2 17.4808\n",
      "HyWi_H2 3.118\n",
      "SpPos_H2 9.381\n",
      "SpPosA_H2 0.67\n",
      "SpPosLog_H2 1.361\n",
      "SpMax_H2 3.783\n",
      "SpMaxA_H2 0.27\n",
      "SpDiam_H2 5.636\n",
      "SpAD_H2 18.761\n",
      "SpMAD_H2 1.34\n",
      "Ho_H2 7.187\n",
      "EE_H2 4.194\n",
      "SM2_H2 3.596\n",
      "SM3_H2 3.893\n",
      "SM4_H2 5.564\n",
      "SM5_H2 6.656\n",
      "SM6_H2 8.043\n",
      "VE1_H2 3.432\n",
      "VE2_H2 0.245\n",
      "VE3_H2 0.75\n",
      "VR1_H2 15.439\n",
      "VR2_H2 1.103\n",
      "VR3_H2 1.664\n",
      "Wi_Dt 1019\n",
      "WiA_Dt 11.198\n",
      "AVS_Dt 145.571\n",
      "H_Dt 8.294\n",
      "Chi_Dt 0.111\n",
      "ChiA_Dt 0.007\n",
      "J_Dt 0.4426\n",
      "HyWi_Dt 8.751\n",
      "SpPos_Dt 146.813\n",
      "SpPosA_Dt 10.487\n",
      "SpPosLog_Dt 3.033\n",
      "SpMax_Dt 145.727\n",
      "SpMaxA_Dt 10.409\n",
      "SpDiam_Dt 163.711\n",
      "SpAD_Dt 293.626\n",
      "SpMAD_Dt 20.973\n",
      "Ho_Dt 35.072\n",
      "EE_Dt 145.727\n",
      "SM2_Dt 10.053\n",
      "SM3_Dt 14.936\n",
      "SM4_Dt 19.928\n",
      "SM5_Dt 24.909\n",
      "SM6_Dt 29.89\n",
      "VE1_Dt 3.1\n",
      "VE2_Dt 0.221\n",
      "VE3_Dt 0.688\n",
      "VR1_Dt 15.596\n",
      "VR2_Dt 1.114\n",
      "VR3_Dt 1.67\n",
      "Wi_D/Dt 25.058\n",
      "WiA_D/Dt 0.275\n",
      "AVS_D/Dt 3.58\n",
      "H_D/Dt 474.771\n",
      "Chi_D/Dt 4.649\n",
      "ChiA_D/Dt 0.291\n",
      "J_D/Dt 18.5973\n",
      "HyWi_D/Dt 2.886\n",
      "SpPos_D/Dt 3.974\n",
      "SpPosA_D/Dt 0.284\n",
      "SpPosLog_D/Dt 0.839\n",
      "SpMax_D/Dt 3.656\n",
      "SpMaxA_D/Dt 0.261\n",
      "SpDiam_D/Dt 5.396\n",
      "SpAD_D/Dt 7.949\n",
      "SpMAD_D/Dt 0.568\n",
      "Ho_D/Dt 3.572\n",
      "EE_D/Dt 3.921\n",
      "SM2_D/Dt 2.921\n",
      "SM3_D/Dt 3.781\n",
      "SM4_D/Dt 5.243\n",
      "SM5_D/Dt 6.458\n",
      "SM6_D/Dt 7.79\n",
      "VE1_D/Dt 3.378\n",
      "VE2_D/Dt 0.241\n",
      "VE3_D/Dt 0.74\n",
      "VR1_D/Dt 15.553\n",
      "VR2_D/Dt 1.111\n",
      "VR3_D/Dt 1.669\n",
      "Wi_Dz(Z) 174.667\n",
      "WiA_Dz(Z) 1.663\n",
      "AVS_Dz(Z) 24.932\n",
      "H_Dz(Z) 64.368\n",
      "Chi_Dz(Z) 0.674\n",
      "ChiA_Dz(Z) 0.042\n",
      "J_Dz(Z) 2.6966\n",
      "HyWi_Dz(Z) 5.688\n",
      "SpAbs_Dz(Z) 50.903\n",
      "SpPos_Dz(Z) 25.594\n",
      "SpPosA_Dz(Z) 1.828\n",
      "SpPosLog_Dz(Z) 1.971\n",
      "SpMax_Dz(Z) 25.495\n",
      "SpMaxA_Dz(Z) 1.821\n",
      "SpDiam_Dz(Z) 36.928\n",
      "SpAD_Dz(Z) 51.107\n",
      "SpMAD_Dz(Z) 3.65\n",
      "Ho_Dz(Z) 12.142\n",
      "EE_Dz(Z) 25.495\n",
      "SM1_Dz(Z) 0.251\n",
      "SM2_Dz(Z) 6.721\n",
      "SM3_Dz(Z) 9.608\n",
      "SM4_Dz(Z) 12.996\n",
      "SM5_Dz(Z) 16.174\n",
      "SM6_Dz(Z) 19.439\n",
      "VE1_Dz(Z) 3.371\n",
      "VE2_Dz(Z) 0.241\n",
      "VE3_Dz(Z) 0.739\n",
      "VR1_Dz(Z) 15.551\n",
      "VR2_Dz(Z) 1.111\n",
      "VR3_Dz(Z) 1.668\n",
      "Wi_Dz(m) 174.669\n",
      "WiA_Dz(m) 1.664\n",
      "AVS_Dz(m) 24.932\n",
      "H_Dz(m) 64.367\n",
      "Chi_Dz(m) 0.674\n",
      "ChiA_Dz(m) 0.042\n",
      "J_Dz(m) 2.6966\n",
      "HyWi_Dz(m) 5.688\n",
      "SpAbs_Dz(m) 50.904\n",
      "SpPos_Dz(m) 25.595\n",
      "SpPosA_Dz(m) 1.828\n",
      "SpPosLog_Dz(m) 1.971\n",
      "SpMax_Dz(m) 25.496\n",
      "SpMaxA_Dz(m) 1.821\n",
      "SpDiam_Dz(m) 36.928\n",
      "SpAD_Dz(m) 51.108\n",
      "SpMAD_Dz(m) 3.651\n",
      "Ho_Dz(m) 12.142\n",
      "EE_Dz(m) 25.496\n",
      "SM1_Dz(m) 0.251\n",
      "SM2_Dz(m) 6.721\n",
      "SM3_Dz(m) 9.608\n",
      "SM4_Dz(m) 12.996\n",
      "SM5_Dz(m) 16.174\n",
      "SM6_Dz(m) 19.439\n",
      "VE1_Dz(m) 3.371\n",
      "VE2_Dz(m) 0.241\n",
      "VE3_Dz(m) 0.739\n",
      "VR1_Dz(m) 15.551\n",
      "VR2_Dz(m) 1.111\n",
      "VR3_Dz(m) 1.668\n",
      "Wi_Dz(v) 194.073\n",
      "WiA_Dz(v) 1.848\n",
      "AVS_Dz(v) 27.77\n",
      "H_Dz(v) 57.24\n",
      "Chi_Dz(v) 0.61\n",
      "ChiA_Dz(v) 0.038\n",
      "J_Dz(v) 2.4391\n",
      "HyWi_Dz(v) 5.882\n",
      "SpAbs_Dz(v) 57.723\n",
      "SpPos_Dz(v) 28.542\n",
      "SpPosA_Dz(v) 2.039\n",
      "SpPosLog_Dz(v) 2.038\n",
      "SpMax_Dz(v) 28.542\n",
      "SpMaxA_Dz(v) 2.039\n",
      "SpDiam_Dz(v) 41.427\n",
      "SpAD_Dz(v) 57.632\n",
      "SpMAD_Dz(v) 4.117\n",
      "Ho_Dz(v) 13.314\n",
      "EE_Dz(v) 28.542\n",
      "SM1_Dz(v) -0.494\n",
      "SM2_Dz(v) 6.95\n",
      "SM3_Dz(v) 9.944\n",
      "SM4_Dz(v) 13.448\n",
      "SM5_Dz(v) 16.738\n",
      "SM6_Dz(v) 20.117\n",
      "VE1_Dz(v) 3.301\n",
      "VE2_Dz(v) 0.236\n",
      "VE3_Dz(v) 0.726\n",
      "VR1_Dz(v) 15.564\n",
      "VR2_Dz(v) 1.112\n",
      "VR3_Dz(v) 1.669\n",
      "Wi_Dz(e) 174.875\n",
      "WiA_Dz(e) 1.665\n",
      "AVS_Dz(e) 24.962\n",
      "H_Dz(e) 64.266\n",
      "Chi_Dz(e) 0.673\n",
      "ChiA_Dz(e) 0.042\n",
      "J_Dz(e) 2.6935\n",
      "HyWi_Dz(e) 5.69\n",
      "SpAbs_Dz(e) 50.97\n",
      "SpPos_Dz(e) 25.623\n",
      "SpPosA_Dz(e) 1.83\n",
      "SpPosLog_Dz(e) 1.972\n",
      "SpMax_Dz(e) 25.527\n",
      "SpMaxA_Dz(e) 1.823\n",
      "SpDiam_Dz(e) 36.973\n",
      "SpAD_Dz(e) 51.167\n",
      "SpMAD_Dz(e) 3.655\n",
      "Ho_Dz(e) 12.157\n",
      "EE_Dz(e) 25.527\n",
      "SM1_Dz(e) 0.244\n",
      "SM2_Dz(e) 6.723\n",
      "SM3_Dz(e) 9.611\n",
      "SM4_Dz(e) 13.001\n",
      "SM5_Dz(e) 16.18\n",
      "SM6_Dz(e) 19.447\n",
      "VE1_Dz(e) 3.371\n",
      "VE2_Dz(e) 0.241\n",
      "VE3_Dz(e) 0.739\n",
      "VR1_Dz(e) 15.551\n",
      "VR2_Dz(e) 1.111\n",
      "VR3_Dz(e) 1.668\n",
      "Wi_Dz(p) 205.867\n",
      "WiA_Dz(p) 1.961\n",
      "AVS_Dz(p) 29.495\n",
      "H_Dz(p) 54.289\n",
      "Chi_Dz(p) 0.577\n",
      "ChiA_Dz(p) 0.036\n",
      "J_Dz(p) 2.3084\n",
      "HyWi_Dz(p) 5.997\n",
      "SpAbs_Dz(p) 62.073\n",
      "SpPos_Dz(p) 30.437\n",
      "SpPosA_Dz(p) 2.174\n",
      "SpPosLog_Dz(p) 2.077\n",
      "SpMax_Dz(p) 30.437\n",
      "SpMaxA_Dz(p) 2.174\n",
      "SpDiam_Dz(p) 44.421\n",
      "SpAD_Dz(p) 61.902\n",
      "SpMAD_Dz(p) 4.422\n",
      "Ho_Dz(p) 13.882\n",
      "EE_Dz(p) 30.437\n",
      "SM1_Dz(p) -0.788\n",
      "SM2_Dz(p) 7.084\n",
      "SM3_Dz(p) 10.132\n",
      "SM4_Dz(p) 13.708\n",
      "SM5_Dz(p) 17.057\n",
      "SM6_Dz(p) 20.503\n",
      "VE1_Dz(p) 3.223\n",
      "VE2_Dz(p) 0.23\n",
      "VE3_Dz(p) 0.712\n",
      "VR1_Dz(p) 15.577\n",
      "VR2_Dz(p) 1.113\n",
      "VR3_Dz(p) 1.669\n",
      "Wi_Dz(i) 171.208\n",
      "WiA_Dz(i) 1.631\n",
      "AVS_Dz(i) 24.426\n",
      "H_Dz(i) 66.186\n",
      "Chi_Dz(i) 0.687\n",
      "ChiA_Dz(i) 0.043\n",
      "J_Dz(i) 2.7495\n",
      "HyWi_Dz(i) 5.654\n",
      "SpAbs_Dz(i) 49.79\n",
      "SpPos_Dz(i) 25.12\n",
      "SpPosA_Dz(i) 1.794\n",
      "SpPosLog_Dz(i) 1.96\n",
      "SpMax_Dz(i) 24.964\n",
      "SpMaxA_Dz(i) 1.783\n",
      "SpDiam_Dz(i) 36.188\n",
      "SpAD_Dz(i) 50.112\n",
      "SpMAD_Dz(i) 3.579\n",
      "Ho_Dz(i) 11.888\n",
      "EE_Dz(i) 24.964\n",
      "SM1_Dz(i) 0.372\n",
      "SM2_Dz(i) 6.679\n",
      "SM3_Dz(i) 9.544\n",
      "SM4_Dz(i) 12.912\n",
      "SM5_Dz(i) 16.068\n",
      "SM6_Dz(i) 19.313\n",
      "VE1_Dz(i) 3.373\n",
      "VE2_Dz(i) 0.241\n",
      "VE3_Dz(i) 0.739\n",
      "VR1_Dz(i) 15.55\n",
      "VR2_Dz(i) 1.111\n",
      "VR3_Dz(i) 1.668\n",
      "Wi_B(m) 34.004\n",
      "WiA_B(m) 0.324\n",
      "AVS_B(m) 3.834\n",
      "Chi_B(m) 4.129\n",
      "ChiA_B(m) 0.258\n",
      "J_B(m) 16.5144\n",
      "HyWi_B(m) 3.621\n",
      "SpAbs_B(m) 24.587\n",
      "SpPos_B(m) 19.46\n",
      "SpPosA_B(m) 1.39\n",
      "SpPosLog_B(m) 1.805\n",
      "SpMax_B(m) 4.009\n",
      "SpMaxA_B(m) 0.286\n",
      "SpDiam_B(m) 5.974\n",
      "SpAD_B(m) 23.821\n",
      "SpMAD_B(m) 1.701\n",
      "Ho_B(m) 9.485\n",
      "EE_B(m) 4.988\n",
      "SM1_B(m) 2.73\n",
      "SM2_B(m) 4.155\n",
      "SM3_B(m) 5.096\n",
      "SM4_B(m) 6.378\n",
      "SM5_B(m) 7.557\n",
      "SM6_B(m) 8.85\n",
      "VE1_B(m) 3.509\n",
      "VE2_B(m) 0.251\n",
      "VE3_B(m) 0.763\n",
      "VR1_B(m) 15.434\n",
      "VR2_B(m) 1.102\n",
      "VR3_B(m) 1.664\n",
      "Wi_B(v) 33.187\n",
      "WiA_B(v) 0.316\n",
      "AVS_B(v) 3.776\n",
      "Chi_B(v) 4.193\n",
      "ChiA_B(v) 0.262\n",
      "J_B(v) 16.7729\n",
      "HyWi_B(v) 3.588\n",
      "SpAbs_B(v) 24.294\n",
      "SpPos_B(v) 18.905\n",
      "SpPosA_B(v) 1.35\n",
      "SpPosLog_B(v) 1.787\n",
      "SpMax_B(v) 3.97\n",
      "SpMaxA_B(v) 0.284\n",
      "SpDiam_B(v) 5.977\n",
      "SpAD_B(v) 23.829\n",
      "SpMAD_B(v) 1.702\n",
      "Ho_B(v) 9.34\n",
      "EE_B(v) 4.938\n",
      "SM1_B(v) 2.675\n",
      "SM2_B(v) 4.13\n",
      "SM3_B(v) 5.035\n",
      "SM4_B(v) 6.322\n",
      "SM5_B(v) 7.482\n",
      "SM6_B(v) 8.772\n",
      "VE1_B(v) 3.53\n",
      "VE2_B(v) 0.252\n",
      "VE3_B(v) 0.767\n",
      "VR1_B(v) 15.434\n",
      "VR2_B(v) 1.102\n",
      "VR3_B(v) 1.664\n",
      "Wi_B(e) 33.991\n",
      "WiA_B(e) 0.324\n",
      "AVS_B(e) 3.833\n",
      "Chi_B(e) 4.13\n",
      "ChiA_B(e) 0.258\n",
      "J_B(e) 16.5181\n",
      "HyWi_B(e) 3.62\n",
      "SpAbs_B(e) 24.581\n",
      "SpPos_B(e) 19.45\n",
      "SpPosA_B(e) 1.389\n",
      "SpPosLog_B(e) 1.804\n",
      "SpMax_B(e) 4.008\n",
      "SpMaxA_B(e) 0.286\n",
      "SpDiam_B(e) 5.974\n",
      "SpAD_B(e) 23.82\n",
      "SpMAD_B(e) 1.701\n",
      "Ho_B(e) 9.482\n",
      "EE_B(e) 4.988\n",
      "SM1_B(e) 2.729\n",
      "SM2_B(e) 4.154\n",
      "SM3_B(e) 5.095\n",
      "SM4_B(e) 6.377\n",
      "SM5_B(e) 7.556\n",
      "SM6_B(e) 8.849\n",
      "VE1_B(e) 3.509\n",
      "VE2_B(e) 0.251\n",
      "VE3_B(e) 0.763\n",
      "VR1_B(e) 15.434\n",
      "VR2_B(e) 1.102\n",
      "VR3_B(e) 1.664\n",
      "Wi_B(p) 32.921\n",
      "WiA_B(p) 0.314\n",
      "AVS_B(p) 3.757\n",
      "Chi_B(p) 4.217\n",
      "ChiA_B(p) 0.264\n",
      "J_B(p) 16.8679\n",
      "HyWi_B(p) 3.579\n",
      "SpAbs_B(p) 24.282\n",
      "SpPos_B(p) 18.766\n",
      "SpPosA_B(p) 1.34\n",
      "SpPosLog_B(p) 1.783\n",
      "SpMax_B(p) 3.96\n",
      "SpMaxA_B(p) 0.283\n",
      "SpDiam_B(p) 5.985\n",
      "SpAD_B(p) 23.849\n",
      "SpMAD_B(p) 1.704\n",
      "Ho_B(p) 9.301\n",
      "EE_B(p) 4.924\n",
      "SM1_B(p) 2.657\n",
      "SM2_B(p) 4.124\n",
      "SM3_B(p) 5.017\n",
      "SM4_B(p) 6.308\n",
      "SM5_B(p) 7.461\n",
      "SM6_B(p) 8.751\n",
      "VE1_B(p) 3.529\n",
      "VE2_B(p) 0.252\n",
      "VE3_B(p) 0.767\n",
      "VR1_B(p) 15.435\n",
      "VR2_B(p) 1.103\n",
      "VR3_B(p) 1.664\n",
      "Wi_B(i) 34.252\n",
      "WiA_B(i) 0.326\n",
      "AVS_B(i) 3.852\n",
      "Chi_B(i) 4.111\n",
      "ChiA_B(i) 0.257\n",
      "J_B(i) 16.4443\n",
      "HyWi_B(i) 3.632\n",
      "SpAbs_B(i) 24.708\n",
      "SpPos_B(i) 19.645\n",
      "SpPosA_B(i) 1.403\n",
      "SpPosLog_B(i) 1.811\n",
      "SpMax_B(i) 4.024\n",
      "SpMaxA_B(i) 0.287\n",
      "SpDiam_B(i) 5.98\n",
      "SpAD_B(i) 23.835\n",
      "SpMAD_B(i) 1.703\n",
      "Ho_B(i) 9.541\n",
      "EE_B(i) 5.006\n",
      "SM1_B(i) 2.746\n",
      "SM2_B(i) 4.164\n",
      "SM3_B(i) 5.116\n",
      "SM4_B(i) 6.398\n",
      "SM5_B(i) 7.584\n",
      "SM6_B(i) 8.879\n",
      "VE1_B(i) 3.499\n",
      "VE2_B(i) 0.25\n",
      "VE3_B(i) 0.761\n",
      "VR1_B(i) 15.435\n",
      "VR2_B(i) 1.103\n",
      "VR3_B(i) 1.664\n",
      "Wi_B(s) 48.338\n",
      "WiA_B(s) 0.46\n",
      "AVS_B(s) 4.858\n",
      "Chi_B(s) 3.276\n",
      "ChiA_B(s) 0.205\n",
      "J_B(s) 13.1024\n",
      "HyWi_B(s) 4.215\n",
      "SpAbs_B(s) 31.669\n",
      "SpPos_B(s) 30.168\n",
      "SpPosA_B(s) 2.155\n",
      "SpPosLog_B(s) 2.071\n",
      "SpMax_B(s) 5.009\n",
      "SpMaxA_B(s) 0.358\n",
      "SpDiam_B(s) 6.14\n",
      "SpAD_B(s) 24.166\n",
      "SpMAD_B(s) 1.726\n",
      "Ho_B(s) 12.601\n",
      "EE_B(s) 6.032\n",
      "SM1_B(s) 3.39\n",
      "SM2_B(s) 4.701\n",
      "SM3_B(s) 6.054\n",
      "SM4_B(s) 7.482\n",
      "SM5_B(s) 8.939\n",
      "SM6_B(s) 10.424\n",
      "VE1_B(s) 3.33\n",
      "VE2_B(s) 0.238\n",
      "VE3_B(s) 0.731\n",
      "VR1_B(s) 15.448\n",
      "VR2_B(s) 1.103\n",
      "VR3_B(s) 1.664\n",
      "ATS1m 2.909\n",
      "ATS2m 3.234\n",
      "ATS3m 3.256\n",
      "ATS4m 2.987\n",
      "ATS5m 2.592\n",
      "ATS6m 1.874\n",
      "ATS7m 0.97\n",
      "ATS8m 0.173\n",
      "ATS1v 2.898\n",
      "ATS2v 3.244\n",
      "ATS3v 3.288\n",
      "ATS4v 3.085\n",
      "ATS5v 2.766\n",
      "ATS6v 2.19\n",
      "ATS7v 1.418\n",
      "ATS8v 0.551\n",
      "ATS1e 3.226\n",
      "ATS2e 3.672\n",
      "ATS3e 3.868\n",
      "ATS4e 3.751\n",
      "ATS5e 3.592\n",
      "ATS6e 3.221\n",
      "ATS7e 2.579\n",
      "ATS8e 1.713\n",
      "ATS1p 2.92\n",
      "ATS2p 3.279\n",
      "ATS3p 3.347\n",
      "ATS4p 3.173\n",
      "ATS5p 2.892\n",
      "ATS6p 2.377\n",
      "ATS7p 1.658\n",
      "ATS8p 0.787\n",
      "ATS1i 3.326\n",
      "ATS2i 3.801\n",
      "ATS3i 4.054\n",
      "ATS4i 3.945\n",
      "ATS5i 3.827\n",
      "ATS6i 3.503\n",
      "ATS7i 2.896\n",
      "ATS8i 2.053\n",
      "ATS1s 4.39\n",
      "ATS2s 4.795\n",
      "ATS3s 4.93\n",
      "ATS4s 4.782\n",
      "ATS5s 4.554\n",
      "ATS6s 4.049\n",
      "ATS7s 3.219\n",
      "ATS8s 2.079\n",
      "ATSC1m 3.35\n",
      "ATSC2m 5.782\n",
      "ATSC3m 8.511\n",
      "ATSC4m 7.626\n",
      "ATSC5m 7.348\n",
      "ATSC6m 5.753\n",
      "ATSC7m 3.319\n",
      "ATSC8m 1.453\n",
      "ATSC1v 2.1\n",
      "ATSC2v 3.283\n",
      "ATSC3v 4.679\n",
      "ATSC4v 4.246\n",
      "ATSC5v 3.914\n",
      "ATSC6v 3.081\n",
      "ATSC7v 1.88\n",
      "ATSC8v 0.858\n",
      "ATSC1e 0.008\n",
      "ATSC2e 0.029\n",
      "ATSC3e 0.079\n",
      "ATSC4e 0.047\n",
      "ATSC5e 0.057\n",
      "ATSC6e 0.047\n",
      "ATSC7e 0.024\n",
      "ATSC8e 0.009\n",
      "ATSC1p 1.674\n",
      "ATSC2p 2.646\n",
      "ATSC3p 3.599\n",
      "ATSC4p 3.27\n",
      "ATSC5p 2.962\n",
      "ATSC6p 2.254\n",
      "ATSC7p 1.317\n",
      "ATSC8p 0.576\n",
      "ATSC1i 0.288\n",
      "ATSC2i 0.472\n",
      "ATSC3i 0.597\n",
      "ATSC4i 0.519\n",
      "ATSC5i 0.449\n",
      "ATSC6i 0.307\n",
      "ATSC7i 0.151\n",
      "ATSC8i 0.055\n",
      "ATSC1s 3.222\n",
      "ATSC2s 5.667\n",
      "ATSC3s 9.889\n",
      "ATSC4s 8.667\n",
      "ATSC5s 10.333\n",
      "ATSC6s 8.333\n",
      "ATSC7s 4.556\n",
      "ATSC8s 1.778\n",
      "MATS1m 0.062\n",
      "MATS2m -0.089\n",
      "MATS3m 0.032\n",
      "MATS4m -0.198\n",
      "MATS5m -0.193\n",
      "MATS6m -0.106\n",
      "MATS7m 0.171\n",
      "MATS8m 0.671\n",
      "MATS1v 0.01\n",
      "MATS2v -0.095\n",
      "MATS3v 0.027\n",
      "MATS4v -0.213\n",
      "MATS5v -0.154\n",
      "MATS6v -0.052\n",
      "MATS7v 0.184\n",
      "MATS8v 0.573\n",
      "MATS1e 0.026\n",
      "MATS2e -0.11\n",
      "MATS3e 0.095\n",
      "MATS4e -0.126\n",
      "MATS5e -0.184\n",
      "MATS6e -0.144\n",
      "MATS7e 0.059\n",
      "MATS8e 0.415\n",
      "MATS1p -0.029\n",
      "MATS2p -0.101\n",
      "MATS3p 0.031\n",
      "MATS4p -0.214\n",
      "MATS5p -0.128\n",
      "MATS6p -0.022\n",
      "MATS7p 0.178\n",
      "MATS8p 0.475\n",
      "MATS1i -0.124\n",
      "MATS2i -0.122\n",
      "MATS3i 0.063\n",
      "MATS4i -0.191\n",
      "MATS5i -0.07\n",
      "MATS6i 0.029\n",
      "MATS7i 0.128\n",
      "MATS8i 0.185\n",
      "MATS1s -0.038\n",
      "MATS2s -0.169\n",
      "MATS3s 0.111\n",
      "MATS4s -0.073\n",
      "MATS5s -0.161\n",
      "MATS6s -0.159\n",
      "MATS7s 0.024\n",
      "MATS8s 0.489\n",
      "GATS1m 0.657\n",
      "GATS2m 0.867\n",
      "GATS3m 0.881\n",
      "GATS4m 1.124\n",
      "GATS5m 1.222\n",
      "GATS6m 1.258\n",
      "GATS7m 1.103\n",
      "GATS8m 0.776\n",
      "GATS1v 0.767\n",
      "GATS2v 0.893\n",
      "GATS3v 0.878\n",
      "GATS4v 1.138\n",
      "GATS5v 1.16\n",
      "GATS6v 1.176\n",
      "GATS7v 1.083\n",
      "GATS8v 0.873\n",
      "GATS1e 0.733\n",
      "GATS2e 1.058\n",
      "GATS3e 0.949\n",
      "GATS4e 1.095\n",
      "GATS5e 1.225\n",
      "GATS6e 1.136\n",
      "GATS7e 0.71\n",
      "GATS8e 0.184\n",
      "GATS1p 0.849\n",
      "GATS2p 0.936\n",
      "GATS3p 0.884\n",
      "GATS4p 1.143\n",
      "GATS5p 1.12\n",
      "GATS6p 1.105\n",
      "GATS7p 1.019\n",
      "GATS8p 0.861\n",
      "GATS1i 1.047\n",
      "GATS2i 1.089\n",
      "GATS3i 0.921\n",
      "GATS4i 1.144\n",
      "GATS5i 1.037\n",
      "GATS6i 0.916\n",
      "GATS7i 0.752\n",
      "GATS8i 0.635\n",
      "GATS1s 0.766\n",
      "GATS2s 1.013\n",
      "GATS3s 0.853\n",
      "GATS4s 1.024\n",
      "GATS5s 1.219\n",
      "GATS6s 1.254\n",
      "GATS7s 1.01\n",
      "GATS8s 0.525\n",
      "GGI1 1.5\n",
      "GGI2 1.556\n",
      "GGI3 0.75\n",
      "GGI4 0.649\n",
      "GGI5 0.125\n",
      "GGI6 0.078\n",
      "GGI7 0.0\n",
      "GGI8 0.0\n",
      "GGI9 0.0\n",
      "GGI10 0.0\n",
      "JGI1 0.094\n",
      "JGI2 0.071\n",
      "JGI3 0.034\n",
      "JGI4 0.041\n",
      "JGI5 0.013\n",
      "JGI6 0.02\n",
      "JGI7 0.0\n",
      "JGI8 0.0\n",
      "JGI9 0.0\n",
      "JGI10 0.0\n",
      "JGT 0.271\n",
      "SpMax1_Bh(m) 4.116\n",
      "SpMax2_Bh(m) 3.616\n",
      "SpMax3_Bh(m) 3.185\n",
      "SpMax4_Bh(m) 2.862\n",
      "SpMax5_Bh(m) 2.663\n",
      "SpMax6_Bh(m) 2.283\n",
      "SpMax7_Bh(m) 2.142\n",
      "SpMax8_Bh(m) 1.179\n",
      "SpMax1_Bh(v) 4.091\n",
      "SpMax2_Bh(v) 3.567\n",
      "SpMax3_Bh(v) 3.182\n",
      "SpMax4_Bh(v) 2.861\n",
      "SpMax5_Bh(v) 2.619\n",
      "SpMax6_Bh(v) 2.291\n",
      "SpMax7_Bh(v) 2.03\n",
      "SpMax8_Bh(v) 1.26\n",
      "SpMax1_Bh(e) 4.147\n",
      "SpMax2_Bh(e) 3.678\n",
      "SpMax3_Bh(e) 3.29\n",
      "SpMax4_Bh(e) 2.961\n",
      "SpMax5_Bh(e) 2.753\n",
      "SpMax6_Bh(e) 2.441\n",
      "SpMax7_Bh(e) 2.292\n",
      "SpMax8_Bh(e) 1.666\n",
      "SpMax1_Bh(p) 4.088\n",
      "SpMax2_Bh(p) 3.558\n",
      "SpMax3_Bh(p) 3.188\n",
      "SpMax4_Bh(p) 2.871\n",
      "SpMax5_Bh(p) 2.618\n",
      "SpMax6_Bh(p) 2.307\n",
      "SpMax7_Bh(p) 2.002\n",
      "SpMax8_Bh(p) 1.32\n",
      "SpMax1_Bh(i) 4.173\n",
      "SpMax2_Bh(i) 3.725\n",
      "SpMax3_Bh(i) 3.342\n",
      "SpMax4_Bh(i) 3.012\n",
      "SpMax5_Bh(i) 2.818\n",
      "SpMax6_Bh(i) 2.516\n",
      "SpMax7_Bh(i) 2.399\n",
      "SpMax8_Bh(i) 1.85\n",
      "SpMax1_Bh(s) 5.106\n",
      "SpMax2_Bh(s) 4.683\n",
      "SpMax3_Bh(s) 4.219\n",
      "SpMax4_Bh(s) 3.996\n",
      "SpMax5_Bh(s) 3.704\n",
      "SpMax6_Bh(s) 3.244\n",
      "SpMax7_Bh(s) 3.185\n",
      "SpMax8_Bh(s) 2.175\n",
      "SpMin1_Bh(m) 2.179\n",
      "SpMin2_Bh(m) 1.77\n",
      "SpMin3_Bh(m) 1.492\n",
      "SpMin4_Bh(m) 1.194\n",
      "SpMin5_Bh(m) 0.942\n",
      "SpMin6_Bh(m) 0.76\n",
      "SpMin7_Bh(m) 0.605\n",
      "SpMin8_Bh(m) 0.382\n",
      "SpMin1_Bh(v) 2.188\n",
      "SpMin2_Bh(v) 1.791\n",
      "SpMin3_Bh(v) 1.458\n",
      "SpMin4_Bh(v) 1.139\n",
      "SpMin5_Bh(v) 0.925\n",
      "SpMin6_Bh(v) 0.698\n",
      "SpMin7_Bh(v) 0.584\n",
      "SpMin8_Bh(v) 0.246\n",
      "SpMin1_Bh(e) 2.115\n",
      "SpMin2_Bh(e) 1.647\n",
      "SpMin3_Bh(e) 1.296\n",
      "SpMin4_Bh(e) 0.974\n",
      "SpMin5_Bh(e) 0.729\n",
      "SpMin6_Bh(e) 0.462\n",
      "SpMin7_Bh(e) 0.229\n",
      "SpMin8_Bh(e) 0.0\n",
      "SpMin1_Bh(p) 2.191\n",
      "SpMin2_Bh(p) 1.792\n",
      "SpMin3_Bh(p) 1.434\n",
      "SpMin4_Bh(p) 1.109\n",
      "SpMin5_Bh(p) 0.918\n",
      "SpMin6_Bh(p) 0.657\n",
      "SpMin7_Bh(p) 0.562\n",
      "SpMin8_Bh(p) 0.157\n",
      "SpMin1_Bh(i) 2.095\n",
      "SpMin2_Bh(i) 1.604\n",
      "SpMin3_Bh(i) 1.247\n",
      "SpMin4_Bh(i) 0.928\n",
      "SpMin5_Bh(i) 0.676\n",
      "SpMin6_Bh(i) 0.393\n",
      "SpMin7_Bh(i) 0.118\n",
      "SpMin8_Bh(i) 0.0\n",
      "SpMin1_Bh(s) 1.312\n",
      "SpMin2_Bh(s) 0.77\n",
      "SpMin3_Bh(s) 0.501\n",
      "SpMin4_Bh(s) 0.281\n",
      "SpMin5_Bh(s) 0.041\n",
      "SpMin6_Bh(s) 0.0\n",
      "SpMin7_Bh(s) 0.0\n",
      "SpMin8_Bh(s) 0.0\n",
      "P_VSA_LogP_1 0.0\n",
      "P_VSA_LogP_2 0.0\n",
      "P_VSA_LogP_3 56.857\n",
      "P_VSA_LogP_4 57.113\n",
      "P_VSA_LogP_5 27.529\n",
      "P_VSA_LogP_6 0.0\n",
      "P_VSA_LogP_7 70.627\n",
      "P_VSA_LogP_8 0.0\n",
      "P_VSA_MR_1 94.169\n",
      "P_VSA_MR_2 0.0\n",
      "P_VSA_MR_3 0.0\n",
      "P_VSA_MR_4 0.0\n",
      "P_VSA_MR_5 22.383\n",
      "P_VSA_MR_6 62.003\n",
      "P_VSA_MR_7 33.571\n",
      "P_VSA_MR_8 0.0\n",
      "P_VSA_m_1 94.169\n",
      "P_VSA_m_2 117.958\n",
      "P_VSA_m_3 0.0\n",
      "P_VSA_m_4 0.0\n",
      "P_VSA_m_5 0.0\n",
      "P_VSA_v_1 94.169\n",
      "P_VSA_v_2 33.571\n",
      "P_VSA_v_3 84.387\n",
      "P_VSA_e_1 94.169\n",
      "P_VSA_e_2 84.387\n",
      "P_VSA_e_3 33.571\n",
      "P_VSA_e_4 0.0\n",
      "P_VSA_e_5 0.0\n",
      "P_VSA_e_6 0.0\n",
      "P_VSA_p_1 94.169\n",
      "P_VSA_p_2 33.571\n",
      "P_VSA_p_3 84.387\n",
      "P_VSA_i_1 0.0\n",
      "P_VSA_i_2 84.387\n",
      "P_VSA_i_3 94.169\n",
      "P_VSA_i_4 33.571\n",
      "P_VSA_s_1 0.0\n",
      "P_VSA_s_2 94.169\n",
      "P_VSA_s_3 9.434\n",
      "P_VSA_s_4 74.952\n",
      "P_VSA_s_5 0.0\n",
      "P_VSA_s_6 33.571\n",
      "Eta_alpha 6.8\n",
      "Eta_alpha_A 0.486\n",
      "Eta_epsi 13.0\n",
      "Eta_epsi_A 0.591\n",
      "Eta_betaS 9.0\n",
      "Eta_betaS_A 0.643\n",
      "Eta_betaP 14.0\n",
      "Eta_betaP_A 1.0\n",
      "Eta_beta 23.0\n",
      "Eta_beta_A 1.643\n",
      "Eta_C 6.077\n",
      "Eta_C_A 0.434\n",
      "Eta_L 2.359\n",
      "Eta_L_A 0.168\n",
      "Eta_F 12.038\n",
      "Eta_F_A 0.86\n",
      "Eta_FL 4.591\n",
      "Eta_FL_A 0.328\n",
      "Eta_B 0.223\n",
      "Eta_B_A 0.016\n",
      "Eta_sh_p 0.0\n",
      "Eta_sh_y 0.294\n",
      "Eta_sh_x 0.0\n",
      "SpMax_EA 3.142\n",
      "SpMaxA_EA 0.196\n",
      "SpDiam_EA 5.142\n",
      "SpAD_EA 23.896\n",
      "SpMAD_EA 1.493\n",
      "SpMax_EA(ed) 10.861\n",
      "SpMaxA_EA(ed) 0.679\n",
      "SpDiam_EA(ed) 18.059\n",
      "SpAD_EA(ed) 67.689\n",
      "SpMAD_EA(ed) 4.231\n",
      "SpMax_EA(bo) 4.713\n",
      "SpMaxA_EA(bo) 0.295\n",
      "SpDiam_EA(bo) 7.713\n",
      "SpAD_EA(bo) 35.843\n",
      "SpMAD_EA(bo) 2.24\n",
      "SpMax_EA(dm) 0.0\n",
      "SpMaxA_EA(dm) 0.0\n",
      "SpDiam_EA(dm) 0.0\n",
      "SpAD_EA(dm) 0.0\n",
      "SpMAD_EA(dm) 0.0\n",
      "SpMax_EA(ri) 3.092\n",
      "SpMaxA_EA(ri) 0.193\n",
      "SpDiam_EA(ri) 5.092\n",
      "SpAD_EA(ri) 23.319\n",
      "SpMAD_EA(ri) 1.457\n",
      "SpMax_AEA(ed) 6.699\n",
      "SpMaxA_AEA(ed) 0.419\n",
      "SpDiam_AEA(ed) 6.391\n",
      "SpAD_AEA(ed) 24.26\n",
      "SpMAD_AEA(ed) 1.516\n",
      "SpMax_AEA(bo) 4.642\n",
      "SpMaxA_AEA(bo) 0.29\n",
      "SpDiam_AEA(bo) 5.142\n",
      "SpAD_AEA(bo) 23.896\n",
      "SpMAD_AEA(bo) 1.493\n",
      "SpMax_AEA(dm) 3.142\n",
      "SpMaxA_AEA(dm) 0.196\n",
      "SpDiam_AEA(dm) 5.142\n",
      "SpAD_AEA(dm) 23.896\n",
      "SpMAD_AEA(dm) 1.493\n",
      "SpMax_AEA(ri) 4.126\n",
      "SpMaxA_AEA(ri) 0.258\n",
      "SpDiam_AEA(ri) 5.195\n",
      "SpAD_AEA(ri) 23.887\n",
      "SpMAD_AEA(ri) 1.493\n",
      "Chi0_EA 9.914\n",
      "Chi1_EA 7.926\n",
      "Chi0_EA(ed) 5.985\n",
      "Chi1_EA(ed) 2.832\n",
      "Chi0_EA(bo) 8.095\n",
      "Chi1_EA(bo) 5.284\n",
      "Chi0_EA(dm) 0.0\n",
      "Chi1_EA(dm) 0.0\n",
      "Chi0_EA(ri) 10.038\n",
      "Chi1_EA(ri) 8.124\n",
      "Chi0_AEA(ed) 9.914\n",
      "Chi1_AEA(ed) 7.926\n",
      "Chi0_AEA(bo) 9.914\n",
      "Chi1_AEA(bo) 7.926\n",
      "Chi0_AEA(dm) 9.914\n",
      "Chi1_AEA(dm) 7.926\n",
      "Chi0_AEA(ri) 9.914\n",
      "Chi1_AEA(ri) 7.926\n",
      "SM02_EA 3.807\n",
      "SM03_EA 3.219\n",
      "SM04_EA 5.38\n",
      "SM05_EA 5.707\n",
      "SM06_EA 7.279\n",
      "SM07_EA 8.051\n",
      "SM08_EA 9.366\n",
      "SM09_EA 10.346\n",
      "SM10_EA 11.555\n",
      "SM11_EA 12.627\n",
      "SM12_EA 13.794\n",
      "SM13_EA 14.906\n",
      "SM14_EA 16.058\n",
      "SM15_EA 17.187\n",
      "SM02_EA(ed) 5.984\n",
      "SM03_EA(ed) 6.917\n",
      "SM04_EA(ed) 10.071\n",
      "SM05_EA(ed) 11.896\n",
      "SM06_EA(ed) 14.544\n",
      "SM07_EA(ed) 16.704\n",
      "SM08_EA(ed) 19.185\n",
      "SM09_EA(ed) 21.477\n",
      "SM10_EA(ed) 23.899\n",
      "SM11_EA(ed) 26.245\n",
      "SM12_EA(ed) 28.644\n",
      "SM13_EA(ed) 31.012\n",
      "SM14_EA(ed) 33.402\n",
      "SM15_EA(ed) 35.78\n",
      "SM02_EA(bo) 4.605\n",
      "SM03_EA(bo) 4.407\n",
      "SM04_EA(bo) 6.998\n",
      "SM05_EA(bo) 7.732\n",
      "SM06_EA(bo) 9.711\n",
      "SM07_EA(bo) 10.889\n",
      "SM08_EA(bo) 12.61\n",
      "SM09_EA(bo) 13.995\n",
      "SM10_EA(bo) 15.61\n",
      "SM11_EA(bo) 17.087\n",
      "SM12_EA(bo) 18.66\n",
      "SM13_EA(bo) 20.177\n",
      "SM14_EA(bo) 21.734\n",
      "SM15_EA(bo) 23.269\n",
      "SM02_EA(dm) 0.0\n",
      "SM03_EA(dm) 0.0\n",
      "SM04_EA(dm) 0.0\n",
      "SM05_EA(dm) 0.0\n",
      "SM06_EA(dm) 0.0\n",
      "SM07_EA(dm) 0.0\n",
      "SM08_EA(dm) 0.0\n",
      "SM09_EA(dm) 0.0\n",
      "SM10_EA(dm) 0.0\n",
      "SM11_EA(dm) 0.0\n",
      "SM12_EA(dm) 0.0\n",
      "SM13_EA(dm) 0.0\n",
      "SM14_EA(dm) 0.0\n",
      "SM15_EA(dm) 0.0\n",
      "SM02_EA(ri) 3.762\n",
      "SM03_EA(ri) 3.17\n",
      "SM04_EA(ri) 5.299\n",
      "SM05_EA(ri) 5.621\n",
      "SM06_EA(ri) 7.168\n",
      "SM07_EA(ri) 7.932\n",
      "SM08_EA(ri) 9.227\n",
      "SM09_EA(ri) 10.195\n",
      "SM10_EA(ri) 11.388\n",
      "SM11_EA(ri) 12.446\n",
      "SM12_EA(ri) 13.597\n",
      "SM13_EA(ri) 14.694\n",
      "SM14_EA(ri) 15.831\n",
      "SM15_EA(ri) 16.945\n",
      "SM02_AEA(ed) 5.165\n",
      "SM03_AEA(ed) 6.715\n",
      "SM04_AEA(ed) 8.378\n",
      "SM05_AEA(ed) 10.112\n",
      "SM06_AEA(ed) 11.891\n",
      "SM07_AEA(ed) 13.701\n",
      "SM08_AEA(ed) 15.533\n",
      "SM09_AEA(ed) 17.38\n",
      "SM10_AEA(ed) 19.238\n",
      "SM11_AEA(ed) 21.105\n",
      "SM12_AEA(ed) 22.977\n",
      "SM13_AEA(ed) 24.855\n",
      "SM14_AEA(ed) 26.737\n",
      "SM15_AEA(ed) 28.622\n",
      "SM02_AEA(bo) 4.394\n",
      "SM03_AEA(bo) 5.624\n",
      "SM04_AEA(bo) 6.943\n",
      "SM05_AEA(bo) 8.311\n",
      "SM06_AEA(bo) 9.716\n",
      "SM07_AEA(bo) 11.15\n",
      "SM08_AEA(bo) 12.606\n",
      "SM09_AEA(bo) 3.142\n",
      "SM10_AEA(bo) 2.414\n",
      "SM11_AEA(bo) 1.806\n",
      "SM12_AEA(bo) 1.486\n",
      "SM13_AEA(bo) 1.414\n",
      "SM14_AEA(bo) 1.0\n",
      "SM15_AEA(bo) 0.686\n",
      "SM02_AEA(dm) -0.414\n",
      "SM03_AEA(dm) -0.427\n",
      "SM04_AEA(dm) -0.909\n",
      "SM05_AEA(dm) -1.0\n",
      "SM06_AEA(dm) -1.414\n",
      "SM07_AEA(dm) -1.784\n",
      "SM08_AEA(dm) -2.0\n",
      "SM09_AEA(dm) -2.0\n",
      "SM10_AEA(dm) 10.861\n",
      "SM11_AEA(dm) 7.604\n",
      "SM12_AEA(dm) 5.081\n",
      "SM13_AEA(dm) 3.174\n",
      "SM14_AEA(dm) 3.115\n",
      "SM15_AEA(dm) 2.449\n",
      "SM02_AEA(ri) 1.56\n",
      "SM03_AEA(ri) -1.015\n",
      "SM04_AEA(ri) -1.043\n",
      "SM05_AEA(ri) -2.15\n",
      "SM06_AEA(ri) -2.449\n",
      "SM07_AEA(ri) -3.963\n",
      "SM08_AEA(ri) -4.963\n",
      "SM09_AEA(ri) -5.291\n",
      "SM10_AEA(ri) -5.771\n",
      "SM11_AEA(ri) 4.713\n",
      "SM12_AEA(ri) 3.621\n",
      "SM13_AEA(ri) 2.709\n",
      "SM14_AEA(ri) 2.229\n",
      "SM15_AEA(ri) 2.121\n",
      "Eig01_EA 3.142\n",
      "Eig02_EA 2.414\n",
      "Eig03_EA 1.806\n",
      "Eig04_EA 1.486\n",
      "Eig05_EA 1.414\n",
      "Eig06_EA 1.0\n",
      "Eig07_EA 0.686\n",
      "Eig08_EA -0.414\n",
      "Eig09_EA -0.427\n",
      "Eig10_EA -0.909\n",
      "Eig11_EA -1.0\n",
      "Eig12_EA -1.414\n",
      "Eig13_EA -1.784\n",
      "Eig14_EA -2.0\n",
      "Eig15_EA -2.0\n",
      "Eig01_EA(ed) 10.861\n",
      "Eig02_EA(ed) 7.604\n",
      "Eig03_EA(ed) 5.081\n",
      "Eig04_EA(ed) 3.174\n",
      "Eig05_EA(ed) 3.115\n",
      "Eig06_EA(ed) 2.449\n",
      "Eig07_EA(ed) 1.56\n",
      "Eig08_EA(ed) -1.015\n",
      "Eig09_EA(ed) -1.043\n",
      "Eig10_EA(ed) -2.15\n",
      "Eig11_EA(ed) -2.449\n",
      "Eig12_EA(ed) -3.963\n",
      "Eig13_EA(ed) -4.963\n",
      "Eig14_EA(ed) -5.291\n",
      "Eig15_EA(ed) -5.771\n",
      "Eig01_EA(bo) 4.713\n",
      "Eig02_EA(bo) 3.621\n",
      "Eig03_EA(bo) 2.709\n",
      "Eig04_EA(bo) 2.229\n",
      "Eig05_EA(bo) 2.121\n",
      "Eig06_EA(bo) 1.5\n",
      "Eig07_EA(bo) 1.028\n",
      "Eig08_EA(bo) -0.621\n",
      "Eig09_EA(bo) -0.64\n",
      "Eig10_EA(bo) -1.363\n",
      "Eig11_EA(bo) -1.5\n",
      "Eig12_EA(bo) -2.121\n",
      "Eig13_EA(bo) -2.676\n",
      "Eig14_EA(bo) -3.0\n",
      "Eig15_EA(bo) -3.0\n",
      "Eig01_EA(dm) 0.0\n",
      "Eig02_EA(dm) 0.0\n",
      "Eig03_EA(dm) 0.0\n",
      "Eig04_EA(dm) 0.0\n",
      "Eig05_EA(dm) 0.0\n",
      "Eig06_EA(dm) 0.0\n",
      "Eig07_EA(dm) 0.0\n",
      "Eig08_EA(dm) 0.0\n",
      "Eig09_EA(dm) 0.0\n",
      "Eig11_EA(dm) 0.0\n",
      "Eig12_EA(dm) 0.0\n",
      "Eig13_EA(dm) 0.0\n",
      "Eig14_EA(dm) 0.0\n",
      "Eig15_EA(dm) 0.0\n",
      "Eig01_EA(ri) 3.092\n",
      "Eig02_EA(ri) 2.351\n",
      "Eig03_EA(ri) 1.769\n",
      "Eig04_EA(ri) 1.456\n",
      "Eig05_EA(ri) 1.369\n",
      "Eig06_EA(ri) 0.957\n",
      "Eig07_EA(ri) 0.665\n",
      "Eig08_EA(ri) -0.4\n",
      "Eig09_EA(ri) -0.416\n",
      "Eig10_EA(ri) -0.888\n",
      "Eig11_EA(ri) -0.974\n",
      "Eig12_EA(ri) -1.376\n",
      "Eig13_EA(ri) -1.743\n",
      "Eig14_EA(ri) -1.862\n",
      "Eig15_EA(ri) -2.0\n",
      "Eig01_AEA(ed) 6.699\n",
      "Eig02_AEA(ed) 5.71\n",
      "Eig03_AEA(ed) 4.775\n",
      "Eig04_AEA(ed) 3.85\n",
      "Eig05_AEA(ed) 3.657\n",
      "Eig06_AEA(ed) 3.541\n",
      "Eig07_AEA(ed) 3.149\n",
      "Eig08_AEA(ed) 2.41\n",
      "Eig09_AEA(ed) 2.308\n",
      "Eig10_AEA(ed) 2.0\n",
      "Eig11_AEA(ed) 2.0\n",
      "Eig12_AEA(ed) 1.266\n",
      "Eig13_AEA(ed) 1.26\n",
      "Eig14_AEA(ed) 0.743\n",
      "Eig15_AEA(ed) 0.325\n",
      "Eig01_AEA(bo) 4.642\n",
      "Eig02_AEA(bo) 3.914\n",
      "Eig03_AEA(bo) 3.306\n",
      "Eig04_AEA(bo) 2.986\n",
      "Eig05_AEA(bo) 2.914\n",
      "Eig06_AEA(bo) 2.5\n",
      "Eig07_AEA(bo) 2.186\n",
      "Eig08_AEA(bo) 1.086\n",
      "Eig09_AEA(bo) 1.073\n",
      "Eig10_AEA(bo) 0.591\n",
      "Eig11_AEA(bo) 0.5\n",
      "Eig12_AEA(bo) 0.086\n",
      "Eig13_AEA(bo) -0.284\n",
      "Eig14_AEA(bo) -0.5\n",
      "Eig15_AEA(bo) -0.5\n",
      "Eig01_AEA(dm) 3.142\n",
      "Eig02_AEA(dm) 2.414\n",
      "Eig03_AEA(dm) 1.806\n",
      "Eig04_AEA(dm) 1.486\n",
      "Eig05_AEA(dm) 1.414\n",
      "Eig06_AEA(dm) 1.0\n",
      "Eig07_AEA(dm) 0.686\n",
      "Eig08_AEA(dm) -0.414\n",
      "Eig09_AEA(dm) -0.427\n",
      "Eig10_AEA(dm) -0.909\n",
      "Eig11_AEA(dm) -1.0\n",
      "Eig12_AEA(dm) -1.414\n",
      "Eig13_AEA(dm) -1.784\n",
      "Eig14_AEA(dm) -2.0\n",
      "Eig15_AEA(dm) -2.0\n",
      "Eig01_AEA(ri) 4.126\n",
      "Eig02_AEA(ri) 3.389\n",
      "Eig03_AEA(ri) 2.786\n",
      "Eig04_AEA(ri) 2.466\n",
      "Eig05_AEA(ri) 2.386\n",
      "Eig06_AEA(ri) 1.96\n",
      "Eig07_AEA(ri) 1.656\n",
      "Eig08_AEA(ri) 0.569\n",
      "Eig09_AEA(ri) 0.539\n",
      "Eig10_AEA(ri) 0.07\n",
      "Eig11_AEA(ri) -0.026\n",
      "Eig12_AEA(ri) -0.439\n",
      "Eig13_AEA(ri) -0.812\n",
      "Eig14_AEA(ri) -1.0\n",
      "Eig15_AEA(ri) -1.0\n",
      "nCp 0\n",
      "nCs 0\n",
      "nCt 0\n",
      "nCq 0\n",
      "nCrs 0\n",
      "nCrt 0\n",
      "nCrq 0\n",
      "nCar 12\n",
      "nCbH 6\n",
      "nCb- 4\n",
      "nCconj 0\n",
      "nR=Cp 0\n",
      "nR=Cs 0\n",
      "nR=Ct 0\n",
      "nR#C- 0\n",
      "nRCOOH 0\n",
      "nArCOOH 0\n",
      "nRCOOR 0\n",
      "nArCOOR 0\n",
      "nRCONH2 0\n",
      "nArCONH2 0\n",
      "nRCONHR 0\n",
      "nArCONHR 0\n",
      "nRCONR2 0\n",
      "nROCON 0\n",
      "nArOCON 0\n",
      "nArCHO 0\n",
      "nRCO 0\n",
      "nArCO 0\n",
      "nCONN 0\n",
      "nN=C-N< 0\n",
      "nC(=N)N2 0\n",
      "nRC=N 0\n",
      "nArCNO 0\n",
      "nRNH2 0\n",
      "nArNH2 0\n",
      "nRNHR 0\n",
      "nArNHR 0\n",
      "nRNR2 0\n",
      "nArNR2 0\n",
      "nN-N 0\n",
      "nRCN 0\n",
      "nArCN 0\n",
      "nRNO2 0\n",
      "nArNO2 0\n",
      "nN(CO)2 0\n",
      "nC=N-N< 0\n",
      "nROH 0\n",
      "nArOH 0\n",
      "nOHp 0\n",
      "nOHs 0\n",
      "nOHt 0\n",
      "nROR 0\n",
      "nArOR 0\n",
      "nRSR 0\n",
      "nS(=O)2 0\n",
      "nSO2N 0\n",
      "nCH2RX 0\n",
      "nCRX3 0\n",
      "nArX 0\n",
      "nCXr 0\n",
      "nCXr= 0\n",
      "nCconjX 0\n",
      "nPyrrolidines 0\n",
      "nOxolanes 0\n",
      "nPyrroles 0\n",
      "nPyrazoles 0\n",
      "nImidazoles 0\n",
      "nFuranes 0\n",
      "nThiophenes 0\n",
      "nOxazoles 0\n",
      "nIsoxazoles 0\n",
      "nThiazoles 0\n",
      "nTriazoles 0\n",
      "nPyridines 0\n",
      "nPyridazines 0\n",
      "nPyrimidines 0\n",
      "nPyrazines 1\n",
      "nHDon 0\n",
      "nHAcc 2\n",
      "C-001 0\n",
      "C-002 0\n",
      "C-003 0\n",
      "C-004 0\n",
      "C-005 0\n",
      "C-006 0\n",
      "C-007 0\n",
      "C-008 0\n",
      "C-009 0\n",
      "C-010 0\n",
      "C-011 0\n",
      "C-012 0\n",
      "C-013 0\n",
      "C-015 0\n",
      "C-016 0\n",
      "C-017 0\n",
      "C-018 0\n",
      "C-019 0\n",
      "C-020 0\n",
      "C-022 0\n",
      "C-024 6\n",
      "C-025 2\n",
      "C-026 0\n",
      "C-027 2\n",
      "C-028 2\n",
      "C-029 0\n",
      "C-030 0\n",
      "C-031 0\n",
      "C-032 0\n",
      "C-033 0\n",
      "C-034 0\n",
      "C-035 0\n",
      "C-036 0\n",
      "C-037 0\n",
      "C-038 0\n",
      "C-039 0\n",
      "C-040 0\n",
      "C-041 0\n",
      "C-042 0\n",
      "C-043 0\n",
      "C-044 0\n",
      "H-046 0\n",
      "H-047 6\n",
      "H-048 0\n",
      "H-049 2\n",
      "H-050 0\n",
      "H-051 0\n",
      "H-052 0\n",
      "H-053 0\n",
      "H-054 0\n",
      "O-056 0\n",
      "O-057 0\n",
      "O-058 0\n",
      "O-059 0\n",
      "O-060 0\n",
      "O-061 0\n",
      "N-066 0\n",
      "N-067 0\n",
      "N-068 0\n",
      "N-069 0\n",
      "N-070 0\n",
      "N-071 0\n",
      "N-072 0\n",
      "N-073 0\n",
      "N-074 0\n",
      "N-075 2\n",
      "N-076 0\n",
      "N-077 0\n",
      "N-078 0\n",
      "F-083 0\n",
      "F-084 0\n",
      "Cl-086 0\n",
      "Cl-087 0\n",
      "Cl-089 0\n",
      "Cl-090 0\n",
      "Br-094 0\n",
      "Br-095 0\n",
      "S-107 0\n",
      "S-108 0\n",
      "S-110 0\n",
      "SsCH3 0.0\n",
      "SdCH2 0.0\n",
      "SssCH2 0.0\n",
      "SdsCH 0.0\n",
      "SaaCH 15.75\n",
      "SsssCH 0.0\n",
      "StsC 0.0\n",
      "SdssC 0.0\n",
      "SaasC 0.0\n",
      "SaaaC 4.301\n",
      "SssssC 0.0\n",
      "SsNH2 0.0\n",
      "SssNH 0.0\n",
      "SsssN 0.0\n",
      "SdsN 0.0\n",
      "SaaN 8.616\n",
      "StN 0.0\n",
      "SddsN 0.0\n",
      "SaasN 0.0\n",
      "SaaNH 0.0\n",
      "SsOH 0.0\n",
      "SdO 0.0\n",
      "SssO 0.0\n",
      "SaaO 0.0\n",
      "SdS 0.0\n",
      "SssS 0.0\n",
      "SaaS 0.0\n",
      "SddssS 0.0\n",
      "SsF 0.0\n",
      "SsCl 0.0\n",
      "SsBr 0.0\n",
      "NsCH3 0\n",
      "NdCH2 0\n",
      "NssCH2 0\n",
      "NdsCH 0\n",
      "NaaCH 8\n",
      "NsssCH 0\n",
      "NtsC 0\n",
      "NdssC 0\n",
      "NaasC 0\n",
      "NaaaC 4\n",
      "NssssC 0\n",
      "NsNH2 0\n",
      "NssNH 0\n",
      "NsssN 0\n",
      "NdsN 0\n",
      "NaaN 2\n",
      "NtN 0\n",
      "NddsN 0\n",
      "NaasN 0\n",
      "NaaNH 0\n",
      "NsOH 0\n",
      "NdO 0\n",
      "NssO 0\n",
      "NaaO 0\n",
      "NdS 0\n",
      "NssS 0\n",
      "NaaS 0\n",
      "NddssS 0\n",
      "NsF 0\n",
      "NsCl 0\n",
      "NsBr 0\n",
      "CATS2D_00_DD 0\n",
      "CATS2D_01_DD 0\n",
      "CATS2D_02_DD 0\n",
      "CATS2D_03_DD 0\n",
      "CATS2D_04_DD 0\n",
      "CATS2D_05_DD 0\n",
      "CATS2D_06_DD 0\n",
      "CATS2D_07_DD 0\n",
      "CATS2D_08_DD 0\n",
      "CATS2D_09_DD 0\n",
      "CATS2D_01_DA 0\n",
      "CATS2D_02_DA 0\n",
      "CATS2D_03_DA 0\n",
      "CATS2D_04_DA 0\n",
      "CATS2D_05_DA 0\n",
      "CATS2D_06_DA 0\n",
      "CATS2D_07_DA 0\n",
      "CATS2D_08_DA 0\n",
      "CATS2D_09_DA 0\n",
      "CATS2D_00_DP 0\n",
      "CATS2D_02_DP 0\n",
      "CATS2D_03_DP 0\n",
      "CATS2D_04_DP 0\n",
      "CATS2D_05_DP 0\n",
      "CATS2D_06_DP 0\n",
      "CATS2D_07_DP 0\n",
      "CATS2D_08_DP 0\n",
      "CATS2D_09_DP 0\n",
      "CATS2D_01_DN 0\n",
      "CATS2D_02_DN 0\n",
      "CATS2D_03_DN 0\n",
      "CATS2D_04_DN 0\n",
      "CATS2D_05_DN 0\n",
      "CATS2D_06_DN 0\n",
      "CATS2D_07_DN 0\n",
      "CATS2D_02_DL 0\n",
      "CATS2D_03_DL 0\n",
      "CATS2D_04_DL 0\n",
      "CATS2D_05_DL 0\n",
      "CATS2D_06_DL 0\n",
      "CATS2D_07_DL 0\n",
      "CATS2D_08_DL 0\n",
      "CATS2D_09_DL 0\n",
      "CATS2D_01_AA 0\n",
      "CATS2D_02_AA 0\n",
      "CATS2D_03_AA 1\n",
      "CATS2D_04_AA 0\n",
      "CATS2D_05_AA 0\n",
      "CATS2D_06_AA 0\n",
      "CATS2D_07_AA 0\n",
      "CATS2D_08_AA 0\n",
      "CATS2D_09_AA 0\n",
      "CATS2D_02_AP 0\n",
      "CATS2D_03_AP 0\n",
      "CATS2D_04_AP 0\n",
      "CATS2D_05_AP 0\n",
      "CATS2D_06_AP 0\n",
      "CATS2D_07_AP 0\n",
      "CATS2D_08_AP 0\n",
      "CATS2D_09_AP 0\n",
      "CATS2D_01_AN 0\n",
      "CATS2D_02_AN 0\n",
      "CATS2D_03_AN 0\n",
      "CATS2D_04_AN 0\n",
      "CATS2D_05_AN 0\n",
      "CATS2D_06_AN 0\n",
      "CATS2D_07_AN 0\n",
      "CATS2D_08_AN 0\n",
      "CATS2D_02_AL 2\n",
      "CATS2D_03_AL 5\n",
      "CATS2D_04_AL 5\n",
      "CATS2D_05_AL 3\n",
      "CATS2D_06_AL 1\n",
      "CATS2D_07_AL 0\n",
      "CATS2D_08_AL 0\n",
      "CATS2D_09_AL 0\n",
      "CATS2D_00_PP 0\n",
      "CATS2D_04_PP 0\n",
      "CATS2D_02_PL 0\n",
      "CATS2D_03_PL 0\n",
      "CATS2D_04_PL 0\n",
      "CATS2D_05_PL 0\n",
      "CATS2D_06_PL 0\n",
      "CATS2D_07_PL 0\n",
      "CATS2D_08_PL 0\n",
      "CATS2D_09_PL 0\n",
      "CATS2D_01_NL 0\n",
      "CATS2D_02_NL 0\n",
      "CATS2D_03_NL 0\n",
      "CATS2D_04_NL 0\n",
      "CATS2D_05_NL 0\n",
      "CATS2D_06_NL 0\n",
      "CATS2D_07_NL 0\n",
      "CATS2D_08_NL 0\n",
      "CATS2D_09_NL 0\n",
      "CATS2D_01_LL 8\n",
      "CATS2D_02_LL 9\n",
      "CATS2D_03_LL 7\n",
      "CATS2D_04_LL 3\n",
      "CATS2D_05_LL 1\n",
      "CATS2D_06_LL 0\n",
      "CATS2D_07_LL 0\n",
      "CATS2D_08_LL 0\n",
      "CATS2D_09_LL 0\n",
      "T(N..N) 3\n",
      "T(N..O) 0\n",
      "T(N..S) 0\n",
      "T(N..F) 0\n",
      "T(N..Cl) 0\n",
      "T(N..Br) 0\n",
      "T(O..O) 0\n",
      "T(O..S) 0\n",
      "T(O..F) 0\n",
      "T(O..Cl) 0\n",
      "T(O..Br) 0\n",
      "T(S..S) 0\n",
      "T(S..F) 0\n",
      "T(S..Cl) 0\n",
      "T(S..Br) 0\n",
      "T(F..F) 0\n",
      "T(F..Cl) 0\n",
      "T(F..Br) 0\n",
      "T(Cl..Cl) 0\n",
      "T(Cl..Br) 0\n",
      "B01[C-O] 0\n",
      "B01[C-S] 0\n",
      "B01[C-F] 0\n",
      "B01[C-Cl] 0\n",
      "B01[C-Br] 0\n",
      "B01[N-N] 0\n",
      "B01[N-O] 0\n",
      "B01[N-S] 0\n",
      "B01[O-S] 0\n",
      "B02[C-O] 0\n",
      "B02[C-S] 0\n",
      "B02[C-F] 0\n",
      "B02[C-Cl] 0\n",
      "B02[C-Br] 0\n",
      "B02[N-N] 0\n",
      "B02[N-O] 0\n",
      "B02[N-S] 0\n",
      "B02[N-Cl] 0\n",
      "B02[O-O] 0\n",
      "B02[O-S] 0\n",
      "B02[S-S] 0\n",
      "B02[F-F] 0\n",
      "B02[Cl-Cl] 0\n",
      "B03[C-N] 1\n",
      "B03[C-O] 0\n",
      "B03[C-S] 0\n",
      "B03[C-F] 0\n",
      "B03[C-Cl] 0\n",
      "B03[C-Br] 0\n",
      "B03[N-N] 1\n",
      "B03[N-O] 0\n",
      "B03[N-S] 0\n",
      "B03[N-F] 0\n",
      "B03[N-Cl] 0\n",
      "B03[N-Br] 0\n",
      "B03[O-O] 0\n",
      "B03[O-S] 0\n",
      "B03[O-F] 0\n",
      "B03[O-Cl] 0\n",
      "B03[O-Br] 0\n",
      "B03[S-S] 0\n",
      "B03[S-Cl] 0\n",
      "B03[F-F] 0\n",
      "B03[F-Cl] 0\n",
      "B03[Cl-Cl] 0\n",
      "B04[C-N] 1\n",
      "B04[C-O] 0\n",
      "B04[C-S] 0\n",
      "B04[C-F] 0\n",
      "B04[C-Cl] 0\n",
      "B04[C-Br] 0\n",
      "B04[N-N] 0\n",
      "B04[N-O] 0\n",
      "B04[N-S] 0\n",
      "B04[N-F] 0\n",
      "B04[N-Cl] 0\n",
      "B04[O-O] 0\n",
      "B04[O-S] 0\n",
      "B04[O-F] 0\n",
      "B04[O-Cl] 0\n",
      "B04[S-S] 0\n",
      "B04[S-F] 0\n",
      "B04[S-Cl] 0\n",
      "B04[F-F] 0\n",
      "B04[Cl-Cl] 0\n",
      "B05[C-N] 1\n",
      "B05[C-O] 0\n",
      "B05[C-S] 0\n",
      "B05[C-F] 0\n",
      "B05[C-Cl] 0\n",
      "B05[C-Br] 0\n",
      "B05[N-N] 0\n",
      "B05[N-O] 0\n",
      "B05[N-S] 0\n",
      "B05[N-F] 0\n",
      "B05[N-Cl] 0\n",
      "B05[N-Br] 0\n",
      "B05[O-O] 0\n",
      "B05[O-S] 0\n",
      "B05[O-F] 0\n",
      "B05[O-Cl] 0\n",
      "B05[O-Br] 0\n",
      "B05[S-S] 0\n",
      "B05[S-Cl] 0\n",
      "B05[F-F] 0\n",
      "B05[Cl-Cl] 0\n",
      "B06[C-C] 1\n",
      "B06[C-N] 1\n",
      "B06[C-O] 0\n",
      "B06[C-S] 0\n",
      "B06[C-F] 0\n",
      "B06[C-Cl] 0\n",
      "B06[C-Br] 0\n",
      "B06[N-N] 0\n",
      "B06[N-O] 0\n",
      "B06[N-S] 0\n",
      "B06[N-F] 0\n",
      "B06[N-Cl] 0\n",
      "B06[O-O] 0\n",
      "B06[O-S] 0\n",
      "B06[O-F] 0\n",
      "B06[O-Cl] 0\n",
      "B06[S-S] 0\n",
      "B06[S-F] 0\n",
      "B06[S-Cl] 0\n",
      "B07[C-C] 1\n",
      "B07[C-N] 0\n",
      "B07[C-O] 0\n",
      "B07[C-S] 0\n",
      "B07[C-F] 0\n",
      "B07[C-Cl] 0\n",
      "B07[C-Br] 0\n",
      "B07[N-N] 0\n",
      "B07[N-O] 0\n",
      "B07[N-S] 0\n",
      "B07[N-F] 0\n",
      "B07[N-Cl] 0\n",
      "B07[O-O] 0\n",
      "B07[O-S] 0\n",
      "B07[O-F] 0\n",
      "B07[O-Cl] 0\n",
      "B07[O-Br] 0\n",
      "B07[S-S] 0\n",
      "B07[S-Cl] 0\n",
      "B07[S-Br] 0\n",
      "B08[C-C] 0\n",
      "B08[C-N] 0\n",
      "B08[C-O] 0\n",
      "B08[C-S] 0\n",
      "B08[C-F] 0\n",
      "B08[C-Cl] 0\n",
      "B08[C-Br] 0\n",
      "B08[N-N] 0\n",
      "B08[N-O] 0\n",
      "B08[N-S] 0\n",
      "B08[N-F] 0\n",
      "B08[N-Cl] 0\n",
      "B08[O-O] 0\n",
      "B08[O-S] 0\n",
      "B08[O-F] 0\n",
      "B08[O-Cl] 0\n",
      "B08[S-Cl] 0\n",
      "B09[C-C] 0\n",
      "B09[C-N] 0\n",
      "B09[C-O] 0\n",
      "B09[C-S] 0\n",
      "B09[C-F] 0\n",
      "B09[C-Cl] 0\n",
      "B09[N-N] 0\n",
      "B09[N-O] 0\n",
      "B09[N-F] 0\n",
      "B09[N-Cl] 0\n",
      "B09[O-O] 0\n",
      "B09[O-S] 0\n",
      "B09[O-Cl] 0\n",
      "B10[C-C] 0\n",
      "B10[C-N] 0\n",
      "B10[C-O] 0\n",
      "B10[C-S] 0\n",
      "B10[C-F] 0\n",
      "B10[C-Cl] 0\n",
      "B10[N-N] 0\n",
      "B10[N-O] 0\n",
      "B10[N-S] 0\n",
      "B10[N-Cl] 0\n",
      "B10[O-O] 0\n",
      "B10[O-S] 0\n",
      "B10[O-F] 0\n",
      "B10[Cl-Cl] 0\n",
      "F01[C-C] 12\n",
      "F01[C-N] 4\n",
      "F01[C-O] 0\n",
      "F01[C-S] 0\n",
      "F01[C-F] 0\n",
      "F01[C-Cl] 0\n",
      "F01[C-Br] 0\n",
      "F01[N-N] 0\n",
      "F01[N-O] 0\n",
      "F01[N-S] 0\n",
      "F01[O-S] 0\n",
      "F02[C-C] 16\n",
      "F02[C-N] 6\n",
      "F02[C-O] 0\n",
      "F02[C-S] 0\n",
      "F02[C-F] 0\n",
      "F02[C-Cl] 0\n",
      "F02[C-Br] 0\n",
      "F02[N-N] 0\n",
      "F02[N-O] 0\n",
      "F02[N-S] 0\n",
      "F02[N-Cl] 0\n",
      "F02[O-O] 0\n",
      "F02[O-S] 0\n",
      "F02[S-S] 0\n",
      "F02[F-F] 0\n",
      "F02[Cl-Cl] 0\n",
      "F03[C-C] 16\n",
      "F03[C-N] 5\n",
      "F03[C-O] 0\n",
      "F03[C-S] 0\n",
      "F03[C-F] 0\n",
      "F03[C-Cl] 0\n",
      "F03[C-Br] 0\n",
      "F03[N-N] 1\n",
      "F03[N-O] 0\n",
      "F03[N-S] 0\n",
      "F03[N-F] 0\n",
      "F03[N-Cl] 0\n",
      "F03[N-Br] 0\n",
      "F03[O-O] 0\n",
      "F03[O-S] 0\n",
      "F03[O-F] 0\n",
      "F03[O-Cl] 0\n",
      "F03[O-Br] 0\n",
      "F03[S-S] 0\n",
      "F03[S-Cl] 0\n",
      "F03[F-F] 0\n",
      "F03[F-Cl] 0\n",
      "F03[Cl-Cl] 0\n",
      "F04[C-C] 11\n",
      "F04[C-N] 5\n",
      "F04[C-O] 0\n",
      "F04[C-S] 0\n",
      "F04[C-F] 0\n",
      "F04[C-Cl] 0\n",
      "F04[C-Br] 0\n",
      "F04[N-N] 0\n",
      "F04[N-O] 0\n",
      "F04[N-S] 0\n",
      "F04[N-F] 0\n",
      "F04[N-Cl] 0\n",
      "F04[O-O] 0\n",
      "F04[O-S] 0\n",
      "F04[O-F] 0\n",
      "F04[O-Cl] 0\n",
      "F04[S-S] 0\n",
      "F04[S-F] 0\n",
      "F04[S-Cl] 0\n",
      "F04[F-F] 0\n",
      "F04[Cl-Cl] 0\n",
      "F05[C-C] 7\n",
      "F05[C-N] 3\n",
      "F05[C-O] 0\n",
      "F05[C-S] 0\n",
      "F05[C-F] 0\n",
      "F05[C-Cl] 0\n",
      "F05[C-Br] 0\n",
      "F05[N-N] 0\n",
      "F05[N-O] 0\n",
      "F05[N-S] 0\n",
      "F05[N-F] 0\n",
      "F05[N-Cl] 0\n",
      "F05[N-Br] 0\n",
      "F05[O-O] 0\n",
      "F05[O-S] 0\n",
      "F05[O-F] 0\n",
      "F05[O-Cl] 0\n",
      "F05[O-Br] 0\n",
      "F05[S-S] 0\n",
      "F05[S-Cl] 0\n",
      "F05[F-F] 0\n",
      "F05[Cl-Cl] 0\n",
      "F06[C-C] 3\n",
      "F06[C-N] 1\n",
      "F06[C-O] 0\n",
      "F06[C-S] 0\n",
      "F06[C-F] 0\n",
      "F06[C-Cl] 0\n",
      "F06[C-Br] 0\n",
      "F06[N-N] 0\n",
      "F06[N-O] 0\n",
      "F06[N-S] 0\n",
      "F06[N-F] 0\n",
      "F06[N-Cl] 0\n",
      "F06[O-O] 0\n",
      "F06[O-S] 0\n",
      "F06[O-F] 0\n",
      "F06[O-Cl] 0\n",
      "F06[S-S] 0\n",
      "F06[S-F] 0\n",
      "F06[S-Cl] 0\n",
      "F07[C-C] 1\n",
      "F07[C-N] 0\n",
      "F07[C-O] 0\n",
      "F07[C-S] 0\n",
      "F07[C-F] 0\n",
      "F07[C-Cl] 0\n",
      "F07[C-Br] 0\n",
      "F07[N-N] 0\n",
      "F07[N-O] 0\n",
      "F07[N-S] 0\n",
      "F07[N-F] 0\n",
      "F07[N-Cl] 0\n",
      "F07[O-O] 0\n",
      "F07[O-S] 0\n",
      "F07[O-F] 0\n",
      "F07[O-Cl] 0\n",
      "F07[O-Br] 0\n",
      "F07[S-S] 0\n",
      "F07[S-Cl] 0\n",
      "F07[S-Br] 0\n",
      "F08[C-C] 0\n",
      "F08[C-N] 0\n",
      "F08[C-O] 0\n",
      "F08[C-S] 0\n",
      "F08[C-F] 0\n",
      "F08[C-Cl] 0\n",
      "F08[C-Br] 0\n",
      "F08[N-N] 0\n",
      "F08[N-O] 0\n",
      "F08[N-S] 0\n",
      "F08[N-F] 0\n",
      "F08[N-Cl] 0\n",
      "F08[O-O] 0\n",
      "F08[O-S] 0\n",
      "F08[O-F] 0\n",
      "F08[O-Cl] 0\n",
      "F08[S-Cl] 0\n",
      "F09[C-C] 0\n",
      "F09[C-N] 0\n",
      "F09[C-O] 0\n",
      "F09[C-S] 0\n",
      "F09[C-F] 0\n",
      "F09[C-Cl] 0\n",
      "F09[N-N] 0\n",
      "F09[N-O] 0\n",
      "F09[N-F] 0\n",
      "F09[N-Cl] 0\n",
      "F09[O-O] 0\n",
      "F09[O-S] 0\n",
      "F09[O-Cl] 0\n",
      "F10[C-C] 0\n",
      "F10[C-N] 0\n",
      "F10[C-O] 0\n",
      "F10[C-S] 0\n",
      "F10[C-F] 0\n",
      "F10[C-Cl] 0\n",
      "F10[N-N] 0\n",
      "F10[N-O] 0\n",
      "F10[N-S] 0\n",
      "F10[N-Cl] 0\n",
      "F10[O-O] 0\n",
      "F10[O-S] 0\n",
      "F10[O-F] 0\n",
      "F10[Cl-Cl] 0\n",
      "Uc 4.087\n",
      "Ui 3.17\n",
      "Hy -0.835\n",
      "AMR 53.901\n",
      "TPSA(NO) 25.78\n",
      "TPSA(Tot) 25.78\n",
      "MLOGP 1.898\n",
      "MLOGP2 3.604\n",
      "ALOGP 2.203\n",
      "ALOGP2 4.851\n",
      "SAtot 212.126\n",
      "SAacc 33.571\n",
      "SAdon 0.0\n",
      "Vx 227.94\n",
      "VvdwMG 96.795\n",
      "VvdwZAZ 149.9\n",
      "PDI 1.075\n",
      "BLTF96 -3.0\n",
      "BLTD48 -3.12\n",
      "BLTA96 -3.13\n",
      "DLS_01 1.0\n",
      "DLS_02 0.67\n",
      "DLS_03 0.83\n",
      "DLS_04 0.4\n",
      "DLS_05 0.0\n",
      "DLS_06 1.0\n",
      "DLS_07 1.0\n",
      "DLS_cons 0.7\n",
      "LLS_01 1.0\n",
      "LLS_02 1.0\n",
      "CMC-80 1\n",
      "CMC-50 0\n",
      "Inflammat-80 0\n",
      "Inflammat-50 0\n",
      "Depressant-80 0\n",
      "Depressant-50 0\n",
      "Psychotic-80 0\n",
      "Psychotic-50 0\n",
      "Hypertens-80 0\n",
      "Hypertens-50 0\n",
      "Hypnotic-80 1\n",
      "Hypnotic-50 0\n",
      "Neoplastic-80 1\n",
      "Neoplastic-50 0\n",
      "Infective-80 1\n",
      "Infective-50_x000D__x000D_\n",
      " 0_x000D__x000D_\n",
      "\n"
     ]
    }
   ],
   "source": [
    "for i in range(len(sol.iloc[0])):\n",
    "    print(sol.columns[i], sol.iloc[0][sol.columns[i]])"
   ]
  },
  {
   "cell_type": "code",
   "execution_count": 80,
   "id": "exceptional-wheat",
   "metadata": {},
   "outputs": [
    {
     "data": {
      "image/png": "[encoded data removed]",
      "text/plain": [
       "<Figure size 216x216 with 1 Axes>"
      ]
     },
     "metadata": {
      "needs_background": "light"
     },
     "output_type": "display_data"
    }
   ],
   "source": [
    "mol = Chem.MolFromSmiles(sol.iloc[0]['SMILES'])\n",
    "fig = Draw.MolToMPL(mol)\n",
    "plt.axis('off')\n",
    "plt.show()"
   ]
  },
  {
   "cell_type": "code",
   "execution_count": 81,
   "id": "bfc3a3cb",
   "metadata": {},
   "outputs": [
    {
     "data": {
      "image/png": "[encoded data removed]",
      "text/plain": [
       "<Figure size 216x216 with 1 Axes>"
      ]
     },
     "metadata": {
      "needs_background": "light"
     },
     "output_type": "display_data"
    }
   ],
   "source": [
    "ritonavir = 'CC(C)C1=NC(=CS1)CN(C)C(=O)NC(C(C)C)C(=O)NC(CC2=CC=CC=C2)CC(C(CC3=CC=CC=C3)NC(=O)OCC4=CN=CS4)O'\n",
    "ritonavir_mol = Chem.MolFromSmiles(ritonavir)\n",
    "fig = Draw.MolToMPL(ritonavir_mol)\n",
    "plt.axis('off')\n",
    "plt.show()"
   ]
  },
  {
   "cell_type": "code",
   "execution_count": 82,
   "id": "afcdbe0e",
   "metadata": {},
   "outputs": [
    {
     "data": {
      "image/png": "[encoded data removed]",
      "text/plain": [
       "<Figure size 216x216 with 1 Axes>"
      ]
     },
     "metadata": {
      "needs_background": "light"
     },
     "output_type": "display_data"
    }
   ],
   "source": [
    "remdesivir = 'CCC(CC)COC(=O)C(C)NP(=O)(OCC1C(C(C(O1)(C#N)C2=CC=C3N2N=CN=C3N)O)O)OC4=CC=CC=C4'\n",
    "remdesivir_mol = Chem.MolFromSmiles(remdesivir)\n",
    "fig = Draw.MolToMPL(remdesivir_mol)\n",
    "plt.axis('off')\n",
    "plt.show()"
   ]
  },
  {
   "cell_type": "code",
   "execution_count": 83,
   "id": "frequent-timothy",
   "metadata": {},
   "outputs": [
    {
     "data": {
      "image/png": "[encoded data removed]",
      "text/plain": [
       "<Figure size 288x288 with 1 Axes>"
      ]
     },
     "metadata": {
      "needs_background": "light"
     },
     "output_type": "display_data"
    }
   ],
   "source": [
    "y = sol[\"LogS.M.\"].values\n",
    "fig, ax = plt.subplots(figsize=(4,4))\n",
    "ax.hist(y, bins=40)\n",
    "ax.set_title(\"Histogram of Log Solubility\", fontsize=14);"
   ]
  },
  {
   "cell_type": "markdown",
   "id": "herbal-western",
   "metadata": {},
   "source": [
    "Extract the data we are going to use to do the prediction"
   ]
  },
  {
   "cell_type": "code",
   "execution_count": 122,
   "id": "right-scheme",
   "metadata": {},
   "outputs": [
    {
     "name": "stdout",
     "output_type": "stream",
     "text": [
      "(932, 2255)\n",
      "(932,)\n"
     ]
    }
   ],
   "source": [
    "X = sol[sol.columns[5:-1]] # getting the relevant data\n",
    "col_labels = sol.columns[5:-1]\n",
    "X = X.to_numpy()\n",
    "N, p = X.shape\n",
    "print(X.shape)\n",
    "print(y.shape)"
   ]
  },
  {
   "cell_type": "code",
   "execution_count": 123,
   "id": "1da73943",
   "metadata": {},
   "outputs": [
    {
     "name": "stdout",
     "output_type": "stream",
     "text": [
      "Index(['MW', 'AMW', 'Sv', 'Se', 'Sp'], dtype='object')\n"
     ]
    }
   ],
   "source": [
    "print(col_labels[:5])"
   ]
  },
  {
   "cell_type": "markdown",
   "id": "announced-heating",
   "metadata": {},
   "source": [
    "Split data up in to train test split"
   ]
  },
  {
   "cell_type": "code",
   "execution_count": 124,
   "id": "included-census",
   "metadata": {},
   "outputs": [],
   "source": [
    "from sklearn.model_selection import train_test_split\n",
    "X_train, X_test, y_train, y_test = train_test_split(X, y, test_size=0.3)"
   ]
  },
  {
   "cell_type": "markdown",
   "id": "hydraulic-sleeping",
   "metadata": {},
   "source": [
    "Regularised L2 regression"
   ]
  },
  {
   "cell_type": "markdown",
   "id": "adjacent-consultancy",
   "metadata": {},
   "source": [
    "Implement using matrix multiplication: \n",
    "\n",
    "$ w = (X^T X) + \\gamma I X^Ty$"
   ]
  },
  {
   "cell_type": "code",
   "execution_count": 125,
   "id": "automated-antarctica",
   "metadata": {},
   "outputs": [],
   "source": [
    "gamma = 2.3\n",
    "w = np.linalg.inv(X_train.T @ X_train + gamma*np.identity(p)) @ X_train.T @ y_train\n",
    "y_hat_train = X_train @ w # gives estimate of results\n",
    "y_hat_test  = X_test @ w \n"
   ]
  },
  {
   "cell_type": "markdown",
   "id": "governmental-groove",
   "metadata": {},
   "source": [
    "Plot training and test predictions"
   ]
  },
  {
   "cell_type": "code",
   "execution_count": 126,
   "id": "allied-recording",
   "metadata": {},
   "outputs": [
    {
     "data": {
      "image/png": "[encoded data removed]",
      "text/plain": [
       "<Figure size 576x576 with 1 Axes>"
      ]
     },
     "metadata": {
      "needs_background": "light"
     },
     "output_type": "display_data"
    }
   ],
   "source": [
    "plt.figure(figsize=(8,8))\n",
    "plt.scatter(y_train, y_hat_train, s=3);\n",
    "plt.xlabel('Target Values')\n",
    "plt.ylabel('Estimated Values');"
   ]
  },
  {
   "cell_type": "markdown",
   "id": "20937bdb",
   "metadata": {},
   "source": [
    "Do the same for the test values. Identify those which don't fit the pattern. "
   ]
  },
  {
   "cell_type": "code",
   "execution_count": 127,
   "id": "8c75e73c",
   "metadata": {},
   "outputs": [
    {
     "data": {
      "image/png": "[encoded data removed]",
      "text/plain": [
       "<Figure size 576x576 with 1 Axes>"
      ]
     },
     "metadata": {
      "needs_background": "light"
     },
     "output_type": "display_data"
    }
   ],
   "source": [
    "plt.figure(figsize=(8,8))\n",
    "plt.scatter(y_test, y_hat_test, s=3);\n",
    "plt.xlabel('Target Values')\n",
    "plt.ylabel('Estimated Values');"
   ]
  },
  {
   "cell_type": "code",
   "execution_count": 128,
   "id": "cafab0c1",
   "metadata": {},
   "outputs": [
    {
     "data": {
      "image/png": "[encoded data removed]",
      "text/plain": [
       "<Figure size 288x288 with 1 Axes>"
      ]
     },
     "metadata": {
      "needs_background": "light"
     },
     "output_type": "display_data"
    }
   ],
   "source": [
    "fig, ax = plt.subplots(figsize=(4,4))\n",
    "ax.hist(w, bins=40)\n",
    "ax.set_title(\"Histogram of coefficients\", fontsize=14);"
   ]
  },
  {
   "cell_type": "code",
   "execution_count": 129,
   "id": "500b24e6",
   "metadata": {},
   "outputs": [
    {
     "data": {
      "text/plain": [
       "array([218, 261,  41, 274,  11, 214, 106, 237, 136, 207])"
      ]
     },
     "execution_count": 129,
     "metadata": {},
     "output_type": "execute_result"
    }
   ],
   "source": [
    "diff = y_hat_test - y_test\n",
    "top_diffs = np.argsort(diff)[-10:]\n",
    "top_diffs"
   ]
  },
  {
   "cell_type": "code",
   "execution_count": 130,
   "id": "b23be886",
   "metadata": {},
   "outputs": [
    {
     "name": "stdout",
     "output_type": "stream",
     "text": [
      "Molecule 218, log_sol -4.53, diff 2.494\n"
     ]
    },
    {
     "data": {
      "image/png": "[encoded data removed]",
      "text/plain": [
       "<Figure size 216x216 with 1 Axes>"
      ]
     },
     "metadata": {
      "needs_background": "light"
     },
     "output_type": "display_data"
    },
    {
     "name": "stdout",
     "output_type": "stream",
     "text": [
      "Molecule 261, log_sol -4.65, diff 2.577\n"
     ]
    },
    {
     "data": {
      "image/png": "[encoded data removed]",
      "text/plain": [
       "<Figure size 216x216 with 1 Axes>"
      ]
     },
     "metadata": {
      "needs_background": "light"
     },
     "output_type": "display_data"
    },
    {
     "name": "stdout",
     "output_type": "stream",
     "text": [
      "Molecule 41, log_sol -2.33, diff 2.634\n"
     ]
    },
    {
     "data": {
      "image/png": "[encoded data removed]",
      "text/plain": [
       "<Figure size 216x216 with 1 Axes>"
      ]
     },
     "metadata": {
      "needs_background": "light"
     },
     "output_type": "display_data"
    },
    {
     "name": "stdout",
     "output_type": "stream",
     "text": [
      "Molecule 274, log_sol -5.15, diff 2.922\n"
     ]
    },
    {
     "data": {
      "image/png": "[encoded data removed]",
      "text/plain": [
       "<Figure size 216x216 with 1 Axes>"
      ]
     },
     "metadata": {
      "needs_background": "light"
     },
     "output_type": "display_data"
    },
    {
     "name": "stdout",
     "output_type": "stream",
     "text": [
      "Molecule 11, log_sol -7.42, diff 3.144\n"
     ]
    },
    {
     "name": "stderr",
     "output_type": "stream",
     "text": [
      "[15:45:03] SMILES Parse Error: syntax error while parsing: c1ccc4c(c1)ccc5c3ccc2ccccc2c3n(H)c45\n",
      "[15:45:03] SMILES Parse Error: Failed parsing SMILES 'c1ccc4c(c1)ccc5c3ccc2ccccc2c3n(H)c45' for input: 'c1ccc4c(c1)ccc5c3ccc2ccccc2c3n(H)c45'\n"
     ]
    },
    {
     "ename": "ValueError",
     "evalue": "Null molecule provided",
     "output_type": "error",
     "traceback": [
      "\u001b[0;31m---------------------------------------------------------------------------\u001b[0m",
      "\u001b[0;31mValueError\u001b[0m                                Traceback (most recent call last)",
      "Input \u001b[0;32mIn [130]\u001b[0m, in \u001b[0;36m<cell line: 1>\u001b[0;34m()\u001b[0m\n\u001b[1;32m      2\u001b[0m \u001b[38;5;28mprint\u001b[39m(\u001b[38;5;124mf\u001b[39m\u001b[38;5;124m'\u001b[39m\u001b[38;5;124mMolecule \u001b[39m\u001b[38;5;132;01m{\u001b[39;00mind\u001b[38;5;132;01m}\u001b[39;00m\u001b[38;5;124m, log_sol \u001b[39m\u001b[38;5;132;01m{\u001b[39;00msol\u001b[38;5;241m.\u001b[39miloc[ind][\u001b[38;5;124m\"\u001b[39m\u001b[38;5;124mLogS.M.\u001b[39m\u001b[38;5;124m\"\u001b[39m]\u001b[38;5;132;01m}\u001b[39;00m\u001b[38;5;124m, diff \u001b[39m\u001b[38;5;132;01m{\u001b[39;00m\u001b[38;5;28mround\u001b[39m(diff[ind], \u001b[38;5;241m3\u001b[39m)\u001b[38;5;132;01m}\u001b[39;00m\u001b[38;5;124m'\u001b[39m)\n\u001b[1;32m      3\u001b[0m mol \u001b[38;5;241m=\u001b[39m Chem\u001b[38;5;241m.\u001b[39mMolFromSmiles(sol\u001b[38;5;241m.\u001b[39miloc[ind][\u001b[38;5;124m'\u001b[39m\u001b[38;5;124mSMILES\u001b[39m\u001b[38;5;124m'\u001b[39m])\n\u001b[0;32m----> 4\u001b[0m fig \u001b[38;5;241m=\u001b[39m \u001b[43mDraw\u001b[49m\u001b[38;5;241;43m.\u001b[39;49m\u001b[43mMolToMPL\u001b[49m\u001b[43m(\u001b[49m\u001b[43mmol\u001b[49m\u001b[43m)\u001b[49m\n\u001b[1;32m      5\u001b[0m plt\u001b[38;5;241m.\u001b[39maxis(\u001b[38;5;124m'\u001b[39m\u001b[38;5;124moff\u001b[39m\u001b[38;5;124m'\u001b[39m)\n\u001b[1;32m      6\u001b[0m plt\u001b[38;5;241m.\u001b[39mshow()\n",
      "File \u001b[0;32m~/anaconda3/envs/mlhack/lib/python3.10/site-packages/rdkit/Chem/Draw/__init__.py:336\u001b[0m, in \u001b[0;36mMolToMPL\u001b[0;34m(mol, size, kekulize, wedgeBonds, imageType, fitImage, options, **kwargs)\u001b[0m\n\u001b[1;32m    333\u001b[0m \u001b[38;5;124;03m\"\"\" Generates a drawing of a molecule on a matplotlib canvas\u001b[39;00m\n\u001b[1;32m    334\u001b[0m \u001b[38;5;124;03m\"\"\"\u001b[39;00m\n\u001b[1;32m    335\u001b[0m \u001b[38;5;28;01mif\u001b[39;00m \u001b[38;5;129;01mnot\u001b[39;00m mol:\n\u001b[0;32m--> 336\u001b[0m   \u001b[38;5;28;01mraise\u001b[39;00m \u001b[38;5;167;01mValueError\u001b[39;00m(\u001b[38;5;124m'\u001b[39m\u001b[38;5;124mNull molecule provided\u001b[39m\u001b[38;5;124m'\u001b[39m)\n\u001b[1;32m    337\u001b[0m \u001b[38;5;28;01mfrom\u001b[39;00m \u001b[38;5;21;01mrdkit\u001b[39;00m\u001b[38;5;21;01m.\u001b[39;00m\u001b[38;5;21;01mChem\u001b[39;00m\u001b[38;5;21;01m.\u001b[39;00m\u001b[38;5;21;01mDraw\u001b[39;00m\u001b[38;5;21;01m.\u001b[39;00m\u001b[38;5;21;01mmplCanvas\u001b[39;00m \u001b[38;5;28;01mimport\u001b[39;00m Canvas\n\u001b[1;32m    338\u001b[0m canvas \u001b[38;5;241m=\u001b[39m Canvas(size)\n",
      "\u001b[0;31mValueError\u001b[0m: Null molecule provided"
     ]
    }
   ],
   "source": [
    "for ind in top_diffs:\n",
    "    print(f'Molecule {ind}, log_sol {sol.iloc[ind][\"LogS.M.\"]}, diff {round(diff[ind], 3)}')\n",
    "    mol = Chem.MolFromSmiles(sol.iloc[ind]['SMILES'])\n",
    "    fig = Draw.MolToMPL(mol)\n",
    "    plt.axis('off')\n",
    "    plt.show()"
   ]
  },
  {
   "cell_type": "markdown",
   "id": "8eb02bb4",
   "metadata": {},
   "source": [
    "Now implement L1 regularised regression"
   ]
  },
  {
   "cell_type": "code",
   "execution_count": 131,
   "id": "6c9254f0",
   "metadata": {},
   "outputs": [
    {
     "name": "stderr",
     "output_type": "stream",
     "text": [
      "/Users/jojo/anaconda3/envs/mlhack/lib/python3.10/site-packages/sklearn/linear_model/_coordinate_descent.py:648: ConvergenceWarning: Objective did not converge. You might want to increase the number of iterations, check the scale of the features or consider increasing regularisation. Duality gap: 1.407e+02, tolerance: 2.698e-01\n",
      "  model = cd_fast.enet_coordinate_descent(\n"
     ]
    }
   ],
   "source": [
    "from  sklearn.linear_model import Lasso\n",
    "lr1 = Lasso(alpha=0.1)\n",
    "lr1.fit(X_train, y_train)\n",
    "y_hat_train = lr1.predict(X_train)\n",
    "y_hat_test = lr1.predict(X_test)"
   ]
  },
  {
   "cell_type": "code",
   "execution_count": 132,
   "id": "f2d0629a",
   "metadata": {},
   "outputs": [
    {
     "data": {
      "image/png": "[encoded data removed]",
      "text/plain": [
       "<Figure size 576x576 with 1 Axes>"
      ]
     },
     "metadata": {
      "needs_background": "light"
     },
     "output_type": "display_data"
    }
   ],
   "source": [
    "plt.figure(figsize=(8,8))\n",
    "plt.scatter(y_train, y_hat_train, s=3);\n",
    "plt.xlabel('Target Values')\n",
    "plt.ylabel('Estimated Values');"
   ]
  },
  {
   "cell_type": "code",
   "execution_count": 133,
   "id": "6d4088b3",
   "metadata": {},
   "outputs": [
    {
     "data": {
      "image/png": "[encoded data removed]",
      "text/plain": [
       "<Figure size 576x576 with 1 Axes>"
      ]
     },
     "metadata": {
      "needs_background": "light"
     },
     "output_type": "display_data"
    }
   ],
   "source": [
    "plt.figure(figsize=(8,8))\n",
    "plt.scatter(y_test, y_hat_test, s=3);\n",
    "plt.xlabel('Target Values')\n",
    "plt.ylabel('Estimated Values');"
   ]
  },
  {
   "cell_type": "code",
   "execution_count": 134,
   "id": "b904519c",
   "metadata": {},
   "outputs": [
    {
     "data": {
      "text/plain": [
       "array([212, 189,  62, 132,  42,  32, 186, 239, 207, 136])"
      ]
     },
     "execution_count": 134,
     "metadata": {},
     "output_type": "execute_result"
    }
   ],
   "source": [
    "diff = y_hat_test - y_test\n",
    "top_diffs = np.argsort(diff)[-10:]\n",
    "top_diffs"
   ]
  },
  {
   "cell_type": "code",
   "execution_count": 135,
   "id": "c21c6a45",
   "metadata": {},
   "outputs": [
    {
     "name": "stdout",
     "output_type": "stream",
     "text": [
      "Molecule 212, log_sol -2.7, diff 1.237\n"
     ]
    },
    {
     "data": {
      "image/png": "[encoded data removed]",
      "text/plain": [
       "<Figure size 216x216 with 1 Axes>"
      ]
     },
     "metadata": {
      "needs_background": "light"
     },
     "output_type": "display_data"
    },
    {
     "name": "stdout",
     "output_type": "stream",
     "text": [
      "Molecule 189, log_sol -2.64, diff 1.262\n"
     ]
    },
    {
     "data": {
      "image/png": "[encoded data removed]",
      "text/plain": [
       "<Figure size 216x216 with 1 Axes>"
      ]
     },
     "metadata": {
      "needs_background": "light"
     },
     "output_type": "display_data"
    },
    {
     "name": "stdout",
     "output_type": "stream",
     "text": [
      "Molecule 62, log_sol -2.23, diff 1.325\n"
     ]
    },
    {
     "data": {
      "image/png": "[encoded data removed]",
      "text/plain": [
       "<Figure size 216x216 with 1 Axes>"
      ]
     },
     "metadata": {
      "needs_background": "light"
     },
     "output_type": "display_data"
    },
    {
     "name": "stdout",
     "output_type": "stream",
     "text": [
      "Molecule 132, log_sol -2.3, diff 1.375\n"
     ]
    },
    {
     "data": {
      "image/png": "[encoded data removed]",
      "text/plain": [
       "<Figure size 216x216 with 1 Axes>"
      ]
     },
     "metadata": {
      "needs_background": "light"
     },
     "output_type": "display_data"
    },
    {
     "name": "stdout",
     "output_type": "stream",
     "text": [
      "Molecule 42, log_sol -0.27, diff 1.415\n"
     ]
    },
    {
     "data": {
      "image/png": "[encoded data removed]",
      "text/plain": [
       "<Figure size 216x216 with 1 Axes>"
      ]
     },
     "metadata": {
      "needs_background": "light"
     },
     "output_type": "display_data"
    },
    {
     "name": "stdout",
     "output_type": "stream",
     "text": [
      "Molecule 32, log_sol -4.22, diff 1.421\n"
     ]
    },
    {
     "data": {
      "image/png": "[encoded data removed]",
      "text/plain": [
       "<Figure size 216x216 with 1 Axes>"
      ]
     },
     "metadata": {
      "needs_background": "light"
     },
     "output_type": "display_data"
    },
    {
     "name": "stdout",
     "output_type": "stream",
     "text": [
      "Molecule 186, log_sol -6.34, diff 1.539\n"
     ]
    },
    {
     "data": {
      "image/png": "[encoded data removed]",
      "text/plain": [
       "<Figure size 216x216 with 1 Axes>"
      ]
     },
     "metadata": {
      "needs_background": "light"
     },
     "output_type": "display_data"
    },
    {
     "name": "stdout",
     "output_type": "stream",
     "text": [
      "Molecule 239, log_sol -4.22, diff 1.757\n"
     ]
    },
    {
     "data": {
      "image/png": "[encoded data removed]",
      "text/plain": [
       "<Figure size 216x216 with 1 Axes>"
      ]
     },
     "metadata": {
      "needs_background": "light"
     },
     "output_type": "display_data"
    },
    {
     "name": "stdout",
     "output_type": "stream",
     "text": [
      "Molecule 207, log_sol -1.6, diff 2.176\n"
     ]
    },
    {
     "data": {
      "image/png": "[encoded data removed]",
      "text/plain": [
       "<Figure size 216x216 with 1 Axes>"
      ]
     },
     "metadata": {
      "needs_background": "light"
     },
     "output_type": "display_data"
    },
    {
     "name": "stdout",
     "output_type": "stream",
     "text": [
      "Molecule 136, log_sol -3.4, diff 3.419\n"
     ]
    },
    {
     "data": {
      "image/png": "[encoded data removed]",
      "text/plain": [
       "<Figure size 216x216 with 1 Axes>"
      ]
     },
     "metadata": {
      "needs_background": "light"
     },
     "output_type": "display_data"
    }
   ],
   "source": [
    "for ind in top_diffs:\n",
    "    print(f'Molecule {ind}, log_sol {sol.iloc[ind][\"LogS.M.\"]}, diff {round(diff[ind], 3)}')\n",
    "    mol = Chem.MolFromSmiles(sol.iloc[ind]['SMILES'])\n",
    "    fig = Draw.MolToMPL(mol)\n",
    "    plt.axis('off')\n",
    "    plt.show()"
   ]
  },
  {
   "cell_type": "code",
   "execution_count": 136,
   "id": "6150059a",
   "metadata": {},
   "outputs": [],
   "source": [
    "w = lr1.coef_\n"
   ]
  },
  {
   "cell_type": "code",
   "execution_count": 137,
   "id": "1399ba19",
   "metadata": {},
   "outputs": [
    {
     "data": {
      "image/png": "[encoded data removed]",
      "text/plain": [
       "<Figure size 288x288 with 1 Axes>"
      ]
     },
     "metadata": {
      "needs_background": "light"
     },
     "output_type": "display_data"
    }
   ],
   "source": [
    "fig, ax = plt.subplots(figsize=(4,4))\n",
    "ax.hist(w, bins=40)\n",
    "ax.set_title(\"Histogram of coefficients\", fontsize=14);"
   ]
  },
  {
   "cell_type": "code",
   "execution_count": 138,
   "id": "6e0d4a8d",
   "metadata": {},
   "outputs": [],
   "source": [
    "col_inds = w.nonzero()"
   ]
  },
  {
   "cell_type": "code",
   "execution_count": 139,
   "id": "3a85ad9a",
   "metadata": {},
   "outputs": [
    {
     "data": {
      "text/plain": [
       "Index(['MW', 'N%', 'D/Dtr07', 'D/Dtr09', 'D/Dtr10', 'D/Dtr11', 'D/Dtr12',\n",
       "       'ZM1V', 'ZM1Kup', 'ZM1MulPer', 'ZM2V', 'ZM2Kup', 'ZM2Per', 'CENT',\n",
       "       'SMTI', 'SMTIV', 'GMTI', 'GMTIV', 'CSI', 'Wap', 'RDSQ', 'ISIZ', 'IDET',\n",
       "       'IDMT', 'TIC0', 'TIC1', 'TIC2', 'TIC5', 'Wi_D', 'SpAD_D', 'QW_L',\n",
       "       'TI1_L', 'Wi_Dt', 'SpAD_Dt', 'Wi_D/Dt', 'H_D/Dt', 'Wi_Dz(Z)',\n",
       "       'Wi_Dz(v)', 'Wi_Dz(e)', 'Wi_Dz(p)', 'SpAbs_Dz(p)', 'Wi_Dz(i)', 'ATSC4m',\n",
       "       'ATSC7m', 'ATSC2s', 'ATSC3s', 'ATSC6s', 'ATSC7s', 'ATSC8s',\n",
       "       'P_VSA_LogP_1', 'P_VSA_LogP_2', 'P_VSA_LogP_3', 'P_VSA_LogP_4',\n",
       "       'P_VSA_LogP_6', 'P_VSA_LogP_7', 'P_VSA_LogP_8', 'P_VSA_MR_1',\n",
       "       'P_VSA_MR_6', 'P_VSA_MR_7', 'P_VSA_m_1', 'P_VSA_v_1', 'P_VSA_v_3',\n",
       "       'P_VSA_e_2', 'P_VSA_i_3', 'P_VSA_s_2', 'P_VSA_s_3', 'P_VSA_s_4',\n",
       "       'P_VSA_s_5', 'Chi0_EA(dm)', 'SM05_AEA(ri)', 'Eig10_EA(ed)', 'H-046',\n",
       "       'CATS2D_01_LL', 'CATS2D_02_LL', 'T(N..O)', 'T(O..O)', 'T(O..F)',\n",
       "       'T(Cl..Cl)', 'AMR', 'MLOGP2', 'SAtot', 'SAdon', 'Vx'],\n",
       "      dtype='object')"
      ]
     },
     "execution_count": 139,
     "metadata": {},
     "output_type": "execute_result"
    }
   ],
   "source": [
    "col_labels[col_inds]"
   ]
  },
  {
   "cell_type": "code",
   "execution_count": 142,
   "id": "5d0d0caf",
   "metadata": {},
   "outputs": [
    {
     "name": "stderr",
     "output_type": "stream",
     "text": [
      "/Users/jojo/anaconda3/envs/mlhack/lib/python3.10/site-packages/sklearn/linear_model/_coordinate_descent.py:648: ConvergenceWarning: Objective did not converge. You might want to increase the number of iterations, check the scale of the features or consider increasing regularisation. Duality gap: 1.868e+02, tolerance: 2.698e-01\n",
      "  model = cd_fast.enet_coordinate_descent(\n"
     ]
    },
    {
     "name": "stdout",
     "output_type": "stream",
     "text": [
      "0.5 40\n"
     ]
    },
    {
     "name": "stderr",
     "output_type": "stream",
     "text": [
      "/Users/jojo/anaconda3/envs/mlhack/lib/python3.10/site-packages/sklearn/linear_model/_coordinate_descent.py:648: ConvergenceWarning: Objective did not converge. You might want to increase the number of iterations, check the scale of the features or consider increasing regularisation. Duality gap: 2.061e+02, tolerance: 2.698e-01\n",
      "  model = cd_fast.enet_coordinate_descent(\n"
     ]
    },
    {
     "name": "stdout",
     "output_type": "stream",
     "text": [
      "1.0 29\n"
     ]
    },
    {
     "name": "stderr",
     "output_type": "stream",
     "text": [
      "/Users/jojo/anaconda3/envs/mlhack/lib/python3.10/site-packages/sklearn/linear_model/_coordinate_descent.py:648: ConvergenceWarning: Objective did not converge. You might want to increase the number of iterations, check the scale of the features or consider increasing regularisation. Duality gap: 1.957e+02, tolerance: 2.698e-01\n",
      "  model = cd_fast.enet_coordinate_descent(\n"
     ]
    },
    {
     "name": "stdout",
     "output_type": "stream",
     "text": [
      "1.5 27\n"
     ]
    },
    {
     "name": "stderr",
     "output_type": "stream",
     "text": [
      "/Users/jojo/anaconda3/envs/mlhack/lib/python3.10/site-packages/sklearn/linear_model/_coordinate_descent.py:648: ConvergenceWarning: Objective did not converge. You might want to increase the number of iterations, check the scale of the features or consider increasing regularisation. Duality gap: 1.957e+02, tolerance: 2.698e-01\n",
      "  model = cd_fast.enet_coordinate_descent(\n"
     ]
    },
    {
     "name": "stdout",
     "output_type": "stream",
     "text": [
      "2.0 24\n"
     ]
    },
    {
     "name": "stderr",
     "output_type": "stream",
     "text": [
      "/Users/jojo/anaconda3/envs/mlhack/lib/python3.10/site-packages/sklearn/linear_model/_coordinate_descent.py:648: ConvergenceWarning: Objective did not converge. You might want to increase the number of iterations, check the scale of the features or consider increasing regularisation. Duality gap: 1.738e+02, tolerance: 2.698e-01\n",
      "  model = cd_fast.enet_coordinate_descent(\n"
     ]
    },
    {
     "name": "stdout",
     "output_type": "stream",
     "text": [
      "2.5 20\n"
     ]
    },
    {
     "name": "stderr",
     "output_type": "stream",
     "text": [
      "/Users/jojo/anaconda3/envs/mlhack/lib/python3.10/site-packages/sklearn/linear_model/_coordinate_descent.py:648: ConvergenceWarning: Objective did not converge. You might want to increase the number of iterations, check the scale of the features or consider increasing regularisation. Duality gap: 1.253e+02, tolerance: 2.698e-01\n",
      "  model = cd_fast.enet_coordinate_descent(\n"
     ]
    },
    {
     "name": "stdout",
     "output_type": "stream",
     "text": [
      "3.0 19\n"
     ]
    },
    {
     "name": "stderr",
     "output_type": "stream",
     "text": [
      "/Users/jojo/anaconda3/envs/mlhack/lib/python3.10/site-packages/sklearn/linear_model/_coordinate_descent.py:648: ConvergenceWarning: Objective did not converge. You might want to increase the number of iterations, check the scale of the features or consider increasing regularisation. Duality gap: 9.001e+01, tolerance: 2.698e-01\n",
      "  model = cd_fast.enet_coordinate_descent(\n"
     ]
    },
    {
     "name": "stdout",
     "output_type": "stream",
     "text": [
      "3.5 21\n"
     ]
    },
    {
     "name": "stderr",
     "output_type": "stream",
     "text": [
      "/Users/jojo/anaconda3/envs/mlhack/lib/python3.10/site-packages/sklearn/linear_model/_coordinate_descent.py:648: ConvergenceWarning: Objective did not converge. You might want to increase the number of iterations, check the scale of the features or consider increasing regularisation. Duality gap: 1.558e+02, tolerance: 2.698e-01\n",
      "  model = cd_fast.enet_coordinate_descent(\n"
     ]
    },
    {
     "name": "stdout",
     "output_type": "stream",
     "text": [
      "4.0 18\n"
     ]
    },
    {
     "name": "stderr",
     "output_type": "stream",
     "text": [
      "/Users/jojo/anaconda3/envs/mlhack/lib/python3.10/site-packages/sklearn/linear_model/_coordinate_descent.py:648: ConvergenceWarning: Objective did not converge. You might want to increase the number of iterations, check the scale of the features or consider increasing regularisation. Duality gap: 4.579e+01, tolerance: 2.698e-01\n",
      "  model = cd_fast.enet_coordinate_descent(\n"
     ]
    },
    {
     "name": "stdout",
     "output_type": "stream",
     "text": [
      "4.5 18\n"
     ]
    },
    {
     "name": "stderr",
     "output_type": "stream",
     "text": [
      "/Users/jojo/anaconda3/envs/mlhack/lib/python3.10/site-packages/sklearn/linear_model/_coordinate_descent.py:648: ConvergenceWarning: Objective did not converge. You might want to increase the number of iterations, check the scale of the features or consider increasing regularisation. Duality gap: 8.401e+00, tolerance: 2.698e-01\n",
      "  model = cd_fast.enet_coordinate_descent(\n"
     ]
    },
    {
     "name": "stdout",
     "output_type": "stream",
     "text": [
      "5.0 18\n"
     ]
    },
    {
     "name": "stderr",
     "output_type": "stream",
     "text": [
      "/Users/jojo/anaconda3/envs/mlhack/lib/python3.10/site-packages/sklearn/linear_model/_coordinate_descent.py:648: ConvergenceWarning: Objective did not converge. You might want to increase the number of iterations, check the scale of the features or consider increasing regularisation. Duality gap: 6.007e+00, tolerance: 2.698e-01\n",
      "  model = cd_fast.enet_coordinate_descent(\n"
     ]
    },
    {
     "name": "stdout",
     "output_type": "stream",
     "text": [
      "5.5 18\n"
     ]
    },
    {
     "name": "stderr",
     "output_type": "stream",
     "text": [
      "/Users/jojo/anaconda3/envs/mlhack/lib/python3.10/site-packages/sklearn/linear_model/_coordinate_descent.py:648: ConvergenceWarning: Objective did not converge. You might want to increase the number of iterations, check the scale of the features or consider increasing regularisation. Duality gap: 7.796e+01, tolerance: 2.698e-01\n",
      "  model = cd_fast.enet_coordinate_descent(\n"
     ]
    },
    {
     "name": "stdout",
     "output_type": "stream",
     "text": [
      "6.0 17\n"
     ]
    },
    {
     "name": "stderr",
     "output_type": "stream",
     "text": [
      "/Users/jojo/anaconda3/envs/mlhack/lib/python3.10/site-packages/sklearn/linear_model/_coordinate_descent.py:648: ConvergenceWarning: Objective did not converge. You might want to increase the number of iterations, check the scale of the features or consider increasing regularisation. Duality gap: 1.165e+02, tolerance: 2.698e-01\n",
      "  model = cd_fast.enet_coordinate_descent(\n"
     ]
    },
    {
     "name": "stdout",
     "output_type": "stream",
     "text": [
      "6.5 15\n"
     ]
    },
    {
     "name": "stderr",
     "output_type": "stream",
     "text": [
      "/Users/jojo/anaconda3/envs/mlhack/lib/python3.10/site-packages/sklearn/linear_model/_coordinate_descent.py:648: ConvergenceWarning: Objective did not converge. You might want to increase the number of iterations, check the scale of the features or consider increasing regularisation. Duality gap: 1.175e+02, tolerance: 2.698e-01\n",
      "  model = cd_fast.enet_coordinate_descent(\n"
     ]
    },
    {
     "name": "stdout",
     "output_type": "stream",
     "text": [
      "7.0 14\n"
     ]
    },
    {
     "name": "stderr",
     "output_type": "stream",
     "text": [
      "/Users/jojo/anaconda3/envs/mlhack/lib/python3.10/site-packages/sklearn/linear_model/_coordinate_descent.py:648: ConvergenceWarning: Objective did not converge. You might want to increase the number of iterations, check the scale of the features or consider increasing regularisation. Duality gap: 7.297e+01, tolerance: 2.698e-01\n",
      "  model = cd_fast.enet_coordinate_descent(\n"
     ]
    },
    {
     "name": "stdout",
     "output_type": "stream",
     "text": [
      "7.5 13\n"
     ]
    },
    {
     "name": "stderr",
     "output_type": "stream",
     "text": [
      "/Users/jojo/anaconda3/envs/mlhack/lib/python3.10/site-packages/sklearn/linear_model/_coordinate_descent.py:648: ConvergenceWarning: Objective did not converge. You might want to increase the number of iterations, check the scale of the features or consider increasing regularisation. Duality gap: 5.786e+01, tolerance: 2.698e-01\n",
      "  model = cd_fast.enet_coordinate_descent(\n"
     ]
    },
    {
     "name": "stdout",
     "output_type": "stream",
     "text": [
      "8.0 13\n"
     ]
    },
    {
     "name": "stderr",
     "output_type": "stream",
     "text": [
      "/Users/jojo/anaconda3/envs/mlhack/lib/python3.10/site-packages/sklearn/linear_model/_coordinate_descent.py:648: ConvergenceWarning: Objective did not converge. You might want to increase the number of iterations, check the scale of the features or consider increasing regularisation. Duality gap: 5.511e+01, tolerance: 2.698e-01\n",
      "  model = cd_fast.enet_coordinate_descent(\n"
     ]
    },
    {
     "name": "stdout",
     "output_type": "stream",
     "text": [
      "8.5 13\n"
     ]
    },
    {
     "name": "stderr",
     "output_type": "stream",
     "text": [
      "/Users/jojo/anaconda3/envs/mlhack/lib/python3.10/site-packages/sklearn/linear_model/_coordinate_descent.py:648: ConvergenceWarning: Objective did not converge. You might want to increase the number of iterations, check the scale of the features or consider increasing regularisation. Duality gap: 5.511e+01, tolerance: 2.698e-01\n",
      "  model = cd_fast.enet_coordinate_descent(\n"
     ]
    },
    {
     "name": "stdout",
     "output_type": "stream",
     "text": [
      "9.0 12\n"
     ]
    },
    {
     "name": "stderr",
     "output_type": "stream",
     "text": [
      "/Users/jojo/anaconda3/envs/mlhack/lib/python3.10/site-packages/sklearn/linear_model/_coordinate_descent.py:648: ConvergenceWarning: Objective did not converge. You might want to increase the number of iterations, check the scale of the features or consider increasing regularisation. Duality gap: 6.103e+01, tolerance: 2.698e-01\n",
      "  model = cd_fast.enet_coordinate_descent(\n"
     ]
    },
    {
     "name": "stdout",
     "output_type": "stream",
     "text": [
      "9.5 12\n"
     ]
    },
    {
     "name": "stderr",
     "output_type": "stream",
     "text": [
      "/Users/jojo/anaconda3/envs/mlhack/lib/python3.10/site-packages/sklearn/linear_model/_coordinate_descent.py:648: ConvergenceWarning: Objective did not converge. You might want to increase the number of iterations, check the scale of the features or consider increasing regularisation. Duality gap: 6.169e+01, tolerance: 2.698e-01\n",
      "  model = cd_fast.enet_coordinate_descent(\n"
     ]
    },
    {
     "name": "stdout",
     "output_type": "stream",
     "text": [
      "10.0 10\n"
     ]
    },
    {
     "name": "stderr",
     "output_type": "stream",
     "text": [
      "/Users/jojo/anaconda3/envs/mlhack/lib/python3.10/site-packages/sklearn/linear_model/_coordinate_descent.py:648: ConvergenceWarning: Objective did not converge. You might want to increase the number of iterations, check the scale of the features or consider increasing regularisation. Duality gap: 5.369e+01, tolerance: 2.698e-01\n",
      "  model = cd_fast.enet_coordinate_descent(\n"
     ]
    },
    {
     "name": "stdout",
     "output_type": "stream",
     "text": [
      "10.5 10\n"
     ]
    },
    {
     "name": "stderr",
     "output_type": "stream",
     "text": [
      "/Users/jojo/anaconda3/envs/mlhack/lib/python3.10/site-packages/sklearn/linear_model/_coordinate_descent.py:648: ConvergenceWarning: Objective did not converge. You might want to increase the number of iterations, check the scale of the features or consider increasing regularisation. Duality gap: 5.243e+01, tolerance: 2.698e-01\n",
      "  model = cd_fast.enet_coordinate_descent(\n"
     ]
    },
    {
     "name": "stdout",
     "output_type": "stream",
     "text": [
      "11.0 10\n"
     ]
    },
    {
     "name": "stderr",
     "output_type": "stream",
     "text": [
      "/Users/jojo/anaconda3/envs/mlhack/lib/python3.10/site-packages/sklearn/linear_model/_coordinate_descent.py:648: ConvergenceWarning: Objective did not converge. You might want to increase the number of iterations, check the scale of the features or consider increasing regularisation. Duality gap: 3.550e+01, tolerance: 2.698e-01\n",
      "  model = cd_fast.enet_coordinate_descent(\n"
     ]
    },
    {
     "name": "stdout",
     "output_type": "stream",
     "text": [
      "11.5 9\n"
     ]
    },
    {
     "name": "stderr",
     "output_type": "stream",
     "text": [
      "/Users/jojo/anaconda3/envs/mlhack/lib/python3.10/site-packages/sklearn/linear_model/_coordinate_descent.py:648: ConvergenceWarning: Objective did not converge. You might want to increase the number of iterations, check the scale of the features or consider increasing regularisation. Duality gap: 1.837e+01, tolerance: 2.698e-01\n",
      "  model = cd_fast.enet_coordinate_descent(\n"
     ]
    },
    {
     "name": "stdout",
     "output_type": "stream",
     "text": [
      "12.0 9\n"
     ]
    },
    {
     "name": "stderr",
     "output_type": "stream",
     "text": [
      "/Users/jojo/anaconda3/envs/mlhack/lib/python3.10/site-packages/sklearn/linear_model/_coordinate_descent.py:648: ConvergenceWarning: Objective did not converge. You might want to increase the number of iterations, check the scale of the features or consider increasing regularisation. Duality gap: 1.307e+01, tolerance: 2.698e-01\n",
      "  model = cd_fast.enet_coordinate_descent(\n"
     ]
    },
    {
     "name": "stdout",
     "output_type": "stream",
     "text": [
      "12.5 9\n"
     ]
    },
    {
     "name": "stderr",
     "output_type": "stream",
     "text": [
      "/Users/jojo/anaconda3/envs/mlhack/lib/python3.10/site-packages/sklearn/linear_model/_coordinate_descent.py:648: ConvergenceWarning: Objective did not converge. You might want to increase the number of iterations, check the scale of the features or consider increasing regularisation. Duality gap: 1.060e+01, tolerance: 2.698e-01\n",
      "  model = cd_fast.enet_coordinate_descent(\n"
     ]
    },
    {
     "name": "stdout",
     "output_type": "stream",
     "text": [
      "13.0 9\n"
     ]
    },
    {
     "name": "stderr",
     "output_type": "stream",
     "text": [
      "/Users/jojo/anaconda3/envs/mlhack/lib/python3.10/site-packages/sklearn/linear_model/_coordinate_descent.py:648: ConvergenceWarning: Objective did not converge. You might want to increase the number of iterations, check the scale of the features or consider increasing regularisation. Duality gap: 9.094e+00, tolerance: 2.698e-01\n",
      "  model = cd_fast.enet_coordinate_descent(\n"
     ]
    },
    {
     "name": "stdout",
     "output_type": "stream",
     "text": [
      "13.5 9\n"
     ]
    },
    {
     "name": "stderr",
     "output_type": "stream",
     "text": [
      "/Users/jojo/anaconda3/envs/mlhack/lib/python3.10/site-packages/sklearn/linear_model/_coordinate_descent.py:648: ConvergenceWarning: Objective did not converge. You might want to increase the number of iterations, check the scale of the features or consider increasing regularisation. Duality gap: 8.126e+00, tolerance: 2.698e-01\n",
      "  model = cd_fast.enet_coordinate_descent(\n"
     ]
    },
    {
     "name": "stdout",
     "output_type": "stream",
     "text": [
      "14.0 9\n"
     ]
    },
    {
     "name": "stderr",
     "output_type": "stream",
     "text": [
      "/Users/jojo/anaconda3/envs/mlhack/lib/python3.10/site-packages/sklearn/linear_model/_coordinate_descent.py:648: ConvergenceWarning: Objective did not converge. You might want to increase the number of iterations, check the scale of the features or consider increasing regularisation. Duality gap: 7.473e+00, tolerance: 2.698e-01\n",
      "  model = cd_fast.enet_coordinate_descent(\n"
     ]
    },
    {
     "name": "stdout",
     "output_type": "stream",
     "text": [
      "14.5 9\n"
     ]
    },
    {
     "name": "stderr",
     "output_type": "stream",
     "text": [
      "/Users/jojo/anaconda3/envs/mlhack/lib/python3.10/site-packages/sklearn/linear_model/_coordinate_descent.py:648: ConvergenceWarning: Objective did not converge. You might want to increase the number of iterations, check the scale of the features or consider increasing regularisation. Duality gap: 7.032e+00, tolerance: 2.698e-01\n",
      "  model = cd_fast.enet_coordinate_descent(\n"
     ]
    },
    {
     "name": "stdout",
     "output_type": "stream",
     "text": [
      "15.0 9\n"
     ]
    },
    {
     "name": "stderr",
     "output_type": "stream",
     "text": [
      "/Users/jojo/anaconda3/envs/mlhack/lib/python3.10/site-packages/sklearn/linear_model/_coordinate_descent.py:648: ConvergenceWarning: Objective did not converge. You might want to increase the number of iterations, check the scale of the features or consider increasing regularisation. Duality gap: 6.756e+00, tolerance: 2.698e-01\n",
      "  model = cd_fast.enet_coordinate_descent(\n"
     ]
    },
    {
     "name": "stdout",
     "output_type": "stream",
     "text": [
      "15.5 9\n"
     ]
    },
    {
     "name": "stderr",
     "output_type": "stream",
     "text": [
      "/Users/jojo/anaconda3/envs/mlhack/lib/python3.10/site-packages/sklearn/linear_model/_coordinate_descent.py:648: ConvergenceWarning: Objective did not converge. You might want to increase the number of iterations, check the scale of the features or consider increasing regularisation. Duality gap: 6.561e+00, tolerance: 2.698e-01\n",
      "  model = cd_fast.enet_coordinate_descent(\n"
     ]
    },
    {
     "name": "stdout",
     "output_type": "stream",
     "text": [
      "16.0 9\n"
     ]
    },
    {
     "name": "stderr",
     "output_type": "stream",
     "text": [
      "/Users/jojo/anaconda3/envs/mlhack/lib/python3.10/site-packages/sklearn/linear_model/_coordinate_descent.py:648: ConvergenceWarning: Objective did not converge. You might want to increase the number of iterations, check the scale of the features or consider increasing regularisation. Duality gap: 6.416e+00, tolerance: 2.698e-01\n",
      "  model = cd_fast.enet_coordinate_descent(\n"
     ]
    },
    {
     "name": "stdout",
     "output_type": "stream",
     "text": [
      "16.5 9\n"
     ]
    },
    {
     "name": "stderr",
     "output_type": "stream",
     "text": [
      "/Users/jojo/anaconda3/envs/mlhack/lib/python3.10/site-packages/sklearn/linear_model/_coordinate_descent.py:648: ConvergenceWarning: Objective did not converge. You might want to increase the number of iterations, check the scale of the features or consider increasing regularisation. Duality gap: 6.327e+00, tolerance: 2.698e-01\n",
      "  model = cd_fast.enet_coordinate_descent(\n"
     ]
    },
    {
     "name": "stdout",
     "output_type": "stream",
     "text": [
      "17.0 9\n"
     ]
    },
    {
     "name": "stderr",
     "output_type": "stream",
     "text": [
      "/Users/jojo/anaconda3/envs/mlhack/lib/python3.10/site-packages/sklearn/linear_model/_coordinate_descent.py:648: ConvergenceWarning: Objective did not converge. You might want to increase the number of iterations, check the scale of the features or consider increasing regularisation. Duality gap: 6.270e+00, tolerance: 2.698e-01\n",
      "  model = cd_fast.enet_coordinate_descent(\n"
     ]
    },
    {
     "name": "stdout",
     "output_type": "stream",
     "text": [
      "17.5 9\n"
     ]
    },
    {
     "name": "stderr",
     "output_type": "stream",
     "text": [
      "/Users/jojo/anaconda3/envs/mlhack/lib/python3.10/site-packages/sklearn/linear_model/_coordinate_descent.py:648: ConvergenceWarning: Objective did not converge. You might want to increase the number of iterations, check the scale of the features or consider increasing regularisation. Duality gap: 6.233e+00, tolerance: 2.698e-01\n",
      "  model = cd_fast.enet_coordinate_descent(\n"
     ]
    },
    {
     "name": "stdout",
     "output_type": "stream",
     "text": [
      "18.0 9\n"
     ]
    },
    {
     "name": "stderr",
     "output_type": "stream",
     "text": [
      "/Users/jojo/anaconda3/envs/mlhack/lib/python3.10/site-packages/sklearn/linear_model/_coordinate_descent.py:648: ConvergenceWarning: Objective did not converge. You might want to increase the number of iterations, check the scale of the features or consider increasing regularisation. Duality gap: 6.228e+00, tolerance: 2.698e-01\n",
      "  model = cd_fast.enet_coordinate_descent(\n"
     ]
    },
    {
     "name": "stdout",
     "output_type": "stream",
     "text": [
      "18.5 9\n"
     ]
    },
    {
     "name": "stderr",
     "output_type": "stream",
     "text": [
      "/Users/jojo/anaconda3/envs/mlhack/lib/python3.10/site-packages/sklearn/linear_model/_coordinate_descent.py:648: ConvergenceWarning: Objective did not converge. You might want to increase the number of iterations, check the scale of the features or consider increasing regularisation. Duality gap: 6.261e+00, tolerance: 2.698e-01\n",
      "  model = cd_fast.enet_coordinate_descent(\n"
     ]
    },
    {
     "name": "stdout",
     "output_type": "stream",
     "text": [
      "19.0 9\n"
     ]
    },
    {
     "name": "stderr",
     "output_type": "stream",
     "text": [
      "/Users/jojo/anaconda3/envs/mlhack/lib/python3.10/site-packages/sklearn/linear_model/_coordinate_descent.py:648: ConvergenceWarning: Objective did not converge. You might want to increase the number of iterations, check the scale of the features or consider increasing regularisation. Duality gap: 6.329e+00, tolerance: 2.698e-01\n",
      "  model = cd_fast.enet_coordinate_descent(\n"
     ]
    },
    {
     "name": "stdout",
     "output_type": "stream",
     "text": [
      "19.5 9\n"
     ]
    },
    {
     "name": "stderr",
     "output_type": "stream",
     "text": [
      "/Users/jojo/anaconda3/envs/mlhack/lib/python3.10/site-packages/sklearn/linear_model/_coordinate_descent.py:648: ConvergenceWarning: Objective did not converge. You might want to increase the number of iterations, check the scale of the features or consider increasing regularisation. Duality gap: 6.449e+00, tolerance: 2.698e-01\n",
      "  model = cd_fast.enet_coordinate_descent(\n"
     ]
    },
    {
     "name": "stdout",
     "output_type": "stream",
     "text": [
      "20.0 9\n"
     ]
    },
    {
     "name": "stderr",
     "output_type": "stream",
     "text": [
      "/Users/jojo/anaconda3/envs/mlhack/lib/python3.10/site-packages/sklearn/linear_model/_coordinate_descent.py:648: ConvergenceWarning: Objective did not converge. You might want to increase the number of iterations, check the scale of the features or consider increasing regularisation. Duality gap: 6.619e+00, tolerance: 2.698e-01\n",
      "  model = cd_fast.enet_coordinate_descent(\n"
     ]
    },
    {
     "name": "stdout",
     "output_type": "stream",
     "text": [
      "20.5 9\n"
     ]
    },
    {
     "name": "stderr",
     "output_type": "stream",
     "text": [
      "/Users/jojo/anaconda3/envs/mlhack/lib/python3.10/site-packages/sklearn/linear_model/_coordinate_descent.py:648: ConvergenceWarning: Objective did not converge. You might want to increase the number of iterations, check the scale of the features or consider increasing regularisation. Duality gap: 6.867e+00, tolerance: 2.698e-01\n",
      "  model = cd_fast.enet_coordinate_descent(\n"
     ]
    },
    {
     "name": "stdout",
     "output_type": "stream",
     "text": [
      "21.0 9\n"
     ]
    },
    {
     "name": "stderr",
     "output_type": "stream",
     "text": [
      "/Users/jojo/anaconda3/envs/mlhack/lib/python3.10/site-packages/sklearn/linear_model/_coordinate_descent.py:648: ConvergenceWarning: Objective did not converge. You might want to increase the number of iterations, check the scale of the features or consider increasing regularisation. Duality gap: 7.203e+00, tolerance: 2.698e-01\n",
      "  model = cd_fast.enet_coordinate_descent(\n"
     ]
    },
    {
     "name": "stdout",
     "output_type": "stream",
     "text": [
      "21.5 9\n"
     ]
    },
    {
     "name": "stderr",
     "output_type": "stream",
     "text": [
      "/Users/jojo/anaconda3/envs/mlhack/lib/python3.10/site-packages/sklearn/linear_model/_coordinate_descent.py:648: ConvergenceWarning: Objective did not converge. You might want to increase the number of iterations, check the scale of the features or consider increasing regularisation. Duality gap: 7.649e+00, tolerance: 2.698e-01\n",
      "  model = cd_fast.enet_coordinate_descent(\n"
     ]
    },
    {
     "name": "stdout",
     "output_type": "stream",
     "text": [
      "22.0 9\n"
     ]
    },
    {
     "name": "stderr",
     "output_type": "stream",
     "text": [
      "/Users/jojo/anaconda3/envs/mlhack/lib/python3.10/site-packages/sklearn/linear_model/_coordinate_descent.py:648: ConvergenceWarning: Objective did not converge. You might want to increase the number of iterations, check the scale of the features or consider increasing regularisation. Duality gap: 8.242e+00, tolerance: 2.698e-01\n",
      "  model = cd_fast.enet_coordinate_descent(\n"
     ]
    },
    {
     "name": "stdout",
     "output_type": "stream",
     "text": [
      "22.5 9\n"
     ]
    },
    {
     "name": "stderr",
     "output_type": "stream",
     "text": [
      "/Users/jojo/anaconda3/envs/mlhack/lib/python3.10/site-packages/sklearn/linear_model/_coordinate_descent.py:648: ConvergenceWarning: Objective did not converge. You might want to increase the number of iterations, check the scale of the features or consider increasing regularisation. Duality gap: 9.031e+00, tolerance: 2.698e-01\n",
      "  model = cd_fast.enet_coordinate_descent(\n"
     ]
    },
    {
     "name": "stdout",
     "output_type": "stream",
     "text": [
      "23.0 9\n"
     ]
    },
    {
     "name": "stderr",
     "output_type": "stream",
     "text": [
      "/Users/jojo/anaconda3/envs/mlhack/lib/python3.10/site-packages/sklearn/linear_model/_coordinate_descent.py:648: ConvergenceWarning: Objective did not converge. You might want to increase the number of iterations, check the scale of the features or consider increasing regularisation. Duality gap: 1.009e+01, tolerance: 2.698e-01\n",
      "  model = cd_fast.enet_coordinate_descent(\n"
     ]
    },
    {
     "name": "stdout",
     "output_type": "stream",
     "text": [
      "23.5 9\n"
     ]
    },
    {
     "name": "stderr",
     "output_type": "stream",
     "text": [
      "/Users/jojo/anaconda3/envs/mlhack/lib/python3.10/site-packages/sklearn/linear_model/_coordinate_descent.py:648: ConvergenceWarning: Objective did not converge. You might want to increase the number of iterations, check the scale of the features or consider increasing regularisation. Duality gap: 1.154e+01, tolerance: 2.698e-01\n",
      "  model = cd_fast.enet_coordinate_descent(\n"
     ]
    },
    {
     "name": "stdout",
     "output_type": "stream",
     "text": [
      "24.0 9\n"
     ]
    },
    {
     "name": "stderr",
     "output_type": "stream",
     "text": [
      "/Users/jojo/anaconda3/envs/mlhack/lib/python3.10/site-packages/sklearn/linear_model/_coordinate_descent.py:648: ConvergenceWarning: Objective did not converge. You might want to increase the number of iterations, check the scale of the features or consider increasing regularisation. Duality gap: 1.353e+01, tolerance: 2.698e-01\n",
      "  model = cd_fast.enet_coordinate_descent(\n"
     ]
    },
    {
     "name": "stdout",
     "output_type": "stream",
     "text": [
      "24.5 9\n"
     ]
    },
    {
     "name": "stderr",
     "output_type": "stream",
     "text": [
      "/Users/jojo/anaconda3/envs/mlhack/lib/python3.10/site-packages/sklearn/linear_model/_coordinate_descent.py:648: ConvergenceWarning: Objective did not converge. You might want to increase the number of iterations, check the scale of the features or consider increasing regularisation. Duality gap: 1.633e+01, tolerance: 2.698e-01\n",
      "  model = cd_fast.enet_coordinate_descent(\n"
     ]
    },
    {
     "name": "stdout",
     "output_type": "stream",
     "text": [
      "25.0 9\n"
     ]
    },
    {
     "name": "stderr",
     "output_type": "stream",
     "text": [
      "/Users/jojo/anaconda3/envs/mlhack/lib/python3.10/site-packages/sklearn/linear_model/_coordinate_descent.py:648: ConvergenceWarning: Objective did not converge. You might want to increase the number of iterations, check the scale of the features or consider increasing regularisation. Duality gap: 2.084e+01, tolerance: 2.698e-01\n",
      "  model = cd_fast.enet_coordinate_descent(\n"
     ]
    },
    {
     "name": "stdout",
     "output_type": "stream",
     "text": [
      "25.5 8\n"
     ]
    },
    {
     "name": "stderr",
     "output_type": "stream",
     "text": [
      "/Users/jojo/anaconda3/envs/mlhack/lib/python3.10/site-packages/sklearn/linear_model/_coordinate_descent.py:648: ConvergenceWarning: Objective did not converge. You might want to increase the number of iterations, check the scale of the features or consider increasing regularisation. Duality gap: 2.836e+01, tolerance: 2.698e-01\n",
      "  model = cd_fast.enet_coordinate_descent(\n"
     ]
    },
    {
     "name": "stdout",
     "output_type": "stream",
     "text": [
      "26.0 8\n"
     ]
    },
    {
     "name": "stderr",
     "output_type": "stream",
     "text": [
      "/Users/jojo/anaconda3/envs/mlhack/lib/python3.10/site-packages/sklearn/linear_model/_coordinate_descent.py:648: ConvergenceWarning: Objective did not converge. You might want to increase the number of iterations, check the scale of the features or consider increasing regularisation. Duality gap: 4.026e+01, tolerance: 2.698e-01\n",
      "  model = cd_fast.enet_coordinate_descent(\n"
     ]
    },
    {
     "name": "stdout",
     "output_type": "stream",
     "text": [
      "26.5 8\n"
     ]
    },
    {
     "name": "stderr",
     "output_type": "stream",
     "text": [
      "/Users/jojo/anaconda3/envs/mlhack/lib/python3.10/site-packages/sklearn/linear_model/_coordinate_descent.py:648: ConvergenceWarning: Objective did not converge. You might want to increase the number of iterations, check the scale of the features or consider increasing regularisation. Duality gap: 5.419e+01, tolerance: 2.698e-01\n",
      "  model = cd_fast.enet_coordinate_descent(\n"
     ]
    },
    {
     "name": "stdout",
     "output_type": "stream",
     "text": [
      "27.0 8\n"
     ]
    },
    {
     "name": "stderr",
     "output_type": "stream",
     "text": [
      "/Users/jojo/anaconda3/envs/mlhack/lib/python3.10/site-packages/sklearn/linear_model/_coordinate_descent.py:648: ConvergenceWarning: Objective did not converge. You might want to increase the number of iterations, check the scale of the features or consider increasing regularisation. Duality gap: 1.710e+01, tolerance: 2.698e-01\n",
      "  model = cd_fast.enet_coordinate_descent(\n"
     ]
    },
    {
     "name": "stdout",
     "output_type": "stream",
     "text": [
      "27.5 9\n"
     ]
    },
    {
     "name": "stderr",
     "output_type": "stream",
     "text": [
      "/Users/jojo/anaconda3/envs/mlhack/lib/python3.10/site-packages/sklearn/linear_model/_coordinate_descent.py:648: ConvergenceWarning: Objective did not converge. You might want to increase the number of iterations, check the scale of the features or consider increasing regularisation. Duality gap: 1.564e+01, tolerance: 2.698e-01\n",
      "  model = cd_fast.enet_coordinate_descent(\n"
     ]
    },
    {
     "name": "stdout",
     "output_type": "stream",
     "text": [
      "28.0 9\n"
     ]
    },
    {
     "name": "stderr",
     "output_type": "stream",
     "text": [
      "/Users/jojo/anaconda3/envs/mlhack/lib/python3.10/site-packages/sklearn/linear_model/_coordinate_descent.py:648: ConvergenceWarning: Objective did not converge. You might want to increase the number of iterations, check the scale of the features or consider increasing regularisation. Duality gap: 1.419e+01, tolerance: 2.698e-01\n",
      "  model = cd_fast.enet_coordinate_descent(\n"
     ]
    },
    {
     "name": "stdout",
     "output_type": "stream",
     "text": [
      "28.5 9\n"
     ]
    },
    {
     "name": "stderr",
     "output_type": "stream",
     "text": [
      "/Users/jojo/anaconda3/envs/mlhack/lib/python3.10/site-packages/sklearn/linear_model/_coordinate_descent.py:648: ConvergenceWarning: Objective did not converge. You might want to increase the number of iterations, check the scale of the features or consider increasing regularisation. Duality gap: 1.276e+01, tolerance: 2.698e-01\n",
      "  model = cd_fast.enet_coordinate_descent(\n"
     ]
    },
    {
     "name": "stdout",
     "output_type": "stream",
     "text": [
      "29.0 9\n"
     ]
    },
    {
     "name": "stderr",
     "output_type": "stream",
     "text": [
      "/Users/jojo/anaconda3/envs/mlhack/lib/python3.10/site-packages/sklearn/linear_model/_coordinate_descent.py:648: ConvergenceWarning: Objective did not converge. You might want to increase the number of iterations, check the scale of the features or consider increasing regularisation. Duality gap: 1.135e+01, tolerance: 2.698e-01\n",
      "  model = cd_fast.enet_coordinate_descent(\n"
     ]
    },
    {
     "name": "stdout",
     "output_type": "stream",
     "text": [
      "29.5 9\n"
     ]
    },
    {
     "name": "stderr",
     "output_type": "stream",
     "text": [
      "/Users/jojo/anaconda3/envs/mlhack/lib/python3.10/site-packages/sklearn/linear_model/_coordinate_descent.py:648: ConvergenceWarning: Objective did not converge. You might want to increase the number of iterations, check the scale of the features or consider increasing regularisation. Duality gap: 9.950e+00, tolerance: 2.698e-01\n",
      "  model = cd_fast.enet_coordinate_descent(\n"
     ]
    },
    {
     "name": "stdout",
     "output_type": "stream",
     "text": [
      "30.0 9\n"
     ]
    },
    {
     "name": "stderr",
     "output_type": "stream",
     "text": [
      "/Users/jojo/anaconda3/envs/mlhack/lib/python3.10/site-packages/sklearn/linear_model/_coordinate_descent.py:648: ConvergenceWarning: Objective did not converge. You might want to increase the number of iterations, check the scale of the features or consider increasing regularisation. Duality gap: 9.219e+00, tolerance: 2.698e-01\n",
      "  model = cd_fast.enet_coordinate_descent(\n"
     ]
    },
    {
     "name": "stdout",
     "output_type": "stream",
     "text": [
      "30.5 9\n"
     ]
    },
    {
     "name": "stderr",
     "output_type": "stream",
     "text": [
      "/Users/jojo/anaconda3/envs/mlhack/lib/python3.10/site-packages/sklearn/linear_model/_coordinate_descent.py:648: ConvergenceWarning: Objective did not converge. You might want to increase the number of iterations, check the scale of the features or consider increasing regularisation. Duality gap: 8.658e+00, tolerance: 2.698e-01\n",
      "  model = cd_fast.enet_coordinate_descent(\n"
     ]
    },
    {
     "name": "stdout",
     "output_type": "stream",
     "text": [
      "31.0 8\n"
     ]
    },
    {
     "name": "stderr",
     "output_type": "stream",
     "text": [
      "/Users/jojo/anaconda3/envs/mlhack/lib/python3.10/site-packages/sklearn/linear_model/_coordinate_descent.py:648: ConvergenceWarning: Objective did not converge. You might want to increase the number of iterations, check the scale of the features or consider increasing regularisation. Duality gap: 8.302e+00, tolerance: 2.698e-01\n",
      "  model = cd_fast.enet_coordinate_descent(\n"
     ]
    },
    {
     "name": "stdout",
     "output_type": "stream",
     "text": [
      "31.5 8\n"
     ]
    },
    {
     "name": "stderr",
     "output_type": "stream",
     "text": [
      "/Users/jojo/anaconda3/envs/mlhack/lib/python3.10/site-packages/sklearn/linear_model/_coordinate_descent.py:648: ConvergenceWarning: Objective did not converge. You might want to increase the number of iterations, check the scale of the features or consider increasing regularisation. Duality gap: 7.954e+00, tolerance: 2.698e-01\n",
      "  model = cd_fast.enet_coordinate_descent(\n"
     ]
    },
    {
     "name": "stdout",
     "output_type": "stream",
     "text": [
      "32.0 8\n"
     ]
    },
    {
     "name": "stderr",
     "output_type": "stream",
     "text": [
      "/Users/jojo/anaconda3/envs/mlhack/lib/python3.10/site-packages/sklearn/linear_model/_coordinate_descent.py:648: ConvergenceWarning: Objective did not converge. You might want to increase the number of iterations, check the scale of the features or consider increasing regularisation. Duality gap: 7.613e+00, tolerance: 2.698e-01\n",
      "  model = cd_fast.enet_coordinate_descent(\n"
     ]
    },
    {
     "name": "stdout",
     "output_type": "stream",
     "text": [
      "32.5 8\n"
     ]
    },
    {
     "name": "stderr",
     "output_type": "stream",
     "text": [
      "/Users/jojo/anaconda3/envs/mlhack/lib/python3.10/site-packages/sklearn/linear_model/_coordinate_descent.py:648: ConvergenceWarning: Objective did not converge. You might want to increase the number of iterations, check the scale of the features or consider increasing regularisation. Duality gap: 7.279e+00, tolerance: 2.698e-01\n",
      "  model = cd_fast.enet_coordinate_descent(\n"
     ]
    },
    {
     "name": "stdout",
     "output_type": "stream",
     "text": [
      "33.0 8\n"
     ]
    },
    {
     "name": "stderr",
     "output_type": "stream",
     "text": [
      "/Users/jojo/anaconda3/envs/mlhack/lib/python3.10/site-packages/sklearn/linear_model/_coordinate_descent.py:648: ConvergenceWarning: Objective did not converge. You might want to increase the number of iterations, check the scale of the features or consider increasing regularisation. Duality gap: 6.952e+00, tolerance: 2.698e-01\n",
      "  model = cd_fast.enet_coordinate_descent(\n"
     ]
    },
    {
     "name": "stdout",
     "output_type": "stream",
     "text": [
      "33.5 8\n"
     ]
    },
    {
     "name": "stderr",
     "output_type": "stream",
     "text": [
      "/Users/jojo/anaconda3/envs/mlhack/lib/python3.10/site-packages/sklearn/linear_model/_coordinate_descent.py:648: ConvergenceWarning: Objective did not converge. You might want to increase the number of iterations, check the scale of the features or consider increasing regularisation. Duality gap: 6.632e+00, tolerance: 2.698e-01\n",
      "  model = cd_fast.enet_coordinate_descent(\n"
     ]
    },
    {
     "name": "stdout",
     "output_type": "stream",
     "text": [
      "34.0 8\n"
     ]
    },
    {
     "name": "stderr",
     "output_type": "stream",
     "text": [
      "/Users/jojo/anaconda3/envs/mlhack/lib/python3.10/site-packages/sklearn/linear_model/_coordinate_descent.py:648: ConvergenceWarning: Objective did not converge. You might want to increase the number of iterations, check the scale of the features or consider increasing regularisation. Duality gap: 6.528e+00, tolerance: 2.698e-01\n",
      "  model = cd_fast.enet_coordinate_descent(\n"
     ]
    },
    {
     "name": "stdout",
     "output_type": "stream",
     "text": [
      "34.5 9\n"
     ]
    },
    {
     "name": "stderr",
     "output_type": "stream",
     "text": [
      "/Users/jojo/anaconda3/envs/mlhack/lib/python3.10/site-packages/sklearn/linear_model/_coordinate_descent.py:648: ConvergenceWarning: Objective did not converge. You might want to increase the number of iterations, check the scale of the features or consider increasing regularisation. Duality gap: 8.311e+00, tolerance: 2.698e-01\n",
      "  model = cd_fast.enet_coordinate_descent(\n"
     ]
    },
    {
     "name": "stdout",
     "output_type": "stream",
     "text": [
      "35.0 8\n"
     ]
    },
    {
     "name": "stderr",
     "output_type": "stream",
     "text": [
      "/Users/jojo/anaconda3/envs/mlhack/lib/python3.10/site-packages/sklearn/linear_model/_coordinate_descent.py:648: ConvergenceWarning: Objective did not converge. You might want to increase the number of iterations, check the scale of the features or consider increasing regularisation. Duality gap: 5.472e+00, tolerance: 2.698e-01\n",
      "  model = cd_fast.enet_coordinate_descent(\n"
     ]
    },
    {
     "name": "stdout",
     "output_type": "stream",
     "text": [
      "35.5 8\n"
     ]
    },
    {
     "name": "stderr",
     "output_type": "stream",
     "text": [
      "/Users/jojo/anaconda3/envs/mlhack/lib/python3.10/site-packages/sklearn/linear_model/_coordinate_descent.py:648: ConvergenceWarning: Objective did not converge. You might want to increase the number of iterations, check the scale of the features or consider increasing regularisation. Duality gap: 4.452e+00, tolerance: 2.698e-01\n",
      "  model = cd_fast.enet_coordinate_descent(\n"
     ]
    },
    {
     "name": "stdout",
     "output_type": "stream",
     "text": [
      "36.0 8\n"
     ]
    },
    {
     "name": "stderr",
     "output_type": "stream",
     "text": [
      "/Users/jojo/anaconda3/envs/mlhack/lib/python3.10/site-packages/sklearn/linear_model/_coordinate_descent.py:648: ConvergenceWarning: Objective did not converge. You might want to increase the number of iterations, check the scale of the features or consider increasing regularisation. Duality gap: 3.914e+00, tolerance: 2.698e-01\n",
      "  model = cd_fast.enet_coordinate_descent(\n"
     ]
    },
    {
     "name": "stdout",
     "output_type": "stream",
     "text": [
      "36.5 8\n"
     ]
    },
    {
     "name": "stderr",
     "output_type": "stream",
     "text": [
      "/Users/jojo/anaconda3/envs/mlhack/lib/python3.10/site-packages/sklearn/linear_model/_coordinate_descent.py:648: ConvergenceWarning: Objective did not converge. You might want to increase the number of iterations, check the scale of the features or consider increasing regularisation. Duality gap: 3.563e+00, tolerance: 2.698e-01\n",
      "  model = cd_fast.enet_coordinate_descent(\n"
     ]
    },
    {
     "name": "stdout",
     "output_type": "stream",
     "text": [
      "37.0 8\n"
     ]
    },
    {
     "name": "stderr",
     "output_type": "stream",
     "text": [
      "/Users/jojo/anaconda3/envs/mlhack/lib/python3.10/site-packages/sklearn/linear_model/_coordinate_descent.py:648: ConvergenceWarning: Objective did not converge. You might want to increase the number of iterations, check the scale of the features or consider increasing regularisation. Duality gap: 3.230e+00, tolerance: 2.698e-01\n",
      "  model = cd_fast.enet_coordinate_descent(\n"
     ]
    },
    {
     "name": "stdout",
     "output_type": "stream",
     "text": [
      "37.5 8\n"
     ]
    },
    {
     "name": "stderr",
     "output_type": "stream",
     "text": [
      "/Users/jojo/anaconda3/envs/mlhack/lib/python3.10/site-packages/sklearn/linear_model/_coordinate_descent.py:648: ConvergenceWarning: Objective did not converge. You might want to increase the number of iterations, check the scale of the features or consider increasing regularisation. Duality gap: 2.914e+00, tolerance: 2.698e-01\n",
      "  model = cd_fast.enet_coordinate_descent(\n"
     ]
    },
    {
     "name": "stdout",
     "output_type": "stream",
     "text": [
      "38.0 8\n"
     ]
    },
    {
     "name": "stderr",
     "output_type": "stream",
     "text": [
      "/Users/jojo/anaconda3/envs/mlhack/lib/python3.10/site-packages/sklearn/linear_model/_coordinate_descent.py:648: ConvergenceWarning: Objective did not converge. You might want to increase the number of iterations, check the scale of the features or consider increasing regularisation. Duality gap: 2.613e+00, tolerance: 2.698e-01\n",
      "  model = cd_fast.enet_coordinate_descent(\n"
     ]
    },
    {
     "name": "stdout",
     "output_type": "stream",
     "text": [
      "38.5 8\n"
     ]
    },
    {
     "name": "stderr",
     "output_type": "stream",
     "text": [
      "/Users/jojo/anaconda3/envs/mlhack/lib/python3.10/site-packages/sklearn/linear_model/_coordinate_descent.py:648: ConvergenceWarning: Objective did not converge. You might want to increase the number of iterations, check the scale of the features or consider increasing regularisation. Duality gap: 2.330e+00, tolerance: 2.698e-01\n",
      "  model = cd_fast.enet_coordinate_descent(\n"
     ]
    },
    {
     "name": "stdout",
     "output_type": "stream",
     "text": [
      "39.0 8\n",
      "39.5 8\n"
     ]
    },
    {
     "name": "stderr",
     "output_type": "stream",
     "text": [
      "/Users/jojo/anaconda3/envs/mlhack/lib/python3.10/site-packages/sklearn/linear_model/_coordinate_descent.py:648: ConvergenceWarning: Objective did not converge. You might want to increase the number of iterations, check the scale of the features or consider increasing regularisation. Duality gap: 2.060e+00, tolerance: 2.698e-01\n",
      "  model = cd_fast.enet_coordinate_descent(\n"
     ]
    }
   ],
   "source": [
    "coeffs = []\n",
    "alphas = np.arange(0.5,40,0.5)\n",
    "for alpha in alphas:\n",
    "    lr1 = Lasso(alpha=alpha)\n",
    "    lr1.fit(X_train, y_train)\n",
    "    w = lr1.coef_\n",
    "    col_inds = w.nonzero()[0]\n",
    "#     print(col_inds)\n",
    "    print(alpha, len(col_inds))\n",
    "#     print(col_labels[col_inds])\n",
    "    coeffs.append(col_inds)"
   ]
  },
  {
   "cell_type": "code",
   "execution_count": 144,
   "id": "b7b0e331",
   "metadata": {},
   "outputs": [
    {
     "data": {
      "text/plain": [
       "[array([  63,   66,   67,   68,   72,   80,  106,  109,  110,  111,  112,\n",
       "         114,  115,  232,  250,  318,  397,  411,  429,  548,  587,  910,\n",
       "         914, 1132, 1133, 1136, 1137, 1138, 1140, 1153, 1155, 1165, 1171,\n",
       "        1248, 1640, 1837, 1851, 1863, 2217, 2223]),\n",
       " array([  63,   73,   80,  106,  109,  110,  111,  112,  114,  115,  232,\n",
       "         250,  397,  411,  429,  517,  579,  587,  914, 1132, 1133, 1136,\n",
       "        1137, 1138, 1153, 1155, 2217, 2221, 2223]),\n",
       " array([   0,   80,  106,  110,  111,  112,  114,  115,  232,  250,  397,\n",
       "         411,  429,  517,  579,  914, 1132, 1133, 1136, 1137, 1138, 1153,\n",
       "        1155, 1161, 2217, 2221, 2223]),\n",
       " array([   0,   80,  109,  110,  111,  112,  114,  115,  232,  250,  397,\n",
       "         411,  429,  517,  579,  914, 1133, 1137, 1138, 1153, 1161, 2217,\n",
       "        2221, 2223]),\n",
       " array([   0,  109,  110,  111,  112,  114,  115,  232,  250,  397,  411,\n",
       "         429,  517,  579, 1133, 1137, 1138, 1153, 1161, 2223]),\n",
       " array([ 109,  110,  111,  112,  114,  115,  232,  250,  397,  411,  429,\n",
       "         517,  579, 1133, 1137, 1138, 1153, 1161, 2223]),\n",
       " array([ 109,  110,  111,  112,  114,  115,  232,  250,  397,  411,  429,\n",
       "         517,  579, 1133, 1137, 1138, 1139, 1153, 1161, 2221, 2223]),\n",
       " array([ 109,  110,  111,  114,  115,  250,  397,  411,  429,  517,  579,\n",
       "        1133, 1137, 1139, 1153, 1161, 2221, 2223]),\n",
       " array([ 109,  110,  112,  114,  115,  250,  397,  411,  429,  517,  579,\n",
       "        1133, 1137, 1139, 1153, 1161, 2221, 2223]),\n",
       " array([ 109,  110,  112,  114,  115,  250,  397,  411,  429,  517,  579,\n",
       "        1133, 1137, 1139, 1153, 1161, 2221, 2223]),\n",
       " array([ 109,  110,  112,  114,  115,  232,  397,  411,  429,  517,  579,\n",
       "        1133, 1137, 1139, 1153, 1161, 2221, 2223]),\n",
       " array([ 109,  110,  112,  114,  115,  232,  397,  411,  429,  579, 1133,\n",
       "        1137, 1139, 1153, 1161, 2221, 2223]),\n",
       " array([ 109,  110,  112,  115,  232,  397,  411,  429,  579, 1133, 1137,\n",
       "        1153, 1161, 2221, 2223]),\n",
       " array([ 109,  110,  112,  115,  232,  397,  429,  579, 1133, 1137, 1153,\n",
       "        1161, 2221, 2223]),\n",
       " array([ 109,  112,  115,  232,  397,  429,  579, 1133, 1137, 1153, 1161,\n",
       "        2221, 2223]),\n",
       " array([ 109,  112,  115,  232,  397,  429,  579, 1133, 1137, 1153, 1161,\n",
       "        2221, 2223]),\n",
       " array([ 109,  112,  115,  232,  397,  429,  579, 1133, 1137, 1153, 1161,\n",
       "        2221, 2223]),\n",
       " array([ 109,  112,  115,  232,  397,  429,  579, 1133, 1153, 1161, 2221,\n",
       "        2223]),\n",
       " array([ 109,  112,  115,  232,  397,  429,  579, 1133, 1153, 1161, 2221,\n",
       "        2223]),\n",
       " array([ 109,  112,  115,  232,  429,  579, 1153, 1161, 2221, 2223]),\n",
       " array([ 109,  112,  115,  232,  429,  579, 1153, 1161, 2221, 2223]),\n",
       " array([ 109,  112,  115,  232,  429,  579, 1153, 1161, 2221, 2223]),\n",
       " array([ 109,  112,  115,  232,  429,  579, 1153, 1161, 2221]),\n",
       " array([ 109,  112,  115,  232,  429,  579, 1153, 1161, 2221]),\n",
       " array([ 109,  112,  115,  232,  429,  579, 1153, 1161, 2221]),\n",
       " array([ 109,  112,  115,  232,  429,  579, 1153, 1161, 2221]),\n",
       " array([ 109,  112,  115,  232,  429,  579, 1153, 1161, 2221]),\n",
       " array([ 109,  112,  115,  232,  429,  579, 1153, 1161, 2221]),\n",
       " array([ 109,  112,  115,  232,  429,  579, 1153, 1161, 2221]),\n",
       " array([ 109,  112,  115,  232,  429,  579, 1153, 1161, 2221]),\n",
       " array([ 109,  112,  115,  232,  429,  579, 1153, 1161, 2221]),\n",
       " array([ 109,  112,  115,  232,  429,  579, 1153, 1161, 2221]),\n",
       " array([ 109,  112,  115,  232,  429,  579, 1153, 1161, 2221]),\n",
       " array([ 109,  112,  115,  232,  429,  579, 1153, 1161, 2221]),\n",
       " array([ 109,  112,  115,  232,  429,  579, 1153, 1161, 2221]),\n",
       " array([ 109,  112,  115,  232,  429,  579, 1153, 1161, 2221]),\n",
       " array([ 109,  112,  115,  232,  429,  579, 1153, 1161, 2221]),\n",
       " array([ 109,  112,  115,  232,  429,  579, 1153, 1161, 2221]),\n",
       " array([ 109,  112,  115,  232,  429,  579, 1153, 1161, 2221]),\n",
       " array([ 109,  112,  115,  232,  429,  579, 1153, 1161, 2221]),\n",
       " array([ 109,  112,  115,  232,  429,  579, 1153, 1161, 2221]),\n",
       " array([ 109,  112,  115,  232,  429,  579, 1153, 1161, 2221]),\n",
       " array([ 109,  112,  115,  232,  429,  579, 1153, 1161, 2221]),\n",
       " array([ 109,  112,  115,  232,  429,  579, 1153, 1161, 2221]),\n",
       " array([ 109,  112,  115,  232,  429,  579, 1153, 1161, 2221]),\n",
       " array([ 109,  112,  115,  232,  429,  579, 1153, 1161, 2221]),\n",
       " array([ 109,  112,  115,  232,  429,  579, 1153, 1161, 2221]),\n",
       " array([ 109,  112,  115,  232,  429,  579, 1153, 1161, 2221]),\n",
       " array([ 109,  112,  115,  232,  429,  579, 1153, 1161, 2221]),\n",
       " array([ 109,  112,  115,  232,  429,  579, 1153, 1161, 2221]),\n",
       " array([ 109,  112,  115,  232,  429,  579, 1153, 1161]),\n",
       " array([ 109,  112,  115,  232,  429,  579, 1153, 1161]),\n",
       " array([ 109,  112,  115,  232,  429,  579, 1153, 1161]),\n",
       " array([ 109,  112,  115,  232,  429,  579, 1153, 1161]),\n",
       " array([ 109,  111,  112,  115,  232,  429,  579, 1153, 1161]),\n",
       " array([ 109,  111,  112,  115,  232,  429,  579, 1153, 1161]),\n",
       " array([ 109,  111,  112,  115,  232,  429,  579, 1153, 1161]),\n",
       " array([ 109,  111,  112,  115,  232,  429,  579, 1153, 1161]),\n",
       " array([ 109,  111,  112,  115,  232,  429,  579, 1153, 1161]),\n",
       " array([ 109,  111,  112,  115,  232,  429,  579, 1153, 1161]),\n",
       " array([ 109,  111,  112,  115,  232,  429,  579, 1153, 1161]),\n",
       " array([ 109,  111,  112,  115,  232,  429,  579, 1153]),\n",
       " array([ 109,  111,  112,  115,  232,  429,  579, 1153]),\n",
       " array([ 109,  111,  112,  115,  232,  429,  579, 1153]),\n",
       " array([ 109,  111,  112,  115,  232,  429,  579, 1153]),\n",
       " array([ 109,  111,  112,  115,  232,  429,  579, 1153]),\n",
       " array([ 109,  111,  112,  115,  232,  429,  579, 1153]),\n",
       " array([ 109,  111,  112,  115,  232,  429,  579, 1153]),\n",
       " array([ 109,  111,  112,  115,  232,  397,  429,  579, 1153]),\n",
       " array([ 109,  111,  112,  115,  232,  397,  579, 1153]),\n",
       " array([ 109,  111,  112,  115,  232,  397,  579, 1153]),\n",
       " array([ 109,  111,  112,  115,  232,  397,  579, 1153]),\n",
       " array([ 109,  111,  112,  115,  232,  397,  579, 1153]),\n",
       " array([ 109,  111,  112,  115,  232,  397,  579, 1153]),\n",
       " array([ 109,  111,  112,  115,  232,  397,  579, 1153]),\n",
       " array([ 109,  111,  112,  115,  232,  397,  579, 1153]),\n",
       " array([ 109,  111,  112,  115,  232,  397,  579, 1153]),\n",
       " array([ 109,  111,  112,  115,  232,  397,  579, 1153]),\n",
       " array([ 109,  111,  112,  115,  232,  397,  579, 1153])]"
      ]
     },
     "execution_count": 144,
     "metadata": {},
     "output_type": "execute_result"
    }
   ],
   "source": [
    "coeffs"
   ]
  },
  {
   "cell_type": "code",
   "execution_count": 148,
   "id": "481c0baa",
   "metadata": {},
   "outputs": [
    {
     "data": {
      "text/plain": [
       "[<matplotlib.lines.Line2D at 0x7fdc6b313400>]"
      ]
     },
     "execution_count": 148,
     "metadata": {},
     "output_type": "execute_result"
    },
    {
     "data": {
      "image/png": "[encoded data removed]",
      "text/plain": [
       "<Figure size 432x288 with 1 Axes>"
      ]
     },
     "metadata": {
      "needs_background": "light"
     },
     "output_type": "display_data"
    }
   ],
   "source": [
    "coeff_nos = [len(x) for x in coeffs]\n",
    "plt.plot(alphas, coeff_nos)"
   ]
  },
  {
   "cell_type": "code",
   "execution_count": 149,
   "id": "01dabf90",
   "metadata": {},
   "outputs": [
    {
     "data": {
      "text/plain": [
       "Index(['SMTI', 'GMTI', 'GMTIV', 'Wap', 'IDMT', 'Wi_Dt', 'Wi_Dz(p)',\n",
       "       'P_VSA_v_3'],\n",
       "      dtype='object')"
      ]
     },
     "execution_count": 149,
     "metadata": {},
     "output_type": "execute_result"
    }
   ],
   "source": [
    "col_labels[coeffs[-1]]"
   ]
  },
  {
   "cell_type": "markdown",
   "id": "d308a15e",
   "metadata": {},
   "source": [
    "* SMTI = Schultz Molecular Topological index\n",
    "* GMTI = Gutman Molecular Topological index\n",
    "* GMTIV = Gutman Molecular Topological index by valence vertex degrees\n",
    "* Wap = All path Weiner index\n",
    "* IDMT = Total Information Content index on the distance magnitude\n",
    "* Wi_DT = Weiner-like index from detour matrix (detour index)\n",
    "* Wi_DZ = Wiener-like index from Barysz matrix weighted by atomic number\n",
    "* P_VSA_v_3 = P_VSA-like on van der Waals volume, bin 3"
   ]
  },
  {
   "cell_type": "code",
   "execution_count": 155,
   "id": "627d9e75",
   "metadata": {},
   "outputs": [
    {
     "ename": "IndexingError",
     "evalue": "Too many indexers",
     "output_type": "error",
     "traceback": [
      "\u001b[0;31m---------------------------------------------------------------------------\u001b[0m",
      "\u001b[0;31mIndexingError\u001b[0m                             Traceback (most recent call last)",
      "Input \u001b[0;32mIn [155]\u001b[0m, in \u001b[0;36m<cell line: 3>\u001b[0;34m()\u001b[0m\n\u001b[1;32m      1\u001b[0m \u001b[38;5;66;03m#Correlation matrix\u001b[39;00m\n\u001b[1;32m      2\u001b[0m \u001b[38;5;28;01mimport\u001b[39;00m \u001b[38;5;21;01mseaborn\u001b[39;00m \u001b[38;5;28;01mas\u001b[39;00m \u001b[38;5;21;01msns\u001b[39;00m\n\u001b[0;32m----> 3\u001b[0m df_small \u001b[38;5;241m=\u001b[39m \u001b[43msol\u001b[49m\u001b[38;5;241;43m.\u001b[39;49m\u001b[43miloc\u001b[49m\u001b[43m[\u001b[49m\u001b[43m  \u001b[49m\u001b[38;5;241;43m63\u001b[39;49m\u001b[43m,\u001b[49m\u001b[43m   \u001b[49m\u001b[38;5;241;43m66\u001b[39;49m\u001b[43m,\u001b[49m\u001b[43m   \u001b[49m\u001b[38;5;241;43m67\u001b[39;49m\u001b[43m,\u001b[49m\u001b[43m   \u001b[49m\u001b[38;5;241;43m68\u001b[39;49m\u001b[43m,\u001b[49m\u001b[43m   \u001b[49m\u001b[38;5;241;43m72\u001b[39;49m\u001b[43m,\u001b[49m\u001b[43m   \u001b[49m\u001b[38;5;241;43m80\u001b[39;49m\u001b[43m,\u001b[49m\u001b[43m  \u001b[49m\u001b[38;5;241;43m106\u001b[39;49m\u001b[43m,\u001b[49m\u001b[43m  \u001b[49m\u001b[38;5;241;43m109\u001b[39;49m\u001b[43m,\u001b[49m\u001b[43m  \u001b[49m\u001b[38;5;241;43m110\u001b[39;49m\u001b[43m,\u001b[49m\u001b[43m  \u001b[49m\u001b[38;5;241;43m111\u001b[39;49m\u001b[43m,\u001b[49m\u001b[43m  \u001b[49m\u001b[38;5;241;43m112\u001b[39;49m\u001b[43m,\u001b[49m\n\u001b[1;32m      4\u001b[0m \u001b[43m         \u001b[49m\u001b[38;5;241;43m114\u001b[39;49m\u001b[43m,\u001b[49m\u001b[43m  \u001b[49m\u001b[38;5;241;43m115\u001b[39;49m\u001b[43m,\u001b[49m\u001b[43m  \u001b[49m\u001b[38;5;241;43m232\u001b[39;49m\u001b[43m,\u001b[49m\u001b[43m  \u001b[49m\u001b[38;5;241;43m250\u001b[39;49m\u001b[43m,\u001b[49m\u001b[43m  \u001b[49m\u001b[38;5;241;43m318\u001b[39;49m\u001b[43m,\u001b[49m\u001b[43m  \u001b[49m\u001b[38;5;241;43m397\u001b[39;49m\u001b[43m,\u001b[49m\u001b[43m  \u001b[49m\u001b[38;5;241;43m411\u001b[39;49m\u001b[43m,\u001b[49m\u001b[43m  \u001b[49m\u001b[38;5;241;43m429\u001b[39;49m\u001b[43m,\u001b[49m\u001b[43m  \u001b[49m\u001b[38;5;241;43m548\u001b[39;49m\u001b[43m,\u001b[49m\u001b[43m  \u001b[49m\u001b[38;5;241;43m587\u001b[39;49m\u001b[43m,\u001b[49m\u001b[43m  \u001b[49m\u001b[38;5;241;43m910\u001b[39;49m\u001b[43m,\u001b[49m\n\u001b[1;32m      5\u001b[0m \u001b[43m         \u001b[49m\u001b[38;5;241;43m914\u001b[39;49m\u001b[43m,\u001b[49m\u001b[43m \u001b[49m\u001b[38;5;241;43m1132\u001b[39;49m\u001b[43m,\u001b[49m\u001b[43m \u001b[49m\u001b[38;5;241;43m1133\u001b[39;49m\u001b[43m,\u001b[49m\u001b[43m \u001b[49m\u001b[38;5;241;43m1136\u001b[39;49m\u001b[43m,\u001b[49m\u001b[43m \u001b[49m\u001b[38;5;241;43m1137\u001b[39;49m\u001b[43m,\u001b[49m\u001b[43m \u001b[49m\u001b[38;5;241;43m1138\u001b[39;49m\u001b[43m,\u001b[49m\u001b[43m \u001b[49m\u001b[38;5;241;43m1140\u001b[39;49m\u001b[43m,\u001b[49m\u001b[43m \u001b[49m\u001b[38;5;241;43m1153\u001b[39;49m\u001b[43m,\u001b[49m\u001b[43m \u001b[49m\u001b[38;5;241;43m1155\u001b[39;49m\u001b[43m,\u001b[49m\u001b[43m \u001b[49m\u001b[38;5;241;43m1165\u001b[39;49m\u001b[43m,\u001b[49m\u001b[43m \u001b[49m\u001b[38;5;241;43m1171\u001b[39;49m\u001b[43m,\u001b[49m\n\u001b[1;32m      6\u001b[0m \u001b[43m        \u001b[49m\u001b[38;5;241;43m1248\u001b[39;49m\u001b[43m,\u001b[49m\u001b[43m \u001b[49m\u001b[38;5;241;43m1640\u001b[39;49m\u001b[43m,\u001b[49m\u001b[43m \u001b[49m\u001b[38;5;241;43m1837\u001b[39;49m\u001b[43m,\u001b[49m\u001b[43m \u001b[49m\u001b[38;5;241;43m1851\u001b[39;49m\u001b[43m,\u001b[49m\u001b[43m \u001b[49m\u001b[38;5;241;43m1863\u001b[39;49m\u001b[43m,\u001b[49m\u001b[43m \u001b[49m\u001b[38;5;241;43m2217\u001b[39;49m\u001b[43m,\u001b[49m\u001b[43m \u001b[49m\u001b[38;5;241;43m2223\u001b[39;49m\u001b[43m]\u001b[49m\n\u001b[1;32m      8\u001b[0m correlation_mat \u001b[38;5;241m=\u001b[39m df_small\u001b[38;5;241m.\u001b[39mcorr()\n\u001b[1;32m     10\u001b[0m sns\u001b[38;5;241m.\u001b[39mheatmap(correlation_mat, annot \u001b[38;5;241m=\u001b[39m \u001b[38;5;28;01mTrue\u001b[39;00m)\n",
      "File \u001b[0;32m~/anaconda3/envs/mlhack/lib/python3.10/site-packages/pandas/core/indexing.py:961\u001b[0m, in \u001b[0;36m_LocationIndexer.__getitem__\u001b[0;34m(self, key)\u001b[0m\n\u001b[1;32m    959\u001b[0m     \u001b[38;5;28;01mif\u001b[39;00m \u001b[38;5;28mself\u001b[39m\u001b[38;5;241m.\u001b[39m_is_scalar_access(key):\n\u001b[1;32m    960\u001b[0m         \u001b[38;5;28;01mreturn\u001b[39;00m \u001b[38;5;28mself\u001b[39m\u001b[38;5;241m.\u001b[39mobj\u001b[38;5;241m.\u001b[39m_get_value(\u001b[38;5;241m*\u001b[39mkey, takeable\u001b[38;5;241m=\u001b[39m\u001b[38;5;28mself\u001b[39m\u001b[38;5;241m.\u001b[39m_takeable)\n\u001b[0;32m--> 961\u001b[0m     \u001b[38;5;28;01mreturn\u001b[39;00m \u001b[38;5;28;43mself\u001b[39;49m\u001b[38;5;241;43m.\u001b[39;49m\u001b[43m_getitem_tuple\u001b[49m\u001b[43m(\u001b[49m\u001b[43mkey\u001b[49m\u001b[43m)\u001b[49m\n\u001b[1;32m    962\u001b[0m \u001b[38;5;28;01melse\u001b[39;00m:\n\u001b[1;32m    963\u001b[0m     \u001b[38;5;66;03m# we by definition only have the 0th axis\u001b[39;00m\n\u001b[1;32m    964\u001b[0m     axis \u001b[38;5;241m=\u001b[39m \u001b[38;5;28mself\u001b[39m\u001b[38;5;241m.\u001b[39maxis \u001b[38;5;129;01mor\u001b[39;00m \u001b[38;5;241m0\u001b[39m\n",
      "File \u001b[0;32m~/anaconda3/envs/mlhack/lib/python3.10/site-packages/pandas/core/indexing.py:1458\u001b[0m, in \u001b[0;36m_iLocIndexer._getitem_tuple\u001b[0;34m(self, tup)\u001b[0m\n\u001b[1;32m   1456\u001b[0m \u001b[38;5;28;01mdef\u001b[39;00m \u001b[38;5;21m_getitem_tuple\u001b[39m(\u001b[38;5;28mself\u001b[39m, tup: \u001b[38;5;28mtuple\u001b[39m):\n\u001b[0;32m-> 1458\u001b[0m     tup \u001b[38;5;241m=\u001b[39m \u001b[38;5;28;43mself\u001b[39;49m\u001b[38;5;241;43m.\u001b[39;49m\u001b[43m_validate_tuple_indexer\u001b[49m\u001b[43m(\u001b[49m\u001b[43mtup\u001b[49m\u001b[43m)\u001b[49m\n\u001b[1;32m   1459\u001b[0m     \u001b[38;5;28;01mwith\u001b[39;00m suppress(IndexingError):\n\u001b[1;32m   1460\u001b[0m         \u001b[38;5;28;01mreturn\u001b[39;00m \u001b[38;5;28mself\u001b[39m\u001b[38;5;241m.\u001b[39m_getitem_lowerdim(tup)\n",
      "File \u001b[0;32m~/anaconda3/envs/mlhack/lib/python3.10/site-packages/pandas/core/indexing.py:765\u001b[0m, in \u001b[0;36m_LocationIndexer._validate_tuple_indexer\u001b[0;34m(self, key)\u001b[0m\n\u001b[1;32m    761\u001b[0m \u001b[38;5;28;01mdef\u001b[39;00m \u001b[38;5;21m_validate_tuple_indexer\u001b[39m(\u001b[38;5;28mself\u001b[39m, key: \u001b[38;5;28mtuple\u001b[39m) \u001b[38;5;241m-\u001b[39m\u001b[38;5;241m>\u001b[39m \u001b[38;5;28mtuple\u001b[39m:\n\u001b[1;32m    762\u001b[0m     \u001b[38;5;124;03m\"\"\"\u001b[39;00m\n\u001b[1;32m    763\u001b[0m \u001b[38;5;124;03m    Check the key for valid keys across my indexer.\u001b[39;00m\n\u001b[1;32m    764\u001b[0m \u001b[38;5;124;03m    \"\"\"\u001b[39;00m\n\u001b[0;32m--> 765\u001b[0m     key \u001b[38;5;241m=\u001b[39m \u001b[38;5;28;43mself\u001b[39;49m\u001b[38;5;241;43m.\u001b[39;49m\u001b[43m_validate_key_length\u001b[49m\u001b[43m(\u001b[49m\u001b[43mkey\u001b[49m\u001b[43m)\u001b[49m\n\u001b[1;32m    766\u001b[0m     key \u001b[38;5;241m=\u001b[39m \u001b[38;5;28mself\u001b[39m\u001b[38;5;241m.\u001b[39m_expand_ellipsis(key)\n\u001b[1;32m    767\u001b[0m     \u001b[38;5;28;01mfor\u001b[39;00m i, k \u001b[38;5;129;01min\u001b[39;00m \u001b[38;5;28menumerate\u001b[39m(key):\n",
      "File \u001b[0;32m~/anaconda3/envs/mlhack/lib/python3.10/site-packages/pandas/core/indexing.py:812\u001b[0m, in \u001b[0;36m_LocationIndexer._validate_key_length\u001b[0;34m(self, key)\u001b[0m\n\u001b[1;32m    810\u001b[0m             \u001b[38;5;28;01mraise\u001b[39;00m IndexingError(_one_ellipsis_message)\n\u001b[1;32m    811\u001b[0m         \u001b[38;5;28;01mreturn\u001b[39;00m \u001b[38;5;28mself\u001b[39m\u001b[38;5;241m.\u001b[39m_validate_key_length(key)\n\u001b[0;32m--> 812\u001b[0m     \u001b[38;5;28;01mraise\u001b[39;00m IndexingError(\u001b[38;5;124m\"\u001b[39m\u001b[38;5;124mToo many indexers\u001b[39m\u001b[38;5;124m\"\u001b[39m)\n\u001b[1;32m    813\u001b[0m \u001b[38;5;28;01mreturn\u001b[39;00m key\n",
      "\u001b[0;31mIndexingError\u001b[0m: Too many indexers"
     ]
    }
   ],
   "source": [
    "#Correlation matrix\n",
    "import seaborn as sns\n",
    "df_small = sol.iloc[  63,   66,   67,   68,   72,   80,  106,  109,  110,  111,  112,\n",
    "         114,  115,  232,  250,  318,  397,  411,  429,  548,  587,  910,\n",
    "         914, 1132, 1133, 1136, 1137, 1138, 1140, 1153, 1155, 1165, 1171,\n",
    "        1248, 1640, 1837, 1851, 1863, 2217, 2223]\n",
    "\n",
    "correlation_mat = df_small.corr()\n",
    "\n",
    "sns.heatmap(correlation_mat, annot = True)\n",
    "plt.show()"
   ]
  },
  {
   "cell_type": "code",
   "execution_count": null,
   "id": "6ef14f54",
   "metadata": {},
   "outputs": [],
   "source": [
    "'\\\"?;.\"'"
   ]
  }
 ],
 "metadata": {
  "kernelspec": {
   "display_name": "Python 3 (ipykernel)",
   "language": "python",
   "name": "python3"
  },
  "language_info": {
   "codemirror_mode": {
    "name": "ipython",
    "version": 3
   },
   "file_extension": ".py",
   "mimetype": "text/x-python",
   "name": "python",
   "nbconvert_exporter": "python",
   "pygments_lexer": "ipython3",
   "version": "3.10.4"
  }
 },
 "nbformat": 4,
 "nbformat_minor": 5
}
